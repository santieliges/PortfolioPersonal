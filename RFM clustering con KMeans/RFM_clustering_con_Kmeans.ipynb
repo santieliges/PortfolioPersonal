{
 "cells": [
  {
   "cell_type": "markdown",
   "metadata": {
    "_cell_guid": "b1076dfc-b9ad-4769-8c92-a6c4dae69d19",
    "_uuid": "8f2839f25d086af736a60e9eeb907d3b93b6e0e5"
   },
   "source": [
    "<center> <h1 style=\"background-color:orange; color:white\"><br>Análisis RFM<br></h1></center>\n",
    "\n",
    "<br>\n",
    "El análisis RFM es un método utilizado para evaluar el valor de los clientes. Es comúnmente empleado en marketing de bases de datos y marketing directo, y ha cobrado especial importancia en los sectores de retail y servicios profesionales.  \n",
    "<br /><br />\n",
    "\n",
    "RFM hace referencia a tres dimensiones clave:<br /><br />\n",
    "\n",
    "<b>- R</b>ecencia – ¿Cuánto tiempo pasó desde la última compra del cliente?<br />\n",
    "<b>- F</b>recuencia – ¿Con qué frecuencia realiza compras el cliente?<br />\n",
    "<b>- M</b>onetario – ¿Cuánto gasta el cliente en total?<br />\n",
    "<br />\n",
    "\n",
    "Las compras de los clientes pueden representarse en una tabla con columnas que incluyan el nombre del cliente, la fecha de compra y el valor de la compra. Un enfoque común para el análisis RFM es asignar una puntuación a cada dimensión en una escala del 1 al 10, donde el valor máximo representa el comportamiento más deseable. Para calcular estas puntuaciones, se pueden emplear diferentes fórmulas. Por ejemplo, en un negocio basado en servicios, se podrían utilizar las siguientes reglas:  \n",
    "<br /><br />\n",
    "\n",
    "<b>- Recencia:</b> Se calcula como el máximo entre \"10 – el número de meses desde la última compra\" y 1.<br />\n",
    "<b>- Frecuencia:</b> Se define como el número de compras realizadas en los últimos 12 meses, con un límite de 10, y se toma el máximo entre este valor y 1.<br />\n",
    "<b>- Valor Monetario:</b> Se calcula tomando el valor más alto de todas las compras realizadas por el cliente, expresado como un múltiplo de un valor de referencia.<br />\n",
    "<br />\n",
    "\n",
    "Otra alternativa es definir categorías en lugar de puntajes numéricos. Por ejemplo, la recencia podría dividirse en tres grupos: clientes que compraron en los últimos 90 días, entre 91 y 365 días, y hace más de 365 días. Estas categorías pueden establecerse mediante reglas de negocio o utilizando técnicas de minería de datos para identificar cortes significativos en la información.  \n",
    "<br /><br />\n",
    "\n",
    "Una vez que cada dimensión tiene categorías bien definidas, se pueden crear segmentos combinando las distintas variables. Si cada atributo tiene tres categorías, la matriz resultante contendría 27 combinaciones posibles (un enfoque comercial ampliamente utilizado emplea cinco categorías por atributo, lo que genera 125 segmentos). En algunos casos, las empresas pueden decidir fusionar ciertos subsegmentos si las diferencias entre ellos son insignificantes.  \n",
    "\n",
    "Los segmentos resultantes pueden ordenarse de mayor a menor valor, donde los clientes con mayor recencia, frecuencia y valor monetario son los más valiosos. Identificar estos segmentos permite aprovechar patrones ocultos en los datos, por lo que se recomienda validar los resultados con un conjunto de datos independiente.  \n",
    "\n",
    "Los defensores del análisis RFM destacan su simplicidad: no requiere software estadístico especializado y sus resultados son fácilmente interpretables por equipos de negocio. En ausencia de otras técnicas de segmentación, este método puede mejorar las tasas de respuesta en campañas promocionales.\n",
    "<br /><br />\n",
    "\n",
    "\n",
    "\n",
    "\n",
    "<center> <h1 style=\"background-color:orange; color:white\"><br>Detalles del Conjunto de Datos<br></h1></center>\n",
    "\n",
    "<br>\n",
    "Un e-commerce busca segmentar a sus clientes y definir estrategias de marketing basadas en estos segmentos. Para ello, analizaremos el comportamiento de los clientes y crearemos grupos utilizando knn como tecnica de cluster. En otras palabras, agruparemos a los clientes con patrones de comportamiento similares y diseñaremos estrategias de ventas y marketing personalizadas para cada grupo.\n",
    "<br><br>\n",
    "\n",
    "<p>\n",
    "- <b>InvoiceNo:</b> Número de factura. Nominal. Es un número entero de 6 dígitos asignado de manera única a cada transacción. Si el código comienza con la letra 'C', indica una cancelación.<br />\n",
    "- <b>StockCode:</b> Código de producto (item). Nominal. Es un número entero de 5 dígitos asignado de manera única a cada producto.<br />\n",
    "- <b>Description:</b> Nombre del producto (item). Nominal.<br />\n",
    "- <b>Quantity:</b> Cantidad de unidades de cada producto por transacción. Numérico.<br />\n",
    "- <b>InvoiceDate:</b> Fecha y hora de la factura. Numérico. Indica el día y la hora en que se generó una transacción.<br />\n",
    "- <b>UnitPrice:</b> Precio unitario. Numérico. Representa el precio de cada producto en libras esterlinas (£).<br />\n",
    "- <b>CustomerID:</b> Número de cliente. Nominal. Es un número entero de 5 dígitos asignado de manera única a cada cliente.<br />\n",
    "- <b>Country:</b> País. Nominal. Indica el país de residencia del cliente.<br />\n",
    "</p>\n",
    "\n"
   ]
  },
  {
   "cell_type": "markdown",
   "metadata": {},
   "source": [
    "<a id='1'></a><center> <h1 style=\"background-color:orange; color:white\" ><br>Exploratory Data Analysis<br></h1>"
   ]
  },
  {
   "cell_type": "code",
   "execution_count": 63,
   "metadata": {
    "execution": {
     "iopub.execute_input": "2025-02-12T03:59:32.607087Z",
     "iopub.status.busy": "2025-02-12T03:59:32.606743Z",
     "iopub.status.idle": "2025-02-12T03:59:33.986961Z",
     "shell.execute_reply": "2025-02-12T03:59:33.986111Z",
     "shell.execute_reply.started": "2025-02-12T03:59:32.606982Z"
    },
    "trusted": true
   },
   "outputs": [],
   "source": [
    "import pandas as pd\n",
    "import numpy as np\n",
    "import seaborn as sns\n",
    "import datetime as dt\n",
    "import matplotlib.pyplot as plt\n",
    "from sklearn.cluster import KMeans\n",
    "from sklearn.preprocessing import MinMaxScaler\n",
    "import warnings\n",
    "\n",
    "pd.set_option('display.float_format', lambda x: '%.2f' % x)"
   ]
  },
  {
   "cell_type": "code",
   "execution_count": 64,
   "metadata": {
    "execution": {
     "iopub.execute_input": "2021-09-25T21:36:27.00886Z",
     "iopub.status.busy": "2021-09-25T21:36:27.008619Z",
     "iopub.status.idle": "2021-09-25T21:36:29.246318Z",
     "shell.execute_reply": "2021-09-25T21:36:29.245246Z",
     "shell.execute_reply.started": "2021-09-25T21:36:27.008838Z"
    },
    "trusted": true
   },
   "outputs": [],
   "source": [
    "df = pd.read_csv(\"online_retail_listing.csv\",delimiter=';',encoding=\"latin-1\")"
   ]
  },
  {
   "cell_type": "code",
   "execution_count": 65,
   "metadata": {
    "execution": {
     "iopub.execute_input": "2021-09-25T21:36:30.745864Z",
     "iopub.status.busy": "2021-09-25T21:36:30.745563Z",
     "iopub.status.idle": "2021-09-25T21:36:30.769782Z",
     "shell.execute_reply": "2021-09-25T21:36:30.768559Z",
     "shell.execute_reply.started": "2021-09-25T21:36:30.745839Z"
    },
    "trusted": true
   },
   "outputs": [
    {
     "data": {
      "text/html": [
       "<div>\n",
       "<style scoped>\n",
       "    .dataframe tbody tr th:only-of-type {\n",
       "        vertical-align: middle;\n",
       "    }\n",
       "\n",
       "    .dataframe tbody tr th {\n",
       "        vertical-align: top;\n",
       "    }\n",
       "\n",
       "    .dataframe thead th {\n",
       "        text-align: right;\n",
       "    }\n",
       "</style>\n",
       "<table border=\"1\" class=\"dataframe\">\n",
       "  <thead>\n",
       "    <tr style=\"text-align: right;\">\n",
       "      <th></th>\n",
       "      <th>Invoice</th>\n",
       "      <th>StockCode</th>\n",
       "      <th>Description</th>\n",
       "      <th>Quantity</th>\n",
       "      <th>InvoiceDate</th>\n",
       "      <th>Price</th>\n",
       "      <th>Customer ID</th>\n",
       "      <th>Country</th>\n",
       "    </tr>\n",
       "  </thead>\n",
       "  <tbody>\n",
       "    <tr>\n",
       "      <th>0</th>\n",
       "      <td>489434</td>\n",
       "      <td>85048</td>\n",
       "      <td>15CM CHRISTMAS GLASS BALL 20 LIGHTS</td>\n",
       "      <td>12</td>\n",
       "      <td>1.12.2009 07:45</td>\n",
       "      <td>6,95</td>\n",
       "      <td>13085.00</td>\n",
       "      <td>United Kingdom</td>\n",
       "    </tr>\n",
       "    <tr>\n",
       "      <th>1</th>\n",
       "      <td>489434</td>\n",
       "      <td>79323P</td>\n",
       "      <td>PINK CHERRY LIGHTS</td>\n",
       "      <td>12</td>\n",
       "      <td>1.12.2009 07:45</td>\n",
       "      <td>6,75</td>\n",
       "      <td>13085.00</td>\n",
       "      <td>United Kingdom</td>\n",
       "    </tr>\n",
       "    <tr>\n",
       "      <th>2</th>\n",
       "      <td>489434</td>\n",
       "      <td>79323W</td>\n",
       "      <td>WHITE CHERRY LIGHTS</td>\n",
       "      <td>12</td>\n",
       "      <td>1.12.2009 07:45</td>\n",
       "      <td>6,75</td>\n",
       "      <td>13085.00</td>\n",
       "      <td>United Kingdom</td>\n",
       "    </tr>\n",
       "    <tr>\n",
       "      <th>3</th>\n",
       "      <td>489434</td>\n",
       "      <td>22041</td>\n",
       "      <td>RECORD FRAME 7\" SINGLE SIZE</td>\n",
       "      <td>48</td>\n",
       "      <td>1.12.2009 07:45</td>\n",
       "      <td>2,1</td>\n",
       "      <td>13085.00</td>\n",
       "      <td>United Kingdom</td>\n",
       "    </tr>\n",
       "    <tr>\n",
       "      <th>4</th>\n",
       "      <td>489434</td>\n",
       "      <td>21232</td>\n",
       "      <td>STRAWBERRY CERAMIC TRINKET BOX</td>\n",
       "      <td>24</td>\n",
       "      <td>1.12.2009 07:45</td>\n",
       "      <td>1,25</td>\n",
       "      <td>13085.00</td>\n",
       "      <td>United Kingdom</td>\n",
       "    </tr>\n",
       "  </tbody>\n",
       "</table>\n",
       "</div>"
      ],
      "text/plain": [
       "  Invoice StockCode                          Description  Quantity  \\\n",
       "0  489434     85048  15CM CHRISTMAS GLASS BALL 20 LIGHTS        12   \n",
       "1  489434    79323P                   PINK CHERRY LIGHTS        12   \n",
       "2  489434    79323W                  WHITE CHERRY LIGHTS        12   \n",
       "3  489434     22041         RECORD FRAME 7\" SINGLE SIZE         48   \n",
       "4  489434     21232       STRAWBERRY CERAMIC TRINKET BOX        24   \n",
       "\n",
       "       InvoiceDate Price  Customer ID         Country  \n",
       "0  1.12.2009 07:45  6,95     13085.00  United Kingdom  \n",
       "1  1.12.2009 07:45  6,75     13085.00  United Kingdom  \n",
       "2  1.12.2009 07:45  6,75     13085.00  United Kingdom  \n",
       "3  1.12.2009 07:45   2,1     13085.00  United Kingdom  \n",
       "4  1.12.2009 07:45  1,25     13085.00  United Kingdom  "
      ]
     },
     "execution_count": 65,
     "metadata": {},
     "output_type": "execute_result"
    }
   ],
   "source": [
    "df.head()"
   ]
  },
  {
   "cell_type": "code",
   "execution_count": 66,
   "metadata": {
    "execution": {
     "iopub.execute_input": "2021-09-25T21:36:34.498782Z",
     "iopub.status.busy": "2021-09-25T21:36:34.498528Z",
     "iopub.status.idle": "2021-09-25T21:36:34.50695Z",
     "shell.execute_reply": "2021-09-25T21:36:34.504871Z",
     "shell.execute_reply.started": "2021-09-25T21:36:34.49876Z"
    },
    "trusted": true
   },
   "outputs": [
    {
     "data": {
      "text/plain": [
       "(1048575, 8)"
      ]
     },
     "execution_count": 66,
     "metadata": {},
     "output_type": "execute_result"
    }
   ],
   "source": [
    "df.shape"
   ]
  },
  {
   "cell_type": "code",
   "execution_count": 67,
   "metadata": {
    "execution": {
     "iopub.execute_input": "2021-09-25T21:36:38.221107Z",
     "iopub.status.busy": "2021-09-25T21:36:38.220831Z",
     "iopub.status.idle": "2021-09-25T21:36:38.481569Z",
     "shell.execute_reply": "2021-09-25T21:36:38.48052Z",
     "shell.execute_reply.started": "2021-09-25T21:36:38.221083Z"
    },
    "trusted": true
   },
   "outputs": [
    {
     "name": "stdout",
     "output_type": "stream",
     "text": [
      "<class 'pandas.core.frame.DataFrame'>\n",
      "RangeIndex: 1048575 entries, 0 to 1048574\n",
      "Data columns (total 8 columns):\n",
      " #   Column       Non-Null Count    Dtype  \n",
      "---  ------       --------------    -----  \n",
      " 0   Invoice      1048575 non-null  object \n",
      " 1   StockCode    1048575 non-null  object \n",
      " 2   Description  1044203 non-null  object \n",
      " 3   Quantity     1048575 non-null  int64  \n",
      " 4   InvoiceDate  1048575 non-null  object \n",
      " 5   Price        1048575 non-null  object \n",
      " 6   Customer ID  811893 non-null   float64\n",
      " 7   Country      1048575 non-null  object \n",
      "dtypes: float64(1), int64(1), object(6)\n",
      "memory usage: 64.0+ MB\n"
     ]
    }
   ],
   "source": [
    "df.info()"
   ]
  },
  {
   "cell_type": "code",
   "execution_count": 68,
   "metadata": {},
   "outputs": [],
   "source": [
    "df['Price'] = df['Price'].apply(lambda x: float(str(x.replace(',','.'))))\n"
   ]
  },
  {
   "cell_type": "code",
   "execution_count": 69,
   "metadata": {},
   "outputs": [],
   "source": [
    "df[\"TotalPrice\"] = df[\"Quantity\"]*df[\"Price\"]"
   ]
  },
  {
   "cell_type": "code",
   "execution_count": 70,
   "metadata": {
    "execution": {
     "iopub.execute_input": "2021-09-25T21:37:30.039761Z",
     "iopub.status.busy": "2021-09-25T21:37:30.039499Z",
     "iopub.status.idle": "2021-09-25T21:37:30.276223Z",
     "shell.execute_reply": "2021-09-25T21:37:30.27526Z",
     "shell.execute_reply.started": "2021-09-25T21:37:30.039738Z"
    },
    "trusted": true
   },
   "outputs": [
    {
     "data": {
      "text/plain": [
       "Invoice             0\n",
       "StockCode           0\n",
       "Description      4372\n",
       "Quantity            0\n",
       "InvoiceDate         0\n",
       "Price               0\n",
       "Customer ID    236682\n",
       "Country             0\n",
       "TotalPrice          0\n",
       "dtype: int64"
      ]
     },
     "execution_count": 70,
     "metadata": {},
     "output_type": "execute_result"
    }
   ],
   "source": [
    "df.isnull().sum()"
   ]
  },
  {
   "cell_type": "code",
   "execution_count": 71,
   "metadata": {
    "execution": {
     "iopub.execute_input": "2021-09-25T21:37:35.714208Z",
     "iopub.status.busy": "2021-09-25T21:37:35.712733Z",
     "iopub.status.idle": "2021-09-25T21:37:36.177633Z",
     "shell.execute_reply": "2021-09-25T21:37:36.176825Z",
     "shell.execute_reply.started": "2021-09-25T21:37:35.714141Z"
    },
    "trusted": true
   },
   "outputs": [
    {
     "data": {
      "text/plain": [
       "Invoice        0\n",
       "StockCode      0\n",
       "Description    0\n",
       "Quantity       0\n",
       "InvoiceDate    0\n",
       "Price          0\n",
       "Customer ID    0\n",
       "Country        0\n",
       "TotalPrice     0\n",
       "dtype: int64"
      ]
     },
     "execution_count": 71,
     "metadata": {},
     "output_type": "execute_result"
    }
   ],
   "source": [
    "df.dropna(inplace = True)\n",
    "df.isnull().sum()"
   ]
  },
  {
   "cell_type": "code",
   "execution_count": 72,
   "metadata": {
    "execution": {
     "iopub.execute_input": "2021-09-25T21:37:48.635861Z",
     "iopub.status.busy": "2021-09-25T21:37:48.63556Z",
     "iopub.status.idle": "2021-09-25T21:37:48.718651Z",
     "shell.execute_reply": "2021-09-25T21:37:48.717215Z",
     "shell.execute_reply.started": "2021-09-25T21:37:48.635837Z"
    },
    "trusted": true
   },
   "outputs": [
    {
     "name": "stdout",
     "output_type": "stream",
     "text": [
      "Quantity yes\n",
      "2142\n",
      "Price yes\n",
      "1789\n",
      "TotalPrice yes\n",
      "2113\n"
     ]
    }
   ],
   "source": [
    "for feature in [\"Quantity\",\"Price\",\"TotalPrice\"]:\n",
    "\n",
    "    Q1 = df[feature].quantile(0.01)\n",
    "    Q3 = df[feature].quantile(0.99)\n",
    "    IQR = Q3-Q1\n",
    "    upper = Q3 + 1.5*IQR\n",
    "    lower = Q1 - 1.5*IQR\n",
    "\n",
    "    if df[(df[feature] > upper) | (df[feature] < lower)].any(axis=None):\n",
    "        print(feature,\"yes\")\n",
    "        print(df[(df[feature] > upper) | (df[feature] < lower)].shape[0])\n",
    "    else:\n",
    "        print(feature, \"no\")"
   ]
  },
  {
   "cell_type": "markdown",
   "metadata": {},
   "source": [
    "<a id='4'></a><center> <h1 style=\"background-color:orange; color:white\" ><br>Recency - R<br></h1>"
   ]
  },
  {
   "cell_type": "code",
   "execution_count": 73,
   "metadata": {
    "execution": {
     "iopub.execute_input": "2021-09-25T21:38:00.113703Z",
     "iopub.status.busy": "2021-09-25T21:38:00.113452Z",
     "iopub.status.idle": "2021-09-25T21:38:00.493423Z",
     "shell.execute_reply": "2021-09-25T21:38:00.492712Z",
     "shell.execute_reply.started": "2021-09-25T21:38:00.11368Z"
    },
    "trusted": true
   },
   "outputs": [],
   "source": [
    "df = df[~df[\"Invoice\"].str.contains(\"C\", na = False)]\n",
    "df[\"Customer ID\"] = df[\"Customer ID\"].astype(int)"
   ]
  },
  {
   "cell_type": "code",
   "execution_count": 74,
   "metadata": {
    "execution": {
     "iopub.execute_input": "2021-09-25T21:38:03.553295Z",
     "iopub.status.busy": "2021-09-25T21:38:03.552478Z",
     "iopub.status.idle": "2021-09-25T21:38:03.653104Z",
     "shell.execute_reply": "2021-09-25T21:38:03.651581Z",
     "shell.execute_reply.started": "2021-09-25T21:38:03.553259Z"
    },
    "trusted": true
   },
   "outputs": [
    {
     "name": "stdout",
     "output_type": "stream",
     "text": [
      "Min Date 1.02.2010 08:13 Max Date 9.12.2010 20:01\n"
     ]
    },
    {
     "ename": "TypeError",
     "evalue": "unsupported operand type(s) for -: 'datetime.datetime' and 'str'",
     "output_type": "error",
     "traceback": [
      "\u001b[1;31m---------------------------------------------------------------------------\u001b[0m",
      "\u001b[1;31mTypeError\u001b[0m                                 Traceback (most recent call last)",
      "Cell \u001b[1;32mIn[74], line 2\u001b[0m\n\u001b[0;32m      1\u001b[0m \u001b[38;5;28mprint\u001b[39m(\u001b[38;5;124m\"\u001b[39m\u001b[38;5;124mMin Date\u001b[39m\u001b[38;5;124m\"\u001b[39m, df[\u001b[38;5;124m\"\u001b[39m\u001b[38;5;124mInvoiceDate\u001b[39m\u001b[38;5;124m\"\u001b[39m]\u001b[38;5;241m.\u001b[39mmin(), \u001b[38;5;124m\"\u001b[39m\u001b[38;5;124mMax Date\u001b[39m\u001b[38;5;124m\"\u001b[39m, df[\u001b[38;5;124m\"\u001b[39m\u001b[38;5;124mInvoiceDate\u001b[39m\u001b[38;5;124m\"\u001b[39m]\u001b[38;5;241m.\u001b[39mmax())\n\u001b[1;32m----> 2\u001b[0m \u001b[43mdt\u001b[49m\u001b[38;5;241;43m.\u001b[39;49m\u001b[43mdatetime\u001b[49m\u001b[43m(\u001b[49m\u001b[38;5;241;43m2011\u001b[39;49m\u001b[43m,\u001b[49m\u001b[43m \u001b[49m\u001b[38;5;241;43m12\u001b[39;49m\u001b[43m,\u001b[49m\u001b[43m \u001b[49m\u001b[38;5;241;43m11\u001b[39;49m\u001b[43m)\u001b[49m\u001b[43m \u001b[49m\u001b[38;5;241;43m-\u001b[39;49m\u001b[43m \u001b[49m\u001b[43mdf\u001b[49m\u001b[43m[\u001b[49m\u001b[38;5;124;43m\"\u001b[39;49m\u001b[38;5;124;43mInvoiceDate\u001b[39;49m\u001b[38;5;124;43m\"\u001b[39;49m\u001b[43m]\u001b[49m\u001b[38;5;241;43m.\u001b[39;49m\u001b[43mmax\u001b[49m\u001b[43m(\u001b[49m\u001b[43m)\u001b[49m\n",
      "\u001b[1;31mTypeError\u001b[0m: unsupported operand type(s) for -: 'datetime.datetime' and 'str'"
     ]
    }
   ],
   "source": [
    "print(\"Min Date\", df[\"InvoiceDate\"].min(), \"Max Date\", df[\"InvoiceDate\"].max())\n",
    "dt.datetime(2011, 12, 11) - df[\"InvoiceDate\"].max()"
   ]
  },
  {
   "cell_type": "code",
   "execution_count": null,
   "metadata": {
    "execution": {
     "iopub.execute_input": "2021-09-25T21:38:07.303885Z",
     "iopub.status.busy": "2021-09-25T21:38:07.303648Z",
     "iopub.status.idle": "2021-09-25T21:38:10.592978Z",
     "shell.execute_reply": "2021-09-25T21:38:10.591288Z",
     "shell.execute_reply.started": "2021-09-25T21:38:07.303863Z"
    },
    "trusted": true
   },
   "outputs": [
    {
     "data": {
      "text/html": [
       "<div>\n",
       "<style scoped>\n",
       "    .dataframe tbody tr th:only-of-type {\n",
       "        vertical-align: middle;\n",
       "    }\n",
       "\n",
       "    .dataframe tbody tr th {\n",
       "        vertical-align: top;\n",
       "    }\n",
       "\n",
       "    .dataframe thead th {\n",
       "        text-align: right;\n",
       "    }\n",
       "</style>\n",
       "<table border=\"1\" class=\"dataframe\">\n",
       "  <thead>\n",
       "    <tr style=\"text-align: right;\">\n",
       "      <th></th>\n",
       "      <th>Recency</th>\n",
       "    </tr>\n",
       "    <tr>\n",
       "      <th>Customer ID</th>\n",
       "      <th></th>\n",
       "    </tr>\n",
       "  </thead>\n",
       "  <tbody>\n",
       "    <tr>\n",
       "      <th>12346</th>\n",
       "      <td>326</td>\n",
       "    </tr>\n",
       "    <tr>\n",
       "      <th>12347</th>\n",
       "      <td>40</td>\n",
       "    </tr>\n",
       "    <tr>\n",
       "      <th>12348</th>\n",
       "      <td>76</td>\n",
       "    </tr>\n",
       "    <tr>\n",
       "      <th>12349</th>\n",
       "      <td>19</td>\n",
       "    </tr>\n",
       "    <tr>\n",
       "      <th>12350</th>\n",
       "      <td>311</td>\n",
       "    </tr>\n",
       "  </tbody>\n",
       "</table>\n",
       "</div>"
      ],
      "text/plain": [
       "             Recency\n",
       "Customer ID         \n",
       "12346            326\n",
       "12347             40\n",
       "12348             76\n",
       "12349             19\n",
       "12350            311"
      ]
     },
     "execution_count": 28,
     "metadata": {},
     "output_type": "execute_result"
    }
   ],
   "source": [
    "df[\"InvoiceDate\"] = pd.to_datetime(df[\"InvoiceDate\"])\n",
    "recency = (dt.datetime(2011, 12, 11) - df.groupby(\"Customer ID\").agg({\"InvoiceDate\":\"max\"})).rename(columns = {\"InvoiceDate\":\"Recency\"})\n",
    "recency[\"Recency\"] = recency[\"Recency\"].apply(lambda x: x.days)\n",
    "recency.head()"
   ]
  },
  {
   "cell_type": "markdown",
   "metadata": {},
   "source": [
    "<a id='5'></a><center> <h1 style=\"background-color:orange; color:white\" ><br>Frequency - F<br></h1>"
   ]
  },
  {
   "cell_type": "code",
   "execution_count": null,
   "metadata": {
    "execution": {
     "iopub.execute_input": "2021-09-25T21:38:20.707905Z",
     "iopub.status.busy": "2021-09-25T21:38:20.707666Z",
     "iopub.status.idle": "2021-09-25T21:38:20.777046Z",
     "shell.execute_reply": "2021-09-25T21:38:20.776177Z",
     "shell.execute_reply.started": "2021-09-25T21:38:20.707883Z"
    },
    "trusted": true
   },
   "outputs": [
    {
     "data": {
      "text/html": [
       "<div>\n",
       "<style scoped>\n",
       "    .dataframe tbody tr th:only-of-type {\n",
       "        vertical-align: middle;\n",
       "    }\n",
       "\n",
       "    .dataframe tbody tr th {\n",
       "        vertical-align: top;\n",
       "    }\n",
       "\n",
       "    .dataframe thead th {\n",
       "        text-align: right;\n",
       "    }\n",
       "</style>\n",
       "<table border=\"1\" class=\"dataframe\">\n",
       "  <thead>\n",
       "    <tr style=\"text-align: right;\">\n",
       "      <th></th>\n",
       "      <th>Frequency</th>\n",
       "    </tr>\n",
       "    <tr>\n",
       "      <th>Customer ID</th>\n",
       "      <th></th>\n",
       "    </tr>\n",
       "  </thead>\n",
       "  <tbody>\n",
       "    <tr>\n",
       "      <th>12346</th>\n",
       "      <td>12</td>\n",
       "    </tr>\n",
       "    <tr>\n",
       "      <th>12347</th>\n",
       "      <td>7</td>\n",
       "    </tr>\n",
       "    <tr>\n",
       "      <th>12348</th>\n",
       "      <td>5</td>\n",
       "    </tr>\n",
       "    <tr>\n",
       "      <th>12349</th>\n",
       "      <td>4</td>\n",
       "    </tr>\n",
       "    <tr>\n",
       "      <th>12350</th>\n",
       "      <td>1</td>\n",
       "    </tr>\n",
       "  </tbody>\n",
       "</table>\n",
       "</div>"
      ],
      "text/plain": [
       "             Frequency\n",
       "Customer ID           \n",
       "12346               12\n",
       "12347                7\n",
       "12348                5\n",
       "12349                4\n",
       "12350                1"
      ]
     },
     "execution_count": 30,
     "metadata": {},
     "output_type": "execute_result"
    }
   ],
   "source": [
    "freq = df.groupby(\"Customer ID\").agg({\"InvoiceDate\":\"nunique\"}).rename(columns={\"InvoiceDate\": \"Frequency\"})\n",
    "freq.head()"
   ]
  },
  {
   "cell_type": "markdown",
   "metadata": {},
   "source": [
    "<a id='6'></a><center> <h1 style=\"background-color:orange; color:white\" ><br>Monetary - M<br></h1>"
   ]
  },
  {
   "cell_type": "code",
   "execution_count": 31,
   "metadata": {
    "execution": {
     "iopub.execute_input": "2021-09-25T21:38:46.770846Z",
     "iopub.status.busy": "2021-09-25T21:38:46.770559Z",
     "iopub.status.idle": "2021-09-25T21:38:46.797086Z",
     "shell.execute_reply": "2021-09-25T21:38:46.796049Z",
     "shell.execute_reply.started": "2021-09-25T21:38:46.770817Z"
    },
    "trusted": true
   },
   "outputs": [
    {
     "data": {
      "text/html": [
       "<div>\n",
       "<style scoped>\n",
       "    .dataframe tbody tr th:only-of-type {\n",
       "        vertical-align: middle;\n",
       "    }\n",
       "\n",
       "    .dataframe tbody tr th {\n",
       "        vertical-align: top;\n",
       "    }\n",
       "\n",
       "    .dataframe thead th {\n",
       "        text-align: right;\n",
       "    }\n",
       "</style>\n",
       "<table border=\"1\" class=\"dataframe\">\n",
       "  <thead>\n",
       "    <tr style=\"text-align: right;\">\n",
       "      <th></th>\n",
       "      <th>Monetary</th>\n",
       "    </tr>\n",
       "    <tr>\n",
       "      <th>Customer ID</th>\n",
       "      <th></th>\n",
       "    </tr>\n",
       "  </thead>\n",
       "  <tbody>\n",
       "    <tr>\n",
       "      <th>12346</th>\n",
       "      <td>77556.46</td>\n",
       "    </tr>\n",
       "    <tr>\n",
       "      <th>12347</th>\n",
       "      <td>5408.50</td>\n",
       "    </tr>\n",
       "    <tr>\n",
       "      <th>12348</th>\n",
       "      <td>2019.40</td>\n",
       "    </tr>\n",
       "    <tr>\n",
       "      <th>12349</th>\n",
       "      <td>4428.69</td>\n",
       "    </tr>\n",
       "    <tr>\n",
       "      <th>12350</th>\n",
       "      <td>334.40</td>\n",
       "    </tr>\n",
       "  </tbody>\n",
       "</table>\n",
       "</div>"
      ],
      "text/plain": [
       "             Monetary\n",
       "Customer ID          \n",
       "12346        77556.46\n",
       "12347         5408.50\n",
       "12348         2019.40\n",
       "12349         4428.69\n",
       "12350          334.40"
      ]
     },
     "execution_count": 31,
     "metadata": {},
     "output_type": "execute_result"
    }
   ],
   "source": [
    "monetary = df.groupby(\"Customer ID\").agg({\"TotalPrice\":\"sum\"}).rename(columns={\"TotalPrice\":\"Monetary\"})\n",
    "monetary.head()"
   ]
  },
  {
   "cell_type": "markdown",
   "metadata": {},
   "source": [
    "<a id='7'></a><center> <h1 style=\"background-color:orange; color:white\" ><br>Create RFM Score<br></h1>"
   ]
  },
  {
   "cell_type": "code",
   "execution_count": 32,
   "metadata": {
    "execution": {
     "iopub.execute_input": "2021-09-25T21:39:15.923111Z",
     "iopub.status.busy": "2021-09-25T21:39:15.922024Z",
     "iopub.status.idle": "2021-09-25T21:39:15.933372Z",
     "shell.execute_reply": "2021-09-25T21:39:15.932305Z",
     "shell.execute_reply.started": "2021-09-25T21:39:15.923052Z"
    },
    "trusted": true
   },
   "outputs": [
    {
     "data": {
      "text/html": [
       "<div>\n",
       "<style scoped>\n",
       "    .dataframe tbody tr th:only-of-type {\n",
       "        vertical-align: middle;\n",
       "    }\n",
       "\n",
       "    .dataframe tbody tr th {\n",
       "        vertical-align: top;\n",
       "    }\n",
       "\n",
       "    .dataframe thead th {\n",
       "        text-align: right;\n",
       "    }\n",
       "</style>\n",
       "<table border=\"1\" class=\"dataframe\">\n",
       "  <thead>\n",
       "    <tr style=\"text-align: right;\">\n",
       "      <th></th>\n",
       "      <th>Recency</th>\n",
       "      <th>Frequency</th>\n",
       "      <th>Monetary</th>\n",
       "    </tr>\n",
       "    <tr>\n",
       "      <th>Customer ID</th>\n",
       "      <th></th>\n",
       "      <th></th>\n",
       "      <th></th>\n",
       "    </tr>\n",
       "  </thead>\n",
       "  <tbody>\n",
       "    <tr>\n",
       "      <th>12346</th>\n",
       "      <td>326</td>\n",
       "      <td>12</td>\n",
       "      <td>77556.46</td>\n",
       "    </tr>\n",
       "    <tr>\n",
       "      <th>12347</th>\n",
       "      <td>40</td>\n",
       "      <td>7</td>\n",
       "      <td>5408.50</td>\n",
       "    </tr>\n",
       "    <tr>\n",
       "      <th>12348</th>\n",
       "      <td>76</td>\n",
       "      <td>5</td>\n",
       "      <td>2019.40</td>\n",
       "    </tr>\n",
       "    <tr>\n",
       "      <th>12349</th>\n",
       "      <td>19</td>\n",
       "      <td>4</td>\n",
       "      <td>4428.69</td>\n",
       "    </tr>\n",
       "    <tr>\n",
       "      <th>12350</th>\n",
       "      <td>311</td>\n",
       "      <td>1</td>\n",
       "      <td>334.40</td>\n",
       "    </tr>\n",
       "  </tbody>\n",
       "</table>\n",
       "</div>"
      ],
      "text/plain": [
       "             Recency  Frequency  Monetary\n",
       "Customer ID                              \n",
       "12346            326         12  77556.46\n",
       "12347             40          7   5408.50\n",
       "12348             76          5   2019.40\n",
       "12349             19          4   4428.69\n",
       "12350            311          1    334.40"
      ]
     },
     "execution_count": 32,
     "metadata": {},
     "output_type": "execute_result"
    }
   ],
   "source": [
    "rfm = pd.concat([recency, freq, monetary],  axis=1)\n",
    "rfm.head()"
   ]
  },
  {
   "cell_type": "code",
   "execution_count": null,
   "metadata": {
    "execution": {
     "iopub.execute_input": "2021-09-25T21:39:20.835028Z",
     "iopub.status.busy": "2021-09-25T21:39:20.834719Z",
     "iopub.status.idle": "2021-09-25T21:39:20.868283Z",
     "shell.execute_reply": "2021-09-25T21:39:20.867308Z",
     "shell.execute_reply.started": "2021-09-25T21:39:20.834999Z"
    },
    "trusted": true
   },
   "outputs": [
    {
     "data": {
      "text/html": [
       "<div>\n",
       "<style scoped>\n",
       "    .dataframe tbody tr th:only-of-type {\n",
       "        vertical-align: middle;\n",
       "    }\n",
       "\n",
       "    .dataframe tbody tr th {\n",
       "        vertical-align: top;\n",
       "    }\n",
       "\n",
       "    .dataframe thead th {\n",
       "        text-align: right;\n",
       "    }\n",
       "</style>\n",
       "<table border=\"1\" class=\"dataframe\">\n",
       "  <thead>\n",
       "    <tr style=\"text-align: right;\">\n",
       "      <th></th>\n",
       "      <th>Recency</th>\n",
       "      <th>Frequency</th>\n",
       "      <th>Monetary</th>\n",
       "      <th>RecencyScore</th>\n",
       "      <th>FrequencyScore</th>\n",
       "      <th>MonetaryScore</th>\n",
       "    </tr>\n",
       "    <tr>\n",
       "      <th>Customer ID</th>\n",
       "      <th></th>\n",
       "      <th></th>\n",
       "      <th></th>\n",
       "      <th></th>\n",
       "      <th></th>\n",
       "      <th></th>\n",
       "    </tr>\n",
       "  </thead>\n",
       "  <tbody>\n",
       "    <tr>\n",
       "      <th>12346</th>\n",
       "      <td>326</td>\n",
       "      <td>12</td>\n",
       "      <td>77556.46</td>\n",
       "      <td>2</td>\n",
       "      <td>5</td>\n",
       "      <td>5</td>\n",
       "    </tr>\n",
       "    <tr>\n",
       "      <th>12347</th>\n",
       "      <td>40</td>\n",
       "      <td>7</td>\n",
       "      <td>5408.50</td>\n",
       "      <td>4</td>\n",
       "      <td>4</td>\n",
       "      <td>5</td>\n",
       "    </tr>\n",
       "    <tr>\n",
       "      <th>12348</th>\n",
       "      <td>76</td>\n",
       "      <td>5</td>\n",
       "      <td>2019.40</td>\n",
       "      <td>3</td>\n",
       "      <td>4</td>\n",
       "      <td>4</td>\n",
       "    </tr>\n",
       "    <tr>\n",
       "      <th>12349</th>\n",
       "      <td>19</td>\n",
       "      <td>4</td>\n",
       "      <td>4428.69</td>\n",
       "      <td>5</td>\n",
       "      <td>3</td>\n",
       "      <td>5</td>\n",
       "    </tr>\n",
       "    <tr>\n",
       "      <th>12350</th>\n",
       "      <td>311</td>\n",
       "      <td>1</td>\n",
       "      <td>334.40</td>\n",
       "      <td>2</td>\n",
       "      <td>1</td>\n",
       "      <td>2</td>\n",
       "    </tr>\n",
       "  </tbody>\n",
       "</table>\n",
       "</div>"
      ],
      "text/plain": [
       "             Recency  Frequency  Monetary RecencyScore FrequencyScore  \\\n",
       "Customer ID                                                             \n",
       "12346            326         12  77556.46            2              5   \n",
       "12347             40          7   5408.50            4              4   \n",
       "12348             76          5   2019.40            3              4   \n",
       "12349             19          4   4428.69            5              3   \n",
       "12350            311          1    334.40            2              1   \n",
       "\n",
       "            MonetaryScore  \n",
       "Customer ID                \n",
       "12346                   5  \n",
       "12347                   5  \n",
       "12348                   4  \n",
       "12349                   5  \n",
       "12350                   2  "
      ]
     },
     "execution_count": 33,
     "metadata": {},
     "output_type": "execute_result"
    }
   ],
   "source": [
    "rfm[\"RecencyScore\"]  = pd.qcut(rfm[\"Recency\"], 5, labels = [5, 4 , 3, 2, 1])\n",
    "rfm[\"FrequencyScore\"]= pd.qcut(rfm[\"Frequency\"].rank(method=\"first\"),5, labels=[1,2,3,4,5])\n",
    "rfm[\"MonetaryScore\"] = pd.qcut(rfm['Monetary'], 5, labels = [1, 2, 3, 4, 5])\n",
    "rfm.head()"
   ]
  },
  {
   "cell_type": "code",
   "execution_count": 35,
   "metadata": {
    "execution": {
     "iopub.execute_input": "2021-09-25T21:39:25.863499Z",
     "iopub.status.busy": "2021-09-25T21:39:25.863213Z",
     "iopub.status.idle": "2021-09-25T21:39:25.882535Z",
     "shell.execute_reply": "2021-09-25T21:39:25.881543Z",
     "shell.execute_reply.started": "2021-09-25T21:39:25.863475Z"
    },
    "trusted": true
   },
   "outputs": [
    {
     "data": {
      "text/html": [
       "<div>\n",
       "<style scoped>\n",
       "    .dataframe tbody tr th:only-of-type {\n",
       "        vertical-align: middle;\n",
       "    }\n",
       "\n",
       "    .dataframe tbody tr th {\n",
       "        vertical-align: top;\n",
       "    }\n",
       "\n",
       "    .dataframe thead th {\n",
       "        text-align: right;\n",
       "    }\n",
       "</style>\n",
       "<table border=\"1\" class=\"dataframe\">\n",
       "  <thead>\n",
       "    <tr style=\"text-align: right;\">\n",
       "      <th></th>\n",
       "      <th>Recency</th>\n",
       "      <th>Frequency</th>\n",
       "      <th>Monetary</th>\n",
       "      <th>RecencyScore</th>\n",
       "      <th>FrequencyScore</th>\n",
       "      <th>MonetaryScore</th>\n",
       "      <th>RFM_SCORE</th>\n",
       "    </tr>\n",
       "    <tr>\n",
       "      <th>Customer ID</th>\n",
       "      <th></th>\n",
       "      <th></th>\n",
       "      <th></th>\n",
       "      <th></th>\n",
       "      <th></th>\n",
       "      <th></th>\n",
       "      <th></th>\n",
       "    </tr>\n",
       "  </thead>\n",
       "  <tbody>\n",
       "    <tr>\n",
       "      <th>12346</th>\n",
       "      <td>326</td>\n",
       "      <td>12</td>\n",
       "      <td>77556.46</td>\n",
       "      <td>2</td>\n",
       "      <td>5</td>\n",
       "      <td>5</td>\n",
       "      <td>255</td>\n",
       "    </tr>\n",
       "    <tr>\n",
       "      <th>12347</th>\n",
       "      <td>40</td>\n",
       "      <td>7</td>\n",
       "      <td>5408.50</td>\n",
       "      <td>4</td>\n",
       "      <td>4</td>\n",
       "      <td>5</td>\n",
       "      <td>445</td>\n",
       "    </tr>\n",
       "    <tr>\n",
       "      <th>12348</th>\n",
       "      <td>76</td>\n",
       "      <td>5</td>\n",
       "      <td>2019.40</td>\n",
       "      <td>3</td>\n",
       "      <td>4</td>\n",
       "      <td>4</td>\n",
       "      <td>344</td>\n",
       "    </tr>\n",
       "    <tr>\n",
       "      <th>12349</th>\n",
       "      <td>19</td>\n",
       "      <td>4</td>\n",
       "      <td>4428.69</td>\n",
       "      <td>5</td>\n",
       "      <td>3</td>\n",
       "      <td>5</td>\n",
       "      <td>535</td>\n",
       "    </tr>\n",
       "    <tr>\n",
       "      <th>12350</th>\n",
       "      <td>311</td>\n",
       "      <td>1</td>\n",
       "      <td>334.40</td>\n",
       "      <td>2</td>\n",
       "      <td>1</td>\n",
       "      <td>2</td>\n",
       "      <td>212</td>\n",
       "    </tr>\n",
       "  </tbody>\n",
       "</table>\n",
       "</div>"
      ],
      "text/plain": [
       "             Recency  Frequency  Monetary RecencyScore FrequencyScore  \\\n",
       "Customer ID                                                             \n",
       "12346            326         12  77556.46            2              5   \n",
       "12347             40          7   5408.50            4              4   \n",
       "12348             76          5   2019.40            3              4   \n",
       "12349             19          4   4428.69            5              3   \n",
       "12350            311          1    334.40            2              1   \n",
       "\n",
       "            MonetaryScore RFM_SCORE  \n",
       "Customer ID                          \n",
       "12346                   5       255  \n",
       "12347                   5       445  \n",
       "12348                   4       344  \n",
       "12349                   5       535  \n",
       "12350                   2       212  "
      ]
     },
     "execution_count": 35,
     "metadata": {},
     "output_type": "execute_result"
    }
   ],
   "source": [
    "# RFM Scores: Category\n",
    "rfm[\"RFM_SCORE\"] = (rfm['RecencyScore'].astype(str) + \n",
    "                    rfm['FrequencyScore'].astype(str) + \n",
    "                    rfm['MonetaryScore'].astype(str))\n",
    "rfm.head()"
   ]
  },
  {
   "cell_type": "code",
   "execution_count": 79,
   "metadata": {
    "execution": {
     "iopub.execute_input": "2021-09-25T21:39:31.232252Z",
     "iopub.status.busy": "2021-09-25T21:39:31.231471Z",
     "iopub.status.idle": "2021-09-25T21:39:31.331824Z",
     "shell.execute_reply": "2021-09-25T21:39:31.330875Z",
     "shell.execute_reply.started": "2021-09-25T21:39:31.232195Z"
    },
    "trusted": true
   },
   "outputs": [
    {
     "data": {
      "text/html": [
       "<div>\n",
       "<style scoped>\n",
       "    .dataframe tbody tr th:only-of-type {\n",
       "        vertical-align: middle;\n",
       "    }\n",
       "\n",
       "    .dataframe tbody tr th {\n",
       "        vertical-align: top;\n",
       "    }\n",
       "\n",
       "    .dataframe thead th {\n",
       "        text-align: right;\n",
       "    }\n",
       "</style>\n",
       "<table border=\"1\" class=\"dataframe\">\n",
       "  <thead>\n",
       "    <tr style=\"text-align: right;\">\n",
       "      <th></th>\n",
       "      <th>Recency</th>\n",
       "      <th>Frequency</th>\n",
       "      <th>Monetary</th>\n",
       "      <th>RecencyScore</th>\n",
       "      <th>FrequencyScore</th>\n",
       "      <th>MonetaryScore</th>\n",
       "      <th>RFM_SCORE</th>\n",
       "      <th>Segment</th>\n",
       "    </tr>\n",
       "    <tr>\n",
       "      <th>Customer ID</th>\n",
       "      <th></th>\n",
       "      <th></th>\n",
       "      <th></th>\n",
       "      <th></th>\n",
       "      <th></th>\n",
       "      <th></th>\n",
       "      <th></th>\n",
       "      <th></th>\n",
       "    </tr>\n",
       "  </thead>\n",
       "  <tbody>\n",
       "    <tr>\n",
       "      <th>12346</th>\n",
       "      <td>326</td>\n",
       "      <td>12</td>\n",
       "      <td>77556.46</td>\n",
       "      <td>2</td>\n",
       "      <td>5</td>\n",
       "      <td>5</td>\n",
       "      <td>255</td>\n",
       "      <td>Clientes en riesgo</td>\n",
       "    </tr>\n",
       "    <tr>\n",
       "      <th>12347</th>\n",
       "      <td>40</td>\n",
       "      <td>7</td>\n",
       "      <td>5408.50</td>\n",
       "      <td>4</td>\n",
       "      <td>4</td>\n",
       "      <td>5</td>\n",
       "      <td>445</td>\n",
       "      <td>Clientes estrella</td>\n",
       "    </tr>\n",
       "    <tr>\n",
       "      <th>12348</th>\n",
       "      <td>76</td>\n",
       "      <td>5</td>\n",
       "      <td>2019.40</td>\n",
       "      <td>3</td>\n",
       "      <td>4</td>\n",
       "      <td>4</td>\n",
       "      <td>344</td>\n",
       "      <td>Clientes fieles</td>\n",
       "    </tr>\n",
       "    <tr>\n",
       "      <th>12349</th>\n",
       "      <td>19</td>\n",
       "      <td>4</td>\n",
       "      <td>4428.69</td>\n",
       "      <td>5</td>\n",
       "      <td>3</td>\n",
       "      <td>5</td>\n",
       "      <td>535</td>\n",
       "      <td>Clientes que necesitan atención</td>\n",
       "    </tr>\n",
       "    <tr>\n",
       "      <th>12350</th>\n",
       "      <td>311</td>\n",
       "      <td>1</td>\n",
       "      <td>334.40</td>\n",
       "      <td>2</td>\n",
       "      <td>1</td>\n",
       "      <td>2</td>\n",
       "      <td>212</td>\n",
       "      <td>Clientes fríos</td>\n",
       "    </tr>\n",
       "  </tbody>\n",
       "</table>\n",
       "</div>"
      ],
      "text/plain": [
       "             Recency  Frequency  Monetary RecencyScore FrequencyScore  \\\n",
       "Customer ID                                                             \n",
       "12346            326         12  77556.46            2              5   \n",
       "12347             40          7   5408.50            4              4   \n",
       "12348             76          5   2019.40            3              4   \n",
       "12349             19          4   4428.69            5              3   \n",
       "12350            311          1    334.40            2              1   \n",
       "\n",
       "            MonetaryScore RFM_SCORE                          Segment  \n",
       "Customer ID                                                           \n",
       "12346                   5       255               Clientes en riesgo  \n",
       "12347                   5       445                Clientes estrella  \n",
       "12348                   4       344                  Clientes fieles  \n",
       "12349                   5       535  Clientes que necesitan atención  \n",
       "12350                   2       212                   Clientes fríos  "
      ]
     },
     "execution_count": 79,
     "metadata": {},
     "output_type": "execute_result"
    }
   ],
   "source": [
    "import re\n",
    "seg_map = {\n",
    "    r'555|554|544|545|454|455|445': 'Clientes estrella',\n",
    "    r'543|444|435|355|354|345|344|335': 'Clientes fieles',\n",
    "    r'553|551|552|541|542|533|532|531|452|451|442|441|431|453|433|432|423|353|352|351|342|341|333|323': 'Clientes potencialmente fieles',\n",
    "    r'512|511|422|421|412|411|311': 'Clientes nuevos',\n",
    "    r'525|524|523|522|521|515|514|513|425|424|413|414|415|315|314|313': 'Clientes prometedores',\n",
    "    r'535|534|443|434|343|334|325|324|331|321|312|221|213': 'Clientes que necesitan atención',\n",
    "    r'255|254|245|244|253|252|243|242|235|234|225|224|153|152|145|143|142|135|134|133|125|124': 'Clientes en riesgo',\n",
    "    r'155|154|144|214|215|115|114|113': 'Clientes dormidos',\n",
    "    r'132|322|231|241|251|233|232|223|222|132|123|122|212|211': 'Clientes fríos',\n",
    "    r'111|112|121|131|141|151': 'Clientes perdidos'\n",
    "}\n",
    "def asignar_segmento(codigo):\n",
    "    for regex, segmento in seg_map.items():\n",
    "        if re.match(regex, codigo):\n",
    "            return segmento\n",
    "    return 'No clasificado'\n",
    "\n",
    "#rfm['Segment'] = rfm['RecencyScore'].astype(str) + rfm['FrequencyScore'].astype(str)\n",
    "rfm['Segment'] = rfm['RFM_SCORE'].apply(asignar_segmento)\n",
    "rfm.head()"
   ]
  },
  {
   "cell_type": "markdown",
   "metadata": {},
   "source": [
    "<a id='8'></a><center> <h1 style=\"background-color:orange; color:white\" ><br>Summary Statistics<br></h1>"
   ]
  },
  {
   "cell_type": "code",
   "execution_count": 80,
   "metadata": {
    "execution": {
     "iopub.execute_input": "2021-09-25T21:39:44.33022Z",
     "iopub.status.busy": "2021-09-25T21:39:44.32994Z",
     "iopub.status.idle": "2021-09-25T21:39:44.359713Z",
     "shell.execute_reply": "2021-09-25T21:39:44.358802Z",
     "shell.execute_reply.started": "2021-09-25T21:39:44.330194Z"
    },
    "trusted": true
   },
   "outputs": [
    {
     "data": {
      "text/html": [
       "<div>\n",
       "<style scoped>\n",
       "    .dataframe tbody tr th:only-of-type {\n",
       "        vertical-align: middle;\n",
       "    }\n",
       "\n",
       "    .dataframe tbody tr th {\n",
       "        vertical-align: top;\n",
       "    }\n",
       "\n",
       "    .dataframe thead th {\n",
       "        text-align: right;\n",
       "    }\n",
       "</style>\n",
       "<table border=\"1\" class=\"dataframe\">\n",
       "  <thead>\n",
       "    <tr style=\"text-align: right;\">\n",
       "      <th></th>\n",
       "      <th>Recency_mean</th>\n",
       "      <th>Recency_median</th>\n",
       "      <th>Recency_count</th>\n",
       "      <th>Recency_std</th>\n",
       "      <th>Frequency_mean</th>\n",
       "      <th>Frequency_median</th>\n",
       "      <th>Frequency_count</th>\n",
       "      <th>Frequency_std</th>\n",
       "      <th>Monetary_mean</th>\n",
       "      <th>Monetary_median</th>\n",
       "      <th>Monetary_count</th>\n",
       "      <th>Monetary_std</th>\n",
       "    </tr>\n",
       "    <tr>\n",
       "      <th>Segment</th>\n",
       "      <th></th>\n",
       "      <th></th>\n",
       "      <th></th>\n",
       "      <th></th>\n",
       "      <th></th>\n",
       "      <th></th>\n",
       "      <th></th>\n",
       "      <th></th>\n",
       "      <th></th>\n",
       "      <th></th>\n",
       "      <th></th>\n",
       "      <th></th>\n",
       "    </tr>\n",
       "  </thead>\n",
       "  <tbody>\n",
       "    <tr>\n",
       "      <th>Clientes dormidos</th>\n",
       "      <td>490.80</td>\n",
       "      <td>465.00</td>\n",
       "      <td>98</td>\n",
       "      <td>105.53</td>\n",
       "      <td>4.82</td>\n",
       "      <td>1.00</td>\n",
       "      <td>98</td>\n",
       "      <td>15.25</td>\n",
       "      <td>2544.28</td>\n",
       "      <td>1535.78</td>\n",
       "      <td>98</td>\n",
       "      <td>6117.71</td>\n",
       "    </tr>\n",
       "    <tr>\n",
       "      <th>Clientes en riesgo</th>\n",
       "      <td>371.93</td>\n",
       "      <td>374.00</td>\n",
       "      <td>526</td>\n",
       "      <td>112.67</td>\n",
       "      <td>5.30</td>\n",
       "      <td>4.00</td>\n",
       "      <td>526</td>\n",
       "      <td>4.10</td>\n",
       "      <td>2505.22</td>\n",
       "      <td>1463.55</td>\n",
       "      <td>526</td>\n",
       "      <td>5074.25</td>\n",
       "    </tr>\n",
       "    <tr>\n",
       "      <th>Clientes estrella</th>\n",
       "      <td>22.03</td>\n",
       "      <td>18.00</td>\n",
       "      <td>1147</td>\n",
       "      <td>18.27</td>\n",
       "      <td>18.12</td>\n",
       "      <td>12.00</td>\n",
       "      <td>1147</td>\n",
       "      <td>24.30</td>\n",
       "      <td>10113.92</td>\n",
       "      <td>4403.82</td>\n",
       "      <td>1147</td>\n",
       "      <td>30942.90</td>\n",
       "    </tr>\n",
       "    <tr>\n",
       "      <th>Clientes fieles</th>\n",
       "      <td>86.75</td>\n",
       "      <td>82.00</td>\n",
       "      <td>647</td>\n",
       "      <td>51.72</td>\n",
       "      <td>8.11</td>\n",
       "      <td>6.00</td>\n",
       "      <td>647</td>\n",
       "      <td>5.10</td>\n",
       "      <td>3490.45</td>\n",
       "      <td>2268.35</td>\n",
       "      <td>647</td>\n",
       "      <td>4409.83</td>\n",
       "    </tr>\n",
       "    <tr>\n",
       "      <th>Clientes fríos</th>\n",
       "      <td>363.94</td>\n",
       "      <td>370.00</td>\n",
       "      <td>993</td>\n",
       "      <td>136.74</td>\n",
       "      <td>1.82</td>\n",
       "      <td>2.00</td>\n",
       "      <td>993</td>\n",
       "      <td>0.82</td>\n",
       "      <td>474.17</td>\n",
       "      <td>419.87</td>\n",
       "      <td>993</td>\n",
       "      <td>257.97</td>\n",
       "    </tr>\n",
       "    <tr>\n",
       "      <th>Clientes nuevos</th>\n",
       "      <td>67.47</td>\n",
       "      <td>52.00</td>\n",
       "      <td>348</td>\n",
       "      <td>51.28</td>\n",
       "      <td>1.15</td>\n",
       "      <td>1.00</td>\n",
       "      <td>348</td>\n",
       "      <td>0.36</td>\n",
       "      <td>250.75</td>\n",
       "      <td>216.79</td>\n",
       "      <td>348</td>\n",
       "      <td>139.74</td>\n",
       "    </tr>\n",
       "    <tr>\n",
       "      <th>Clientes perdidos</th>\n",
       "      <td>591.90</td>\n",
       "      <td>582.00</td>\n",
       "      <td>651</td>\n",
       "      <td>131.22</td>\n",
       "      <td>1.12</td>\n",
       "      <td>1.00</td>\n",
       "      <td>651</td>\n",
       "      <td>0.45</td>\n",
       "      <td>205.88</td>\n",
       "      <td>184.91</td>\n",
       "      <td>651</td>\n",
       "      <td>119.83</td>\n",
       "    </tr>\n",
       "    <tr>\n",
       "      <th>Clientes potencialmente fieles</th>\n",
       "      <td>65.89</td>\n",
       "      <td>51.00</td>\n",
       "      <td>584</td>\n",
       "      <td>53.72</td>\n",
       "      <td>3.20</td>\n",
       "      <td>3.00</td>\n",
       "      <td>584</td>\n",
       "      <td>1.58</td>\n",
       "      <td>737.37</td>\n",
       "      <td>745.71</td>\n",
       "      <td>584</td>\n",
       "      <td>273.50</td>\n",
       "    </tr>\n",
       "    <tr>\n",
       "      <th>Clientes prometedores</th>\n",
       "      <td>36.44</td>\n",
       "      <td>19.00</td>\n",
       "      <td>170</td>\n",
       "      <td>40.24</td>\n",
       "      <td>1.55</td>\n",
       "      <td>2.00</td>\n",
       "      <td>170</td>\n",
       "      <td>0.50</td>\n",
       "      <td>921.89</td>\n",
       "      <td>691.54</td>\n",
       "      <td>170</td>\n",
       "      <td>990.21</td>\n",
       "    </tr>\n",
       "    <tr>\n",
       "      <th>Clientes que necesitan atención</th>\n",
       "      <td>149.14</td>\n",
       "      <td>121.00</td>\n",
       "      <td>628</td>\n",
       "      <td>113.50</td>\n",
       "      <td>2.84</td>\n",
       "      <td>3.00</td>\n",
       "      <td>628</td>\n",
       "      <td>1.74</td>\n",
       "      <td>936.04</td>\n",
       "      <td>857.43</td>\n",
       "      <td>628</td>\n",
       "      <td>819.05</td>\n",
       "    </tr>\n",
       "    <tr>\n",
       "      <th>No clasificado</th>\n",
       "      <td>138.06</td>\n",
       "      <td>141.00</td>\n",
       "      <td>71</td>\n",
       "      <td>39.68</td>\n",
       "      <td>2.92</td>\n",
       "      <td>3.00</td>\n",
       "      <td>71</td>\n",
       "      <td>0.67</td>\n",
       "      <td>444.23</td>\n",
       "      <td>446.67</td>\n",
       "      <td>71</td>\n",
       "      <td>84.79</td>\n",
       "    </tr>\n",
       "  </tbody>\n",
       "</table>\n",
       "</div>"
      ],
      "text/plain": [
       "                                 Recency_mean  Recency_median  Recency_count  \\\n",
       "Segment                                                                        \n",
       "Clientes dormidos                      490.80          465.00             98   \n",
       "Clientes en riesgo                     371.93          374.00            526   \n",
       "Clientes estrella                       22.03           18.00           1147   \n",
       "Clientes fieles                         86.75           82.00            647   \n",
       "Clientes fríos                         363.94          370.00            993   \n",
       "Clientes nuevos                         67.47           52.00            348   \n",
       "Clientes perdidos                      591.90          582.00            651   \n",
       "Clientes potencialmente fieles          65.89           51.00            584   \n",
       "Clientes prometedores                   36.44           19.00            170   \n",
       "Clientes que necesitan atención        149.14          121.00            628   \n",
       "No clasificado                         138.06          141.00             71   \n",
       "\n",
       "                                 Recency_std  Frequency_mean  \\\n",
       "Segment                                                        \n",
       "Clientes dormidos                     105.53            4.82   \n",
       "Clientes en riesgo                    112.67            5.30   \n",
       "Clientes estrella                      18.27           18.12   \n",
       "Clientes fieles                        51.72            8.11   \n",
       "Clientes fríos                        136.74            1.82   \n",
       "Clientes nuevos                        51.28            1.15   \n",
       "Clientes perdidos                     131.22            1.12   \n",
       "Clientes potencialmente fieles         53.72            3.20   \n",
       "Clientes prometedores                  40.24            1.55   \n",
       "Clientes que necesitan atención       113.50            2.84   \n",
       "No clasificado                         39.68            2.92   \n",
       "\n",
       "                                 Frequency_median  Frequency_count  \\\n",
       "Segment                                                              \n",
       "Clientes dormidos                            1.00               98   \n",
       "Clientes en riesgo                           4.00              526   \n",
       "Clientes estrella                           12.00             1147   \n",
       "Clientes fieles                              6.00              647   \n",
       "Clientes fríos                               2.00              993   \n",
       "Clientes nuevos                              1.00              348   \n",
       "Clientes perdidos                            1.00              651   \n",
       "Clientes potencialmente fieles               3.00              584   \n",
       "Clientes prometedores                        2.00              170   \n",
       "Clientes que necesitan atención              3.00              628   \n",
       "No clasificado                               3.00               71   \n",
       "\n",
       "                                 Frequency_std  Monetary_mean  \\\n",
       "Segment                                                         \n",
       "Clientes dormidos                        15.25        2544.28   \n",
       "Clientes en riesgo                        4.10        2505.22   \n",
       "Clientes estrella                        24.30       10113.92   \n",
       "Clientes fieles                           5.10        3490.45   \n",
       "Clientes fríos                            0.82         474.17   \n",
       "Clientes nuevos                           0.36         250.75   \n",
       "Clientes perdidos                         0.45         205.88   \n",
       "Clientes potencialmente fieles            1.58         737.37   \n",
       "Clientes prometedores                     0.50         921.89   \n",
       "Clientes que necesitan atención           1.74         936.04   \n",
       "No clasificado                            0.67         444.23   \n",
       "\n",
       "                                 Monetary_median  Monetary_count  Monetary_std  \n",
       "Segment                                                                         \n",
       "Clientes dormidos                        1535.78              98       6117.71  \n",
       "Clientes en riesgo                       1463.55             526       5074.25  \n",
       "Clientes estrella                        4403.82            1147      30942.90  \n",
       "Clientes fieles                          2268.35             647       4409.83  \n",
       "Clientes fríos                            419.87             993        257.97  \n",
       "Clientes nuevos                           216.79             348        139.74  \n",
       "Clientes perdidos                         184.91             651        119.83  \n",
       "Clientes potencialmente fieles            745.71             584        273.50  \n",
       "Clientes prometedores                     691.54             170        990.21  \n",
       "Clientes que necesitan atención           857.43             628        819.05  \n",
       "No clasificado                            446.67              71         84.79  "
      ]
     },
     "execution_count": 80,
     "metadata": {},
     "output_type": "execute_result"
    }
   ],
   "source": [
    "rfmStats = rfm[[\"Segment\",\"Recency\",\"Frequency\", \"Monetary\"]].groupby(\"Segment\").agg([\"mean\",\"median\",\"count\", \"std\"])\n",
    "rfmStats.columns = rfmStats.columns.map('_'.join).str.strip('|')\n",
    "rfmStats"
   ]
  },
  {
   "cell_type": "markdown",
   "metadata": {},
   "source": [
    "<a id='9'></a><center> <h1 style=\"background-color:orange; color:white\" ><br>K-Means<br></h1>"
   ]
  },
  {
   "cell_type": "code",
   "execution_count": 81,
   "metadata": {
    "execution": {
     "iopub.execute_input": "2021-09-25T21:39:57.129572Z",
     "iopub.status.busy": "2021-09-25T21:39:57.128749Z",
     "iopub.status.idle": "2021-09-25T21:39:57.14056Z",
     "shell.execute_reply": "2021-09-25T21:39:57.139256Z",
     "shell.execute_reply.started": "2021-09-25T21:39:57.12952Z"
    },
    "trusted": true
   },
   "outputs": [
    {
     "data": {
      "text/html": [
       "<div>\n",
       "<style scoped>\n",
       "    .dataframe tbody tr th:only-of-type {\n",
       "        vertical-align: middle;\n",
       "    }\n",
       "\n",
       "    .dataframe tbody tr th {\n",
       "        vertical-align: top;\n",
       "    }\n",
       "\n",
       "    .dataframe thead th {\n",
       "        text-align: right;\n",
       "    }\n",
       "</style>\n",
       "<table border=\"1\" class=\"dataframe\">\n",
       "  <thead>\n",
       "    <tr style=\"text-align: right;\">\n",
       "      <th></th>\n",
       "      <th>Recency</th>\n",
       "      <th>Frequency</th>\n",
       "      <th>Monetary</th>\n",
       "    </tr>\n",
       "    <tr>\n",
       "      <th>Customer ID</th>\n",
       "      <th></th>\n",
       "      <th></th>\n",
       "      <th></th>\n",
       "    </tr>\n",
       "  </thead>\n",
       "  <tbody>\n",
       "    <tr>\n",
       "      <th>12346</th>\n",
       "      <td>326</td>\n",
       "      <td>12</td>\n",
       "      <td>77556.46</td>\n",
       "    </tr>\n",
       "    <tr>\n",
       "      <th>12347</th>\n",
       "      <td>40</td>\n",
       "      <td>7</td>\n",
       "      <td>5408.50</td>\n",
       "    </tr>\n",
       "    <tr>\n",
       "      <th>12348</th>\n",
       "      <td>76</td>\n",
       "      <td>5</td>\n",
       "      <td>2019.40</td>\n",
       "    </tr>\n",
       "    <tr>\n",
       "      <th>12349</th>\n",
       "      <td>19</td>\n",
       "      <td>4</td>\n",
       "      <td>4428.69</td>\n",
       "    </tr>\n",
       "    <tr>\n",
       "      <th>12350</th>\n",
       "      <td>311</td>\n",
       "      <td>1</td>\n",
       "      <td>334.40</td>\n",
       "    </tr>\n",
       "  </tbody>\n",
       "</table>\n",
       "</div>"
      ],
      "text/plain": [
       "             Recency  Frequency  Monetary\n",
       "Customer ID                              \n",
       "12346            326         12  77556.46\n",
       "12347             40          7   5408.50\n",
       "12348             76          5   2019.40\n",
       "12349             19          4   4428.69\n",
       "12350            311          1    334.40"
      ]
     },
     "execution_count": 81,
     "metadata": {},
     "output_type": "execute_result"
    }
   ],
   "source": [
    "rfm_kmeans = rfm.loc[:,\"Recency\":\"Monetary\"]\n",
    "rfm_kmeans.head()"
   ]
  },
  {
   "cell_type": "code",
   "execution_count": 82,
   "metadata": {
    "execution": {
     "iopub.execute_input": "2021-09-25T21:40:01.593197Z",
     "iopub.status.busy": "2021-09-25T21:40:01.592892Z",
     "iopub.status.idle": "2021-09-25T21:40:02.937425Z",
     "shell.execute_reply": "2021-09-25T21:40:02.936761Z",
     "shell.execute_reply.started": "2021-09-25T21:40:01.593172Z"
    },
    "trusted": true
   },
   "outputs": [
    {
     "name": "stderr",
     "output_type": "stream",
     "text": [
      "c:\\Users\\santi\\AppData\\Local\\Programs\\Python\\Python311\\Lib\\site-packages\\sklearn\\cluster\\_kmeans.py:870: FutureWarning:\n",
      "\n",
      "The default value of `n_init` will change from 10 to 'auto' in 1.4. Set the value of `n_init` explicitly to suppress the warning\n",
      "\n"
     ]
    },
    {
     "data": {
      "text/plain": [
       "array([0, 1, 7, ..., 2, 8, 1])"
      ]
     },
     "execution_count": 82,
     "metadata": {},
     "output_type": "execute_result"
    }
   ],
   "source": [
    "##########################################\n",
    "###     CLUSTRING WITH THE K-MEANS     ###\n",
    "##########################################\n",
    "from sklearn.preprocessing import MinMaxScaler\n",
    "sc = MinMaxScaler((0,1))\n",
    "dataframe = sc.fit_transform(rfm_kmeans)\n",
    "kmeans = KMeans(n_clusters = 10)\n",
    "k_fit = kmeans.fit(dataframe)\n",
    "k_fit.labels_"
   ]
  },
  {
   "cell_type": "code",
   "execution_count": 83,
   "metadata": {
    "execution": {
     "iopub.execute_input": "2021-09-25T21:40:06.889685Z",
     "iopub.status.busy": "2021-09-25T21:40:06.889422Z",
     "iopub.status.idle": "2021-09-25T21:40:47.673208Z",
     "shell.execute_reply": "2021-09-25T21:40:47.672434Z",
     "shell.execute_reply.started": "2021-09-25T21:40:06.889661Z"
    },
    "trusted": true
   },
   "outputs": [
    {
     "name": "stderr",
     "output_type": "stream",
     "text": [
      "c:\\Users\\santi\\AppData\\Local\\Programs\\Python\\Python311\\Lib\\site-packages\\sklearn\\cluster\\_kmeans.py:870: FutureWarning:\n",
      "\n",
      "The default value of `n_init` will change from 10 to 'auto' in 1.4. Set the value of `n_init` explicitly to suppress the warning\n",
      "\n",
      "c:\\Users\\santi\\AppData\\Local\\Programs\\Python\\Python311\\Lib\\site-packages\\sklearn\\cluster\\_kmeans.py:870: FutureWarning:\n",
      "\n",
      "The default value of `n_init` will change from 10 to 'auto' in 1.4. Set the value of `n_init` explicitly to suppress the warning\n",
      "\n",
      "c:\\Users\\santi\\AppData\\Local\\Programs\\Python\\Python311\\Lib\\site-packages\\sklearn\\cluster\\_kmeans.py:870: FutureWarning:\n",
      "\n",
      "The default value of `n_init` will change from 10 to 'auto' in 1.4. Set the value of `n_init` explicitly to suppress the warning\n",
      "\n",
      "c:\\Users\\santi\\AppData\\Local\\Programs\\Python\\Python311\\Lib\\site-packages\\sklearn\\cluster\\_kmeans.py:870: FutureWarning:\n",
      "\n",
      "The default value of `n_init` will change from 10 to 'auto' in 1.4. Set the value of `n_init` explicitly to suppress the warning\n",
      "\n",
      "c:\\Users\\santi\\AppData\\Local\\Programs\\Python\\Python311\\Lib\\site-packages\\sklearn\\cluster\\_kmeans.py:870: FutureWarning:\n",
      "\n",
      "The default value of `n_init` will change from 10 to 'auto' in 1.4. Set the value of `n_init` explicitly to suppress the warning\n",
      "\n",
      "c:\\Users\\santi\\AppData\\Local\\Programs\\Python\\Python311\\Lib\\site-packages\\sklearn\\cluster\\_kmeans.py:870: FutureWarning:\n",
      "\n",
      "The default value of `n_init` will change from 10 to 'auto' in 1.4. Set the value of `n_init` explicitly to suppress the warning\n",
      "\n",
      "c:\\Users\\santi\\AppData\\Local\\Programs\\Python\\Python311\\Lib\\site-packages\\sklearn\\cluster\\_kmeans.py:870: FutureWarning:\n",
      "\n",
      "The default value of `n_init` will change from 10 to 'auto' in 1.4. Set the value of `n_init` explicitly to suppress the warning\n",
      "\n",
      "c:\\Users\\santi\\AppData\\Local\\Programs\\Python\\Python311\\Lib\\site-packages\\sklearn\\cluster\\_kmeans.py:870: FutureWarning:\n",
      "\n",
      "The default value of `n_init` will change from 10 to 'auto' in 1.4. Set the value of `n_init` explicitly to suppress the warning\n",
      "\n",
      "c:\\Users\\santi\\AppData\\Local\\Programs\\Python\\Python311\\Lib\\site-packages\\sklearn\\cluster\\_kmeans.py:870: FutureWarning:\n",
      "\n",
      "The default value of `n_init` will change from 10 to 'auto' in 1.4. Set the value of `n_init` explicitly to suppress the warning\n",
      "\n",
      "c:\\Users\\santi\\AppData\\Local\\Programs\\Python\\Python311\\Lib\\site-packages\\sklearn\\cluster\\_kmeans.py:870: FutureWarning:\n",
      "\n",
      "The default value of `n_init` will change from 10 to 'auto' in 1.4. Set the value of `n_init` explicitly to suppress the warning\n",
      "\n",
      "c:\\Users\\santi\\AppData\\Local\\Programs\\Python\\Python311\\Lib\\site-packages\\sklearn\\cluster\\_kmeans.py:870: FutureWarning:\n",
      "\n",
      "The default value of `n_init` will change from 10 to 'auto' in 1.4. Set the value of `n_init` explicitly to suppress the warning\n",
      "\n",
      "c:\\Users\\santi\\AppData\\Local\\Programs\\Python\\Python311\\Lib\\site-packages\\sklearn\\cluster\\_kmeans.py:870: FutureWarning:\n",
      "\n",
      "The default value of `n_init` will change from 10 to 'auto' in 1.4. Set the value of `n_init` explicitly to suppress the warning\n",
      "\n",
      "c:\\Users\\santi\\AppData\\Local\\Programs\\Python\\Python311\\Lib\\site-packages\\sklearn\\cluster\\_kmeans.py:870: FutureWarning:\n",
      "\n",
      "The default value of `n_init` will change from 10 to 'auto' in 1.4. Set the value of `n_init` explicitly to suppress the warning\n",
      "\n",
      "c:\\Users\\santi\\AppData\\Local\\Programs\\Python\\Python311\\Lib\\site-packages\\sklearn\\cluster\\_kmeans.py:870: FutureWarning:\n",
      "\n",
      "The default value of `n_init` will change from 10 to 'auto' in 1.4. Set the value of `n_init` explicitly to suppress the warning\n",
      "\n",
      "c:\\Users\\santi\\AppData\\Local\\Programs\\Python\\Python311\\Lib\\site-packages\\sklearn\\cluster\\_kmeans.py:870: FutureWarning:\n",
      "\n",
      "The default value of `n_init` will change from 10 to 'auto' in 1.4. Set the value of `n_init` explicitly to suppress the warning\n",
      "\n",
      "c:\\Users\\santi\\AppData\\Local\\Programs\\Python\\Python311\\Lib\\site-packages\\sklearn\\cluster\\_kmeans.py:870: FutureWarning:\n",
      "\n",
      "The default value of `n_init` will change from 10 to 'auto' in 1.4. Set the value of `n_init` explicitly to suppress the warning\n",
      "\n",
      "c:\\Users\\santi\\AppData\\Local\\Programs\\Python\\Python311\\Lib\\site-packages\\sklearn\\cluster\\_kmeans.py:870: FutureWarning:\n",
      "\n",
      "The default value of `n_init` will change from 10 to 'auto' in 1.4. Set the value of `n_init` explicitly to suppress the warning\n",
      "\n",
      "c:\\Users\\santi\\AppData\\Local\\Programs\\Python\\Python311\\Lib\\site-packages\\sklearn\\cluster\\_kmeans.py:870: FutureWarning:\n",
      "\n",
      "The default value of `n_init` will change from 10 to 'auto' in 1.4. Set the value of `n_init` explicitly to suppress the warning\n",
      "\n",
      "c:\\Users\\santi\\AppData\\Local\\Programs\\Python\\Python311\\Lib\\site-packages\\sklearn\\cluster\\_kmeans.py:870: FutureWarning:\n",
      "\n",
      "The default value of `n_init` will change from 10 to 'auto' in 1.4. Set the value of `n_init` explicitly to suppress the warning\n",
      "\n",
      "c:\\Users\\santi\\AppData\\Local\\Programs\\Python\\Python311\\Lib\\site-packages\\sklearn\\cluster\\_kmeans.py:870: FutureWarning:\n",
      "\n",
      "The default value of `n_init` will change from 10 to 'auto' in 1.4. Set the value of `n_init` explicitly to suppress the warning\n",
      "\n",
      "c:\\Users\\santi\\AppData\\Local\\Programs\\Python\\Python311\\Lib\\site-packages\\sklearn\\cluster\\_kmeans.py:870: FutureWarning:\n",
      "\n",
      "The default value of `n_init` will change from 10 to 'auto' in 1.4. Set the value of `n_init` explicitly to suppress the warning\n",
      "\n",
      "c:\\Users\\santi\\AppData\\Local\\Programs\\Python\\Python311\\Lib\\site-packages\\sklearn\\cluster\\_kmeans.py:870: FutureWarning:\n",
      "\n",
      "The default value of `n_init` will change from 10 to 'auto' in 1.4. Set the value of `n_init` explicitly to suppress the warning\n",
      "\n",
      "c:\\Users\\santi\\AppData\\Local\\Programs\\Python\\Python311\\Lib\\site-packages\\sklearn\\cluster\\_kmeans.py:870: FutureWarning:\n",
      "\n",
      "The default value of `n_init` will change from 10 to 'auto' in 1.4. Set the value of `n_init` explicitly to suppress the warning\n",
      "\n",
      "c:\\Users\\santi\\AppData\\Local\\Programs\\Python\\Python311\\Lib\\site-packages\\sklearn\\cluster\\_kmeans.py:870: FutureWarning:\n",
      "\n",
      "The default value of `n_init` will change from 10 to 'auto' in 1.4. Set the value of `n_init` explicitly to suppress the warning\n",
      "\n",
      "c:\\Users\\santi\\AppData\\Local\\Programs\\Python\\Python311\\Lib\\site-packages\\sklearn\\cluster\\_kmeans.py:870: FutureWarning:\n",
      "\n",
      "The default value of `n_init` will change from 10 to 'auto' in 1.4. Set the value of `n_init` explicitly to suppress the warning\n",
      "\n",
      "c:\\Users\\santi\\AppData\\Local\\Programs\\Python\\Python311\\Lib\\site-packages\\sklearn\\cluster\\_kmeans.py:870: FutureWarning:\n",
      "\n",
      "The default value of `n_init` will change from 10 to 'auto' in 1.4. Set the value of `n_init` explicitly to suppress the warning\n",
      "\n",
      "c:\\Users\\santi\\AppData\\Local\\Programs\\Python\\Python311\\Lib\\site-packages\\sklearn\\cluster\\_kmeans.py:870: FutureWarning:\n",
      "\n",
      "The default value of `n_init` will change from 10 to 'auto' in 1.4. Set the value of `n_init` explicitly to suppress the warning\n",
      "\n",
      "c:\\Users\\santi\\AppData\\Local\\Programs\\Python\\Python311\\Lib\\site-packages\\sklearn\\cluster\\_kmeans.py:870: FutureWarning:\n",
      "\n",
      "The default value of `n_init` will change from 10 to 'auto' in 1.4. Set the value of `n_init` explicitly to suppress the warning\n",
      "\n",
      "c:\\Users\\santi\\AppData\\Local\\Programs\\Python\\Python311\\Lib\\site-packages\\sklearn\\cluster\\_kmeans.py:870: FutureWarning:\n",
      "\n",
      "The default value of `n_init` will change from 10 to 'auto' in 1.4. Set the value of `n_init` explicitly to suppress the warning\n",
      "\n",
      "c:\\Users\\santi\\AppData\\Local\\Programs\\Python\\Python311\\Lib\\site-packages\\sklearn\\cluster\\_kmeans.py:870: FutureWarning:\n",
      "\n",
      "The default value of `n_init` will change from 10 to 'auto' in 1.4. Set the value of `n_init` explicitly to suppress the warning\n",
      "\n"
     ]
    },
    {
     "data": {
      "text/plain": [
       "Text(0.5, 1.0, 'Elbow method for Optimum number of clusters')"
      ]
     },
     "execution_count": 83,
     "metadata": {},
     "output_type": "execute_result"
    },
    {
     "data": {
      "image/png": "[encoded data removed]",
      "text/plain": [
       "<Figure size 640x480 with 1 Axes>"
      ]
     },
     "metadata": {},
     "output_type": "display_data"
    }
   ],
   "source": [
    "kmeans = KMeans(n_clusters = 10)\n",
    "k_fit = kmeans.fit(dataframe)\n",
    "ssd = []\n",
    "\n",
    "K = range(1,30)\n",
    "\n",
    "for k in K:\n",
    "    kmeans = KMeans(n_clusters = k).fit(dataframe)\n",
    "    ssd.append(kmeans.inertia_)\n",
    "\n",
    "plt.plot(K, ssd, \"bx-\")\n",
    "plt.xlabel(\"Distance Residual Sums Versus Different k Values\")\n",
    "plt.title(\"Elbow method for Optimum number of clusters\")"
   ]
  },
  {
   "cell_type": "code",
   "execution_count": 48,
   "metadata": {
    "execution": {
     "iopub.execute_input": "2021-09-25T21:40:47.676867Z",
     "iopub.status.busy": "2021-09-25T21:40:47.676655Z",
     "iopub.status.idle": "2021-09-25T21:41:12.385774Z",
     "shell.execute_reply": "2021-09-25T21:41:12.384783Z",
     "shell.execute_reply.started": "2021-09-25T21:40:47.676842Z"
    },
    "trusted": true
   },
   "outputs": [
    {
     "data": {
      "image/png": "[encoded data removed]",
      "text/plain": [
       "<Figure size 800x550 with 2 Axes>"
      ]
     },
     "metadata": {},
     "output_type": "display_data"
    }
   ],
   "source": [
    "from yellowbrick.cluster import KElbowVisualizer\n",
    "kmeans = KMeans()\n",
    "visu = KElbowVisualizer(kmeans, k = (2,20))\n",
    "visu.fit(dataframe)\n",
    "visu.poof();"
   ]
  },
  {
   "cell_type": "code",
   "execution_count": 84,
   "metadata": {
    "execution": {
     "iopub.execute_input": "2021-09-25T21:41:12.39056Z",
     "iopub.status.busy": "2021-09-25T21:41:12.388721Z",
     "iopub.status.idle": "2021-09-25T21:41:13.700105Z",
     "shell.execute_reply": "2021-09-25T21:41:13.699555Z",
     "shell.execute_reply.started": "2021-09-25T21:41:12.390526Z"
    },
    "trusted": true
   },
   "outputs": [
    {
     "name": "stderr",
     "output_type": "stream",
     "text": [
      "c:\\Users\\santi\\AppData\\Local\\Programs\\Python\\Python311\\Lib\\site-packages\\sklearn\\cluster\\_kmeans.py:870: FutureWarning:\n",
      "\n",
      "The default value of `n_init` will change from 10 to 'auto' in 1.4. Set the value of `n_init` explicitly to suppress the warning\n",
      "\n"
     ]
    },
    {
     "data": {
      "text/html": [
       "<div>\n",
       "<style scoped>\n",
       "    .dataframe tbody tr th:only-of-type {\n",
       "        vertical-align: middle;\n",
       "    }\n",
       "\n",
       "    .dataframe tbody tr th {\n",
       "        vertical-align: top;\n",
       "    }\n",
       "\n",
       "    .dataframe thead th {\n",
       "        text-align: right;\n",
       "    }\n",
       "</style>\n",
       "<table border=\"1\" class=\"dataframe\">\n",
       "  <thead>\n",
       "    <tr style=\"text-align: right;\">\n",
       "      <th></th>\n",
       "      <th>Recency</th>\n",
       "      <th>Frequency</th>\n",
       "      <th>Monetary</th>\n",
       "      <th>cluster_no</th>\n",
       "    </tr>\n",
       "    <tr>\n",
       "      <th>Customer ID</th>\n",
       "      <th></th>\n",
       "      <th></th>\n",
       "      <th></th>\n",
       "      <th></th>\n",
       "    </tr>\n",
       "  </thead>\n",
       "  <tbody>\n",
       "    <tr>\n",
       "      <th>12346</th>\n",
       "      <td>326</td>\n",
       "      <td>12</td>\n",
       "      <td>77556.46</td>\n",
       "      <td>4</td>\n",
       "    </tr>\n",
       "    <tr>\n",
       "      <th>12347</th>\n",
       "      <td>40</td>\n",
       "      <td>7</td>\n",
       "      <td>5408.50</td>\n",
       "      <td>2</td>\n",
       "    </tr>\n",
       "    <tr>\n",
       "      <th>12348</th>\n",
       "      <td>76</td>\n",
       "      <td>5</td>\n",
       "      <td>2019.40</td>\n",
       "      <td>2</td>\n",
       "    </tr>\n",
       "    <tr>\n",
       "      <th>12349</th>\n",
       "      <td>19</td>\n",
       "      <td>4</td>\n",
       "      <td>4428.69</td>\n",
       "      <td>2</td>\n",
       "    </tr>\n",
       "    <tr>\n",
       "      <th>12350</th>\n",
       "      <td>311</td>\n",
       "      <td>1</td>\n",
       "      <td>334.40</td>\n",
       "      <td>4</td>\n",
       "    </tr>\n",
       "  </tbody>\n",
       "</table>\n",
       "</div>"
      ],
      "text/plain": [
       "             Recency  Frequency  Monetary  cluster_no\n",
       "Customer ID                                          \n",
       "12346            326         12  77556.46           4\n",
       "12347             40          7   5408.50           2\n",
       "12348             76          5   2019.40           2\n",
       "12349             19          4   4428.69           2\n",
       "12350            311          1    334.40           4"
      ]
     },
     "execution_count": 84,
     "metadata": {},
     "output_type": "execute_result"
    }
   ],
   "source": [
    "kmeans = KMeans(n_clusters = 6).fit(dataframe)\n",
    "cluster = kmeans.labels_\n",
    "pd.DataFrame({\"Customer ID\": rfm.index, \"Cluster\": cluster})\n",
    "rfm_kmeans[\"cluster_no\"] = cluster\n",
    "rfm_kmeans[\"cluster_no\"] = rfm_kmeans[\"cluster_no\"] + 1\n",
    "rfm_kmeans.head()"
   ]
  },
  {
   "cell_type": "code",
   "execution_count": 85,
   "metadata": {
    "execution": {
     "iopub.execute_input": "2021-09-25T21:41:13.70187Z",
     "iopub.status.busy": "2021-09-25T21:41:13.701493Z",
     "iopub.status.idle": "2021-09-25T21:41:16.911194Z",
     "shell.execute_reply": "2021-09-25T21:41:16.909844Z",
     "shell.execute_reply.started": "2021-09-25T21:41:13.701842Z"
    },
    "trusted": true
   },
   "outputs": [
    {
     "data": {
      "application/vnd.plotly.v1+json": {
       "config": {
        "plotlyServerURL": "https://plot.ly"
       },
       "data": [
        {
         "hovertemplate": "Recency=%{x}<br>Frequency=%{y}<br>Monetary=%{z}<br>cluster_no=%{marker.color}<extra></extra>",
         "legendgroup": "",
         "marker": {
          "color": {
           "bdata": "BAAAAAIAAAACAAAAAgAAAAQAAAAEAAAAAgAAAAMAAAADAAAAAgAAAAIAAAADAAAAAgAAAAIAAAACAAAAAwAAAAIAAAACAAAAAgAAAAMAAAABAAAAAQAAAAQAAAACAAAAAgAAAAIAAAAEAAAAAgAAAAIAAAAEAAAABAAAAAMAAAACAAAAAgAAAAIAAAACAAAAAgAAAAQAAAADAAAABAAAAAIAAAABAAAAAgAAAAIAAAABAAAAAgAAAAMAAAACAAAAAQAAAAMAAAACAAAAAgAAAAQAAAACAAAABAAAAAIAAAABAAAAAwAAAAIAAAACAAAAAwAAAAIAAAADAAAABAAAAAIAAAADAAAAAwAAAAIAAAABAAAAAgAAAAIAAAAEAAAAAwAAAAIAAAADAAAAAgAAAAMAAAACAAAAAwAAAAIAAAACAAAAAgAAAAIAAAACAAAAAgAAAAIAAAACAAAAAgAAAAQAAAACAAAAAgAAAAEAAAABAAAABAAAAAUAAAACAAAAAgAAAAIAAAACAAAAAgAAAAIAAAADAAAAAgAAAAIAAAADAAAAAgAAAAIAAAACAAAAAgAAAAIAAAABAAAABAAAAAIAAAACAAAAAgAAAAIAAAACAAAAAQAAAAQAAAADAAAAAQAAAAEAAAACAAAAAgAAAAIAAAACAAAAAgAAAAIAAAACAAAAAgAAAAIAAAACAAAABAAAAAIAAAACAAAAAQAAAAEAAAAFAAAAAgAAAAMAAAACAAAABAAAAAIAAAADAAAAAgAAAAQAAAABAAAAAgAAAAIAAAABAAAAAgAAAAMAAAADAAAAAQAAAAIAAAAEAAAAAwAAAAMAAAACAAAAAwAAAAMAAAABAAAAAwAAAAIAAAADAAAABAAAAAIAAAACAAAAAgAAAAMAAAACAAAAAwAAAAIAAAACAAAAAgAAAAQAAAACAAAAAgAAAAIAAAABAAAAAgAAAAIAAAACAAAAAQAAAAQAAAACAAAAAgAAAAQAAAACAAAAAgAAAAIAAAACAAAABAAAAAQAAAADAAAAAgAAAAIAAAADAAAAAwAAAAQAAAACAAAABAAAAAIAAAACAAAABAAAAAEAAAACAAAAAgAAAAMAAAAEAAAAAgAAAAIAAAACAAAABAAAAAMAAAADAAAAAgAAAAIAAAABAAAAAgAAAAEAAAACAAAAAgAAAAMAAAAEAAAABAAAAAMAAAADAAAAAgAAAAIAAAADAAAAAgAAAAMAAAACAAAAAgAAAAMAAAACAAAAAwAAAAIAAAACAAAAAgAAAAQAAAACAAAAAgAAAAIAAAAEAAAAAgAAAAIAAAACAAAAAgAAAAIAAAACAAAAAgAAAAIAAAACAAAABAAAAAEAAAACAAAABAAAAAIAAAACAAAAAgAAAAIAAAACAAAAAwAAAAIAAAADAAAAAgAAAAIAAAACAAAAAgAAAAIAAAADAAAAAwAAAAIAAAACAAAAAgAAAAIAAAADAAAABAAAAAIAAAACAAAAAQAAAAIAAAAEAAAAAgAAAAUAAAACAAAAAwAAAAMAAAACAAAAAgAAAAIAAAACAAAAAwAAAAIAAAACAAAAAgAAAAIAAAACAAAAAgAAAAIAAAADAAAAAgAAAAQAAAACAAAAAgAAAAIAAAACAAAAAgAAAAQAAAACAAAABAAAAAIAAAAEAAAABAAAAAIAAAACAAAAAgAAAAIAAAAEAAAABAAAAAQAAAACAAAABAAAAAIAAAAEAAAAAgAAAAIAAAACAAAAAgAAAAIAAAACAAAAAgAAAAIAAAABAAAABAAAAAIAAAACAAAAAwAAAAIAAAAEAAAAAgAAAAIAAAACAAAABAAAAAIAAAABAAAABAAAAAMAAAACAAAAAgAAAAIAAAACAAAAAgAAAAMAAAACAAAAAgAAAAMAAAABAAAAAgAAAAIAAAACAAAAAwAAAAIAAAACAAAAAwAAAAIAAAACAAAAAgAAAAIAAAACAAAABAAAAAIAAAACAAAAAgAAAAIAAAABAAAAAgAAAAMAAAADAAAABAAAAAMAAAACAAAABAAAAAEAAAACAAAAAwAAAAEAAAABAAAAAwAAAAIAAAAEAAAAAQAAAAIAAAAGAAAAAgAAAAMAAAAEAAAAAgAAAAIAAAADAAAAAwAAAAIAAAACAAAAAgAAAAIAAAAEAAAABAAAAAIAAAADAAAABAAAAAQAAAACAAAABAAAAAQAAAADAAAAAwAAAAQAAAACAAAAAQAAAAEAAAACAAAABAAAAAQAAAACAAAAAwAAAAEAAAADAAAAAwAAAAIAAAACAAAABAAAAAQAAAACAAAABAAAAAMAAAADAAAABAAAAAMAAAACAAAAAgAAAAIAAAABAAAABAAAAAIAAAABAAAABAAAAAQAAAADAAAABAAAAAQAAAAEAAAABAAAAAQAAAACAAAAAwAAAAEAAAADAAAAAgAAAAQAAAACAAAAAwAAAAMAAAADAAAAAwAAAAEAAAACAAAAAgAAAAIAAAACAAAAAgAAAAQAAAACAAAAAgAAAAIAAAADAAAAAgAAAAMAAAADAAAAAwAAAAMAAAAEAAAAAgAAAAMAAAADAAAAAgAAAAIAAAACAAAAAgAAAAIAAAACAAAAAwAAAAEAAAACAAAAAQAAAAIAAAAEAAAAAwAAAAMAAAADAAAAAgAAAAQAAAACAAAAAgAAAAQAAAABAAAAAQAAAAEAAAAEAAAAAgAAAAMAAAACAAAABAAAAAIAAAACAAAAAQAAAAQAAAACAAAABAAAAAMAAAAEAAAAAwAAAAIAAAACAAAAAwAAAAIAAAAEAAAAAgAAAAIAAAACAAAAAgAAAAIAAAADAAAABAAAAAIAAAAEAAAAAgAAAAMAAAAEAAAAAgAAAAEAAAACAAAAAgAAAAEAAAAEAAAABAAAAAIAAAADAAAAAQAAAAIAAAAEAAAAAgAAAAQAAAADAAAAAgAAAAIAAAABAAAAAgAAAAIAAAABAAAAAwAAAAMAAAADAAAAAQAAAAIAAAACAAAAAgAAAAQAAAADAAAAAgAAAAIAAAAEAAAABAAAAAIAAAAEAAAAAgAAAAIAAAAEAAAAAgAAAAUAAAACAAAAAgAAAAIAAAACAAAAAgAAAAIAAAABAAAAAwAAAAEAAAADAAAAAwAAAAQAAAACAAAAAgAAAAIAAAACAAAAAwAAAAIAAAACAAAABAAAAAIAAAADAAAAAgAAAAEAAAAEAAAABAAAAAQAAAACAAAAAgAAAAQAAAACAAAAAgAAAAQAAAACAAAAAQAAAAMAAAACAAAABAAAAAQAAAADAAAABAAAAAIAAAADAAAABAAAAAUAAAACAAAAAgAAAAIAAAABAAAAAgAAAAIAAAAEAAAAAgAAAAMAAAACAAAAAgAAAAIAAAABAAAAAgAAAAIAAAACAAAABAAAAAIAAAAEAAAAAwAAAAIAAAACAAAABAAAAAIAAAACAAAAAwAAAAIAAAAEAAAABAAAAAEAAAAEAAAAAQAAAAIAAAACAAAAAgAAAAIAAAACAAAAAwAAAAIAAAAEAAAAAQAAAAIAAAABAAAAAwAAAAQAAAAFAAAAAgAAAAIAAAACAAAAAgAAAAIAAAAEAAAAAgAAAAQAAAACAAAAAgAAAAEAAAADAAAAAgAAAAEAAAADAAAABAAAAAEAAAACAAAAAwAAAAQAAAACAAAAAgAAAAIAAAADAAAAAgAAAAQAAAACAAAAAQAAAAIAAAABAAAAAQAAAAIAAAADAAAAAwAAAAIAAAAEAAAABAAAAAIAAAAEAAAAAgAAAAIAAAACAAAAAgAAAAMAAAABAAAAAwAAAAQAAAABAAAAAwAAAAQAAAADAAAAAgAAAAIAAAADAAAAAgAAAAMAAAACAAAAAQAAAAMAAAAEAAAAAQAAAAQAAAAGAAAAAgAAAAIAAAACAAAAAgAAAAIAAAACAAAABAAAAAIAAAACAAAABAAAAAMAAAACAAAAAgAAAAIAAAAEAAAAAwAAAAIAAAAEAAAAAgAAAAIAAAABAAAAAQAAAAIAAAAFAAAAAgAAAAMAAAACAAAAAgAAAAQAAAADAAAAAwAAAAMAAAAEAAAAAgAAAAEAAAACAAAAAgAAAAEAAAAEAAAAAwAAAAIAAAADAAAAAgAAAAIAAAADAAAAAgAAAAIAAAACAAAAAgAAAAIAAAACAAAAAgAAAAEAAAACAAAAAgAAAAIAAAACAAAAAgAAAAIAAAAEAAAAAwAAAAQAAAADAAAABAAAAAIAAAAEAAAAAgAAAAIAAAACAAAAAgAAAAQAAAACAAAABAAAAAQAAAACAAAABAAAAAIAAAADAAAAAwAAAAIAAAACAAAAAQAAAAQAAAACAAAAAQAAAAIAAAADAAAAAgAAAAEAAAAEAAAABAAAAAIAAAACAAAAAgAAAAMAAAACAAAAAwAAAAIAAAACAAAAAQAAAAEAAAADAAAAAgAAAAMAAAAEAAAAAgAAAAQAAAACAAAAAgAAAAIAAAAEAAAABAAAAAIAAAAFAAAABAAAAAQAAAACAAAAAgAAAAIAAAADAAAAAgAAAAIAAAACAAAABAAAAAEAAAADAAAAAgAAAAMAAAABAAAAAgAAAAMAAAAEAAAAAwAAAAIAAAACAAAAAgAAAAMAAAACAAAAAwAAAAIAAAACAAAAAgAAAAEAAAACAAAAAgAAAAQAAAACAAAAAwAAAAMAAAAEAAAAAgAAAAMAAAACAAAAAgAAAAIAAAACAAAAAwAAAAIAAAAEAAAAAQAAAAQAAAADAAAABAAAAAIAAAACAAAABAAAAAIAAAACAAAAAgAAAAMAAAADAAAAAgAAAAQAAAACAAAAAgAAAAIAAAACAAAAAgAAAAQAAAADAAAAAgAAAAIAAAAEAAAABAAAAAMAAAACAAAAAgAAAAIAAAACAAAABAAAAAIAAAACAAAABAAAAAIAAAABAAAAAQAAAAQAAAABAAAABAAAAAMAAAADAAAABAAAAAMAAAAEAAAAAwAAAAIAAAADAAAAAwAAAAIAAAADAAAAAQAAAAQAAAACAAAAAQAAAAIAAAACAAAAAgAAAAIAAAACAAAABAAAAAIAAAACAAAAAQAAAAIAAAADAAAAAwAAAAIAAAACAAAAAgAAAAIAAAACAAAAAgAAAAIAAAABAAAAAgAAAAQAAAACAAAAAgAAAAEAAAACAAAABAAAAAIAAAACAAAABAAAAAMAAAADAAAAAgAAAAMAAAADAAAAAwAAAAMAAAAEAAAAAgAAAAMAAAACAAAAAgAAAAMAAAACAAAAAgAAAAIAAAACAAAAAwAAAAMAAAADAAAABAAAAAQAAAACAAAAAgAAAAIAAAADAAAAAgAAAAEAAAADAAAABAAAAAEAAAAEAAAAAgAAAAIAAAAEAAAAAgAAAAMAAAAEAAAAAgAAAAEAAAACAAAAAwAAAAEAAAACAAAABAAAAAQAAAAEAAAAAwAAAAIAAAACAAAAAwAAAAEAAAABAAAAAgAAAAMAAAACAAAAAgAAAAMAAAAEAAAAAQAAAAMAAAACAAAAAgAAAAIAAAAEAAAABAAAAAIAAAACAAAAAgAAAAEAAAAEAAAAAwAAAAQAAAACAAAAAwAAAAIAAAADAAAAAwAAAAIAAAADAAAAAQAAAAQAAAACAAAAAgAAAAIAAAACAAAAAgAAAAIAAAACAAAAAQAAAAQAAAACAAAAAgAAAAIAAAAEAAAAAwAAAAQAAAACAAAABAAAAAQAAAAEAAAAAQAAAAQAAAACAAAAAgAAAAIAAAACAAAAAgAAAAMAAAADAAAABAAAAAIAAAACAAAAAQAAAAIAAAABAAAAAgAAAAMAAAAEAAAAAgAAAAQAAAACAAAAAgAAAAIAAAABAAAAAgAAAAIAAAABAAAAAgAAAAMAAAADAAAAAwAAAAIAAAAEAAAAAwAAAAQAAAACAAAAAwAAAAMAAAACAAAAAwAAAAIAAAACAAAAAgAAAAIAAAABAAAAAgAAAAIAAAACAAAABAAAAAMAAAACAAAAAwAAAAUAAAACAAAAAgAAAAMAAAACAAAAAgAAAAMAAAACAAAABAAAAAIAAAACAAAAAgAAAAIAAAABAAAAAwAAAAMAAAACAAAAAgAAAAIAAAACAAAAAgAAAAIAAAACAAAAAgAAAAIAAAACAAAAAgAAAAIAAAAFAAAAAgAAAAIAAAABAAAAAwAAAAMAAAACAAAAAgAAAAEAAAACAAAABAAAAAIAAAACAAAABAAAAAQAAAAEAAAAAQAAAAIAAAAEAAAAAgAAAAQAAAACAAAAAgAAAAQAAAAEAAAAAgAAAAEAAAAEAAAAAgAAAAQAAAACAAAAAgAAAAEAAAADAAAAAgAAAAIAAAACAAAAAwAAAAIAAAACAAAABAAAAAMAAAACAAAAAgAAAAIAAAADAAAAAgAAAAQAAAACAAAAAgAAAAIAAAAEAAAAAgAAAAQAAAADAAAABAAAAAMAAAADAAAABAAAAAEAAAADAAAAAgAAAAIAAAACAAAAAwAAAAIAAAACAAAAAgAAAAQAAAACAAAAAQAAAAIAAAACAAAABAAAAAIAAAADAAAAAgAAAAEAAAAEAAAAAgAAAAIAAAABAAAAAQAAAAIAAAACAAAAAQAAAAQAAAACAAAABAAAAAEAAAACAAAAAwAAAAEAAAABAAAAAgAAAAQAAAACAAAABAAAAAEAAAAEAAAAAgAAAAEAAAACAAAAAgAAAAMAAAACAAAAAgAAAAMAAAACAAAAAgAAAAIAAAACAAAAAQAAAAQAAAADAAAAAgAAAAIAAAACAAAAAQAAAAIAAAAEAAAAAwAAAAIAAAACAAAAAgAAAAQAAAACAAAAAgAAAAMAAAACAAAAAgAAAAMAAAABAAAAAQAAAAIAAAADAAAABAAAAAIAAAADAAAAAgAAAAIAAAACAAAABAAAAAIAAAACAAAAAQAAAAIAAAABAAAABAAAAAIAAAABAAAAAgAAAAIAAAADAAAABAAAAAMAAAACAAAAAgAAAAQAAAABAAAAAwAAAAIAAAAEAAAAAgAAAAQAAAAGAAAAAgAAAAQAAAAEAAAAAQAAAAMAAAACAAAABAAAAAQAAAAEAAAAAgAAAAMAAAACAAAAAwAAAAMAAAACAAAAAgAAAAMAAAADAAAABAAAAAQAAAADAAAAAwAAAAIAAAADAAAAAgAAAAIAAAADAAAAAwAAAAMAAAAEAAAAAgAAAAIAAAACAAAAAgAAAAQAAAADAAAAAwAAAAIAAAAEAAAABAAAAAIAAAADAAAAAwAAAAQAAAACAAAAAwAAAAIAAAACAAAAAgAAAAMAAAADAAAABAAAAAQAAAADAAAAAgAAAAMAAAACAAAAAwAAAAIAAAACAAAAAgAAAAEAAAACAAAAAgAAAAIAAAACAAAAAwAAAAMAAAACAAAAAQAAAAEAAAACAAAAAQAAAAIAAAAEAAAAAwAAAAMAAAAEAAAAAgAAAAEAAAABAAAAAgAAAAIAAAAEAAAAAwAAAAMAAAACAAAABAAAAAIAAAABAAAABAAAAAIAAAAEAAAABAAAAAMAAAADAAAAAQAAAAQAAAAEAAAABAAAAAQAAAACAAAAAgAAAAMAAAADAAAAAwAAAAMAAAACAAAAAgAAAAMAAAABAAAAAgAAAAMAAAACAAAAAgAAAAIAAAACAAAAAgAAAAIAAAACAAAAAgAAAAEAAAACAAAABAAAAAMAAAACAAAAAgAAAAIAAAABAAAAAwAAAAIAAAACAAAABAAAAAEAAAACAAAAAgAAAAMAAAAEAAAAAgAAAAQAAAACAAAAAgAAAAQAAAAEAAAABAAAAAIAAAAEAAAAAgAAAAMAAAACAAAAAQAAAAIAAAACAAAAAwAAAAMAAAAEAAAAAgAAAAIAAAAEAAAAAgAAAAQAAAACAAAABAAAAAIAAAABAAAAAgAAAAMAAAAEAAAAAgAAAAIAAAACAAAAAwAAAAIAAAACAAAAAgAAAAEAAAACAAAABAAAAAIAAAADAAAAAgAAAAIAAAABAAAAAgAAAAIAAAACAAAAAgAAAAIAAAADAAAAAgAAAAMAAAACAAAAAgAAAAIAAAAEAAAAAgAAAAMAAAACAAAAAgAAAAEAAAACAAAABAAAAAIAAAACAAAAAgAAAAEAAAABAAAAAwAAAAUAAAAEAAAAAQAAAAIAAAAEAAAAAgAAAAQAAAAEAAAAAgAAAAQAAAABAAAAAgAAAAIAAAACAAAABAAAAAQAAAAEAAAAAgAAAAIAAAACAAAAAgAAAAIAAAACAAAAAwAAAAIAAAADAAAAAwAAAAIAAAADAAAAAQAAAAMAAAADAAAAAwAAAAIAAAACAAAAAgAAAAEAAAAEAAAAAQAAAAQAAAACAAAAAwAAAAQAAAACAAAAAgAAAAMAAAADAAAAAgAAAAIAAAACAAAAAgAAAAQAAAAEAAAAAgAAAAIAAAAEAAAAAgAAAAMAAAAEAAAABAAAAAQAAAADAAAABAAAAAIAAAAEAAAAAgAAAAIAAAADAAAAAgAAAAIAAAADAAAABAAAAAIAAAACAAAAAgAAAAQAAAACAAAAAgAAAAIAAAACAAAAAgAAAAQAAAACAAAAAwAAAAIAAAACAAAAAgAAAAIAAAACAAAAAgAAAAQAAAAEAAAABAAAAAIAAAACAAAAAgAAAAMAAAAFAAAAAgAAAAIAAAACAAAAAQAAAAEAAAADAAAAAQAAAAQAAAADAAAAAgAAAAIAAAACAAAAAwAAAAEAAAABAAAAAgAAAAIAAAACAAAAAwAAAAMAAAACAAAABAAAAAQAAAACAAAAAQAAAAMAAAACAAAAAgAAAAIAAAABAAAAAgAAAAIAAAADAAAAAwAAAAIAAAADAAAAAgAAAAMAAAABAAAAAQAAAAIAAAACAAAAAwAAAAIAAAADAAAAAgAAAAIAAAACAAAAAgAAAAMAAAADAAAAAgAAAAIAAAACAAAAAQAAAAMAAAACAAAABAAAAAIAAAAEAAAAAgAAAAQAAAADAAAAAwAAAAQAAAABAAAAAQAAAAIAAAAEAAAAAwAAAAEAAAACAAAAAwAAAAIAAAACAAAAAwAAAAMAAAACAAAABAAAAAIAAAABAAAAAgAAAAEAAAAEAAAAAgAAAAIAAAAEAAAABAAAAAIAAAACAAAABAAAAAEAAAACAAAABAAAAAMAAAACAAAAAwAAAAIAAAACAAAABAAAAAIAAAADAAAABQAAAAIAAAACAAAAAgAAAAIAAAACAAAAAgAAAAIAAAACAAAABAAAAAIAAAADAAAAAQAAAAQAAAACAAAABAAAAAUAAAACAAAAAgAAAAIAAAACAAAAAgAAAAIAAAAEAAAAAQAAAAIAAAADAAAABAAAAAIAAAABAAAAAQAAAAMAAAACAAAAAgAAAAIAAAABAAAAAwAAAAQAAAACAAAAAgAAAAIAAAADAAAAAwAAAAMAAAABAAAAAgAAAAQAAAADAAAAAwAAAAYAAAACAAAAAgAAAAIAAAAEAAAAAgAAAAMAAAACAAAAAgAAAAIAAAAEAAAAAgAAAAQAAAAEAAAABAAAAAMAAAAEAAAAAgAAAAMAAAACAAAAAwAAAAIAAAACAAAAAgAAAAIAAAAEAAAABAAAAAQAAAADAAAAAgAAAAQAAAAEAAAAAgAAAAIAAAAEAAAAAgAAAAQAAAADAAAAAgAAAAMAAAACAAAABAAAAAIAAAADAAAAAQAAAAIAAAAEAAAAAQAAAAQAAAACAAAAAwAAAAEAAAADAAAAAgAAAAIAAAACAAAAAgAAAAQAAAACAAAAAgAAAAIAAAACAAAAAgAAAAQAAAADAAAAAgAAAAMAAAACAAAAAgAAAAQAAAACAAAAAgAAAAQAAAACAAAABAAAAAIAAAACAAAAAgAAAAIAAAACAAAAAgAAAAEAAAAEAAAAAgAAAAIAAAACAAAAAwAAAAIAAAABAAAAAwAAAAIAAAADAAAABAAAAAQAAAACAAAAAgAAAAQAAAABAAAAAQAAAAQAAAADAAAAAgAAAAIAAAADAAAABAAAAAIAAAACAAAABAAAAAIAAAACAAAAAQAAAAMAAAAEAAAABAAAAAIAAAADAAAAAgAAAAIAAAABAAAABAAAAAIAAAACAAAABAAAAAEAAAADAAAABAAAAAIAAAAEAAAAAgAAAAIAAAACAAAAAwAAAAIAAAACAAAAAgAAAAIAAAACAAAAAwAAAAQAAAACAAAABAAAAAIAAAACAAAAAgAAAAIAAAACAAAAAQAAAAQAAAAEAAAAAgAAAAIAAAACAAAABAAAAAIAAAABAAAAAgAAAAIAAAACAAAAAgAAAAQAAAADAAAAAQAAAAQAAAACAAAAAgAAAAQAAAACAAAABAAAAAEAAAACAAAAAwAAAAQAAAACAAAAAQAAAAMAAAACAAAAAwAAAAIAAAACAAAAAgAAAAMAAAACAAAAAwAAAAIAAAACAAAABAAAAAIAAAAEAAAAAgAAAAUAAAADAAAAAgAAAAIAAAADAAAAAgAAAAMAAAACAAAABAAAAAIAAAACAAAABAAAAAIAAAACAAAABAAAAAIAAAAEAAAAAgAAAAQAAAABAAAAAgAAAAQAAAABAAAABAAAAAMAAAAEAAAABAAAAAEAAAADAAAAAQAAAAMAAAABAAAAAgAAAAEAAAACAAAAAgAAAAMAAAAEAAAAAgAAAAMAAAACAAAAAgAAAAMAAAACAAAABAAAAAEAAAADAAAAAQAAAAIAAAADAAAAAgAAAAEAAAAEAAAAAwAAAAIAAAABAAAAAwAAAAIAAAAEAAAAAgAAAAIAAAACAAAAAgAAAAIAAAAEAAAAAgAAAAQAAAACAAAAAgAAAAIAAAAEAAAAAgAAAAIAAAAEAAAAAgAAAAIAAAADAAAAAgAAAAEAAAACAAAAAgAAAAIAAAABAAAABAAAAAIAAAACAAAABAAAAAIAAAAEAAAAAwAAAAQAAAADAAAABAAAAAIAAAACAAAAAwAAAAIAAAAEAAAABAAAAAIAAAACAAAAAgAAAAIAAAACAAAAAgAAAAIAAAADAAAABAAAAAQAAAACAAAABAAAAAQAAAADAAAAAgAAAAMAAAACAAAAAwAAAAEAAAACAAAAAgAAAAIAAAAFAAAABAAAAAIAAAABAAAAAgAAAAIAAAACAAAAAgAAAAMAAAACAAAABAAAAAMAAAACAAAAAwAAAAIAAAADAAAAAgAAAAQAAAABAAAAAgAAAAMAAAADAAAABAAAAAMAAAAEAAAAAgAAAAIAAAACAAAABAAAAAMAAAACAAAAAgAAAAIAAAACAAAAAgAAAAIAAAACAAAAAgAAAAIAAAACAAAAAgAAAAEAAAAEAAAAAgAAAAMAAAACAAAAAgAAAAIAAAAEAAAAAwAAAAMAAAABAAAAAwAAAAEAAAACAAAAAgAAAAIAAAACAAAABAAAAAIAAAADAAAAAgAAAAIAAAAEAAAAAwAAAAIAAAACAAAAAgAAAAMAAAACAAAAAwAAAAIAAAACAAAAAgAAAAMAAAACAAAAAgAAAAEAAAACAAAAAgAAAAIAAAAEAAAAAgAAAAIAAAACAAAAAgAAAAIAAAACAAAAAQAAAAIAAAABAAAABAAAAAIAAAACAAAAAgAAAAEAAAABAAAAAgAAAAIAAAACAAAABAAAAAQAAAADAAAABAAAAAIAAAACAAAABQAAAAQAAAABAAAAAgAAAAEAAAAEAAAAAgAAAAIAAAADAAAAAgAAAAIAAAADAAAAAgAAAAQAAAABAAAABAAAAAIAAAACAAAAAgAAAAMAAAACAAAAAQAAAAIAAAACAAAABAAAAAMAAAACAAAAAQAAAAIAAAABAAAABAAAAAYAAAACAAAAAgAAAAIAAAAEAAAABAAAAAQAAAABAAAABAAAAAQAAAACAAAABAAAAAIAAAADAAAAAwAAAAIAAAADAAAAAgAAAAIAAAADAAAAAgAAAAQAAAACAAAAAgAAAAQAAAACAAAAAwAAAAMAAAAEAAAABAAAAAMAAAABAAAAAgAAAAIAAAACAAAAAgAAAAIAAAADAAAAAwAAAAIAAAAGAAAAAwAAAAQAAAACAAAAAQAAAAIAAAACAAAAAgAAAAUAAAACAAAAAwAAAAIAAAACAAAAAgAAAAIAAAACAAAAAgAAAAEAAAACAAAAAgAAAAIAAAACAAAABAAAAAIAAAADAAAABAAAAAMAAAACAAAAAQAAAAIAAAACAAAAAQAAAAQAAAAEAAAAAgAAAAIAAAADAAAAAQAAAAIAAAAEAAAABAAAAAIAAAACAAAAAwAAAAIAAAACAAAAAwAAAAMAAAABAAAABAAAAAIAAAADAAAAAgAAAAIAAAADAAAAAgAAAAIAAAACAAAAAgAAAAMAAAABAAAABAAAAAIAAAACAAAAAgAAAAIAAAACAAAAAgAAAAIAAAACAAAAAgAAAAUAAAAEAAAAAgAAAAIAAAAEAAAAAwAAAAIAAAABAAAAAgAAAAEAAAACAAAABAAAAAEAAAACAAAAAgAAAAIAAAACAAAABAAAAAIAAAAEAAAAAwAAAAIAAAACAAAAAwAAAAIAAAAEAAAAAQAAAAIAAAACAAAABAAAAAMAAAACAAAABAAAAAUAAAABAAAAAgAAAAIAAAACAAAAAgAAAAIAAAACAAAAAwAAAAIAAAADAAAAAgAAAAMAAAACAAAAAgAAAAIAAAAEAAAAAgAAAAIAAAADAAAAAQAAAAIAAAABAAAAAQAAAAIAAAACAAAAAQAAAAMAAAADAAAAAgAAAAQAAAABAAAAAgAAAAIAAAABAAAABAAAAAIAAAACAAAAAgAAAAQAAAADAAAAAgAAAAIAAAADAAAAAgAAAAQAAAACAAAAAgAAAAIAAAACAAAABAAAAAIAAAAEAAAAAgAAAAIAAAAEAAAAAgAAAAEAAAACAAAABAAAAAEAAAAEAAAAAQAAAAMAAAADAAAAAwAAAAIAAAADAAAAAgAAAAQAAAAEAAAAAgAAAAIAAAACAAAAAQAAAAQAAAADAAAAAgAAAAIAAAABAAAAAQAAAAQAAAACAAAAAQAAAAIAAAACAAAABAAAAAQAAAADAAAAAgAAAAIAAAAEAAAAAgAAAAEAAAAEAAAAAwAAAAQAAAACAAAABAAAAAIAAAACAAAAAgAAAAIAAAACAAAAAgAAAAIAAAAEAAAAAgAAAAIAAAACAAAAAgAAAAIAAAADAAAAAgAAAAMAAAACAAAAAgAAAAMAAAADAAAABAAAAAMAAAABAAAAAgAAAAEAAAAEAAAAAgAAAAEAAAACAAAAAgAAAAIAAAACAAAABAAAAAMAAAAEAAAAAgAAAAMAAAADAAAAAwAAAAMAAAABAAAAAgAAAAIAAAACAAAAAwAAAAIAAAACAAAABAAAAAEAAAACAAAAAgAAAAIAAAACAAAAAwAAAAQAAAACAAAAAgAAAAQAAAACAAAABgAAAAIAAAACAAAAAgAAAAIAAAABAAAAAgAAAAEAAAACAAAAAgAAAAQAAAACAAAAAwAAAAQAAAAEAAAAAQAAAAMAAAACAAAAAgAAAAQAAAAEAAAAAgAAAAMAAAACAAAAAgAAAAEAAAAEAAAABAAAAAQAAAABAAAAAgAAAAQAAAACAAAAAgAAAAIAAAAEAAAAAgAAAAIAAAACAAAAAgAAAAIAAAAFAAAABAAAAAMAAAADAAAAAgAAAAMAAAACAAAAAwAAAAIAAAADAAAAAwAAAAIAAAACAAAAAgAAAAEAAAADAAAAAgAAAAMAAAACAAAAAwAAAAIAAAACAAAAAQAAAAIAAAAFAAAABQAAAAMAAAABAAAAAQAAAAIAAAADAAAABAAAAAIAAAACAAAAAQAAAAEAAAABAAAABAAAAAEAAAAEAAAAAwAAAAQAAAACAAAAAgAAAAEAAAACAAAABAAAAAIAAAAEAAAAAwAAAAIAAAACAAAAAwAAAAQAAAACAAAAAwAAAAQAAAACAAAABAAAAAIAAAAEAAAAAwAAAAMAAAAEAAAAAwAAAAQAAAACAAAAAgAAAAIAAAACAAAAAwAAAAIAAAACAAAAAgAAAAEAAAACAAAAAgAAAAMAAAACAAAAAgAAAAIAAAACAAAABAAAAAIAAAACAAAAAQAAAAMAAAADAAAAAgAAAAIAAAACAAAAAgAAAAMAAAACAAAAAgAAAAIAAAACAAAABAAAAAMAAAACAAAABAAAAAEAAAACAAAAAgAAAAIAAAACAAAABgAAAAIAAAACAAAABAAAAAMAAAACAAAAAgAAAAIAAAADAAAAAQAAAAIAAAAEAAAAAgAAAAIAAAACAAAAAwAAAAEAAAACAAAAAgAAAAQAAAACAAAABAAAAAMAAAAEAAAABQAAAAEAAAADAAAAAgAAAAIAAAADAAAAAwAAAAMAAAACAAAAAQAAAAIAAAACAAAAAQAAAAIAAAACAAAAAgAAAAQAAAAEAAAAAgAAAAMAAAACAAAAAgAAAAIAAAADAAAAAwAAAAIAAAACAAAAAQAAAAIAAAACAAAAAgAAAAIAAAACAAAAAwAAAAMAAAADAAAAAgAAAAIAAAADAAAAAgAAAAIAAAABAAAAAwAAAAIAAAACAAAAAwAAAAQAAAACAAAAAgAAAAIAAAADAAAAAgAAAAEAAAAEAAAAAwAAAAIAAAAEAAAAAgAAAAMAAAACAAAAAgAAAAMAAAADAAAAAgAAAAMAAAACAAAABAAAAAIAAAACAAAAAgAAAAQAAAADAAAAAgAAAAIAAAACAAAABAAAAAQAAAAFAAAAAgAAAAMAAAABAAAABAAAAAQAAAACAAAABAAAAAQAAAACAAAAAgAAAAQAAAAEAAAAAgAAAAQAAAAEAAAAAwAAAAIAAAAEAAAAAwAAAAIAAAAEAAAAAgAAAAIAAAACAAAAAgAAAAEAAAACAAAAAQAAAAEAAAACAAAAAgAAAAIAAAABAAAAAgAAAAIAAAACAAAAAQAAAAIAAAAEAAAAAgAAAAQAAAACAAAAAgAAAAQAAAACAAAABQAAAAMAAAACAAAAAgAAAAQAAAACAAAAAgAAAAIAAAABAAAAAgAAAAMAAAACAAAABAAAAAQAAAADAAAABAAAAAMAAAAEAAAAAgAAAAMAAAABAAAAAwAAAAEAAAACAAAAAQAAAAMAAAADAAAAAwAAAAIAAAACAAAAAgAAAAIAAAACAAAABAAAAAIAAAADAAAAAwAAAAMAAAACAAAABAAAAAIAAAAEAAAAAgAAAAIAAAACAAAAAwAAAAMAAAADAAAABAAAAAMAAAABAAAAAgAAAAMAAAAEAAAAAgAAAAMAAAACAAAAAwAAAAIAAAAEAAAAAgAAAAIAAAACAAAAAgAAAAEAAAACAAAAAwAAAAMAAAACAAAABAAAAAQAAAADAAAAAgAAAAEAAAAEAAAABAAAAAQAAAACAAAAAgAAAAIAAAACAAAAAgAAAAIAAAADAAAABAAAAAQAAAABAAAAAgAAAAIAAAACAAAAAwAAAAMAAAACAAAABQAAAAMAAAACAAAAAQAAAAIAAAADAAAAAgAAAAQAAAAEAAAABgAAAAIAAAACAAAAAwAAAAIAAAAEAAAAAQAAAAQAAAACAAAAAgAAAAIAAAABAAAAAQAAAAIAAAACAAAAAgAAAAQAAAACAAAAAgAAAAQAAAAEAAAAAwAAAAMAAAACAAAAAQAAAAQAAAABAAAAAwAAAAEAAAACAAAAAwAAAAIAAAACAAAAAgAAAAIAAAAEAAAAAgAAAAMAAAAEAAAAAgAAAAQAAAADAAAAAQAAAAIAAAACAAAAAgAAAAQAAAACAAAABAAAAAQAAAABAAAAAwAAAAIAAAACAAAAAgAAAAIAAAAEAAAAAgAAAAEAAAADAAAAAgAAAAMAAAABAAAAAgAAAAQAAAAEAAAAAgAAAAIAAAACAAAAAgAAAAMAAAACAAAAAwAAAAEAAAADAAAAAwAAAAQAAAABAAAAAgAAAAIAAAACAAAABAAAAAIAAAADAAAAAgAAAAIAAAACAAAABAAAAAMAAAABAAAABAAAAAMAAAACAAAAAgAAAAMAAAABAAAAAgAAAAIAAAADAAAABAAAAAIAAAAEAAAAAwAAAAIAAAAEAAAAAgAAAAEAAAACAAAABAAAAAQAAAADAAAAAQAAAAIAAAACAAAAAgAAAAIAAAAEAAAABAAAAAIAAAACAAAAAgAAAAIAAAACAAAAAwAAAAMAAAAEAAAAAgAAAAQAAAADAAAAAgAAAAIAAAADAAAABAAAAAQAAAAEAAAAAgAAAAIAAAABAAAAAgAAAAIAAAAEAAAAAQAAAAQAAAADAAAAAgAAAAQAAAAEAAAAAQAAAAMAAAACAAAAAwAAAAIAAAACAAAAAgAAAAIAAAACAAAAAQAAAAQAAAACAAAAAgAAAAEAAAACAAAABAAAAAEAAAACAAAABQAAAAIAAAABAAAAAgAAAAMAAAACAAAAAgAAAAEAAAABAAAAAgAAAAIAAAABAAAAAgAAAAIAAAADAAAAAgAAAAQAAAABAAAAAgAAAAIAAAABAAAAAgAAAAQAAAACAAAABAAAAAIAAAACAAAAAgAAAAMAAAADAAAABAAAAAQAAAACAAAAAwAAAAIAAAACAAAABAAAAAIAAAADAAAAAgAAAAQAAAACAAAAAgAAAAIAAAACAAAAAgAAAAMAAAACAAAAAwAAAAIAAAACAAAAAgAAAAIAAAACAAAAAQAAAAMAAAAEAAAAAwAAAAQAAAADAAAAAgAAAAIAAAABAAAAAwAAAAIAAAACAAAABAAAAAIAAAABAAAAAgAAAAIAAAADAAAAAwAAAAIAAAADAAAAAgAAAAIAAAACAAAABAAAAAEAAAABAAAAAgAAAAQAAAACAAAAAQAAAAIAAAAEAAAAAgAAAAIAAAACAAAAAgAAAAIAAAACAAAAAgAAAAMAAAABAAAAAwAAAAIAAAADAAAAAwAAAAQAAAACAAAAAgAAAAQAAAACAAAAAwAAAAQAAAACAAAAAQAAAAMAAAAEAAAABAAAAAIAAAACAAAAAgAAAAQAAAACAAAAAwAAAAIAAAACAAAABAAAAAIAAAACAAAAAgAAAAIAAAACAAAAAgAAAAMAAAACAAAAAwAAAAIAAAACAAAAAgAAAAQAAAAEAAAAAgAAAAQAAAAEAAAAAgAAAAIAAAACAAAAAgAAAAIAAAADAAAAAgAAAAIAAAACAAAABAAAAAIAAAAEAAAAAgAAAAEAAAACAAAABAAAAAIAAAAEAAAAAgAAAAIAAAAEAAAAAwAAAAIAAAACAAAABQAAAAMAAAADAAAAAgAAAAMAAAAEAAAAAwAAAAMAAAABAAAAAwAAAAIAAAACAAAAAgAAAAIAAAACAAAAAgAAAAMAAAACAAAAAgAAAAMAAAABAAAAAgAAAAIAAAACAAAABAAAAAIAAAADAAAAAgAAAAMAAAACAAAAAQAAAAIAAAACAAAAAgAAAAIAAAACAAAAAgAAAAIAAAACAAAAAgAAAAEAAAACAAAABAAAAAQAAAAEAAAAAgAAAAQAAAACAAAAAgAAAAQAAAACAAAAAQAAAAIAAAADAAAAAgAAAAEAAAABAAAAAgAAAAMAAAACAAAABAAAAAMAAAACAAAAAwAAAAIAAAACAAAAAgAAAAQAAAAEAAAAAQAAAAIAAAADAAAAAgAAAAEAAAADAAAAAwAAAAEAAAADAAAAAgAAAAIAAAACAAAABAAAAAMAAAACAAAABAAAAAIAAAAEAAAAAgAAAAIAAAABAAAAAgAAAAMAAAACAAAABAAAAAQAAAACAAAAAgAAAAMAAAACAAAAAQAAAAEAAAACAAAAAgAAAAIAAAADAAAAAgAAAAIAAAACAAAAAgAAAAEAAAACAAAAAwAAAAIAAAACAAAAAgAAAAMAAAACAAAAAwAAAAEAAAAEAAAAAgAAAAIAAAACAAAABAAAAAMAAAACAAAAAgAAAAEAAAABAAAABAAAAAMAAAADAAAAAwAAAAMAAAACAAAAAQAAAAEAAAACAAAAAgAAAAIAAAACAAAABAAAAAMAAAACAAAAAgAAAAQAAAAEAAAAAgAAAAIAAAABAAAAAgAAAAUAAAADAAAAAgAAAAIAAAABAAAAAgAAAAIAAAACAAAAAwAAAAIAAAACAAAAAgAAAAIAAAACAAAAAwAAAAIAAAACAAAAAgAAAAIAAAADAAAAAgAAAAIAAAABAAAABAAAAAEAAAACAAAABAAAAAIAAAAEAAAAAQAAAAQAAAADAAAAAgAAAAIAAAAEAAAAAwAAAAMAAAACAAAAAwAAAAUAAAACAAAAAgAAAAIAAAADAAAAAgAAAAIAAAACAAAAAgAAAAQAAAACAAAAAgAAAAIAAAAEAAAAAwAAAAEAAAACAAAAAQAAAAMAAAACAAAAAgAAAAIAAAACAAAAAgAAAAIAAAABAAAAAgAAAAIAAAACAAAAAgAAAAIAAAACAAAAAgAAAAIAAAABAAAAAwAAAAMAAAAEAAAAAgAAAAQAAAACAAAAAQAAAAQAAAACAAAAAQAAAAQAAAABAAAABAAAAAMAAAADAAAAAQAAAAIAAAACAAAABAAAAAIAAAADAAAABAAAAAMAAAAEAAAABAAAAAMAAAADAAAAAwAAAAMAAAABAAAAAgAAAAIAAAAEAAAAAgAAAAQAAAABAAAAAgAAAAMAAAABAAAAAwAAAAIAAAAEAAAAAwAAAAEAAAAEAAAAAQAAAAIAAAADAAAAAwAAAAIAAAACAAAAAwAAAAEAAAABAAAABQAAAAMAAAABAAAAAQAAAAEAAAABAAAAAwAAAAEAAAACAAAAAgAAAAQAAAACAAAABAAAAAMAAAACAAAAAgAAAAQAAAAEAAAAAwAAAAEAAAADAAAABAAAAAQAAAACAAAAAgAAAAIAAAACAAAAAwAAAAMAAAACAAAAAQAAAAIAAAABAAAAAgAAAAIAAAABAAAABAAAAAQAAAAEAAAAAgAAAAEAAAACAAAABAAAAAIAAAAEAAAAAgAAAAIAAAACAAAABAAAAAQAAAACAAAAAgAAAAMAAAACAAAAAgAAAAEAAAACAAAAAgAAAAEAAAACAAAAAgAAAAIAAAACAAAAAgAAAAIAAAAEAAAAAgAAAAEAAAAEAAAAAgAAAAIAAAAEAAAAAgAAAAIAAAAFAAAABAAAAAEAAAACAAAABAAAAAIAAAACAAAAAgAAAAIAAAACAAAAAgAAAAIAAAADAAAAAgAAAAIAAAACAAAAAgAAAAIAAAACAAAAAgAAAAIAAAAEAAAAAwAAAAIAAAACAAAAAgAAAAIAAAACAAAAAQAAAAYAAAADAAAAAgAAAAQAAAACAAAAAgAAAAEAAAACAAAAAwAAAAMAAAAEAAAAAwAAAAIAAAACAAAAAgAAAAQAAAACAAAAAQAAAAEAAAAEAAAAAgAAAAMAAAABAAAAAgAAAAIAAAADAAAAAwAAAAIAAAACAAAABAAAAAIAAAABAAAAAQAAAAIAAAADAAAAAQAAAAQAAAACAAAAAQAAAAEAAAAEAAAAAgAAAAIAAAADAAAAAwAAAAQAAAAEAAAAAgAAAAEAAAAEAAAAAgAAAAIAAAACAAAAAQAAAAIAAAADAAAAAgAAAAIAAAAEAAAAAQAAAAQAAAABAAAAAgAAAAIAAAACAAAAAgAAAAQAAAADAAAAAwAAAAIAAAACAAAAAQAAAAIAAAACAAAAAgAAAAIAAAADAAAAAwAAAAIAAAACAAAAAwAAAAIAAAABAAAAAgAAAAIAAAADAAAAAgAAAAIAAAADAAAAAQAAAAIAAAACAAAAAgAAAAIAAAACAAAABAAAAAQAAAACAAAAAgAAAAIAAAAEAAAABAAAAAIAAAABAAAAAgAAAAIAAAADAAAAAgAAAAEAAAAEAAAAAgAAAAMAAAACAAAAAwAAAAIAAAADAAAAAgAAAAMAAAADAAAAAwAAAAMAAAACAAAAAwAAAAIAAAAEAAAAAgAAAAIAAAABAAAAAwAAAAIAAAACAAAABAAAAAMAAAACAAAABAAAAAEAAAAEAAAAAgAAAAIAAAACAAAAAgAAAAIAAAACAAAAAgAAAAMAAAAEAAAAAgAAAAMAAAACAAAAAgAAAAIAAAACAAAAAwAAAAIAAAACAAAAAgAAAAIAAAACAAAAAgAAAAIAAAACAAAABQAAAAMAAAAEAAAAAQAAAAQAAAAEAAAAAgAAAAQAAAADAAAAAgAAAAQAAAACAAAAAgAAAAIAAAACAAAAAgAAAAIAAAACAAAAAgAAAAIAAAACAAAAAgAAAAMAAAACAAAAAwAAAAMAAAACAAAABAAAAAIAAAAEAAAABAAAAAIAAAACAAAAAwAAAAMAAAAEAAAAAgAAAAMAAAAEAAAAAgAAAAIAAAAEAAAAAgAAAAIAAAAEAAAABAAAAAIAAAACAAAAAgAAAAIAAAACAAAAAgAAAAIAAAAEAAAAAwAAAAIAAAACAAAAAwAAAAEAAAAEAAAAAwAAAAQAAAACAAAAAwAAAAMAAAACAAAABAAAAAIAAAACAAAABAAAAAQAAAAEAAAAAgAAAAIAAAABAAAAAgAAAAQAAAAEAAAAAgAAAAIAAAABAAAAAQAAAAMAAAADAAAABQAAAAIAAAACAAAAAQAAAAIAAAADAAAAAgAAAAIAAAABAAAABAAAAAMAAAAEAAAAAQAAAAQAAAABAAAAAgAAAAIAAAAEAAAAAgAAAAEAAAADAAAAAgAAAAQAAAABAAAABQAAAAMAAAACAAAAAQAAAAMAAAACAAAABAAAAAIAAAACAAAABAAAAAIAAAABAAAAAgAAAAQAAAAEAAAAAgAAAAIAAAADAAAAAwAAAAIAAAACAAAAAwAAAAMAAAADAAAAAgAAAAIAAAACAAAAAQAAAAQAAAACAAAAAQAAAAIAAAACAAAAAQAAAAEAAAAEAAAAAwAAAAMAAAADAAAAAgAAAAIAAAACAAAAAgAAAAMAAAACAAAABAAAAAIAAAACAAAAAwAAAAIAAAACAAAAAgAAAAIAAAACAAAABAAAAAMAAAACAAAAAgAAAAIAAAACAAAAAgAAAAIAAAACAAAAAgAAAAIAAAACAAAAAwAAAAIAAAACAAAAAgAAAAQAAAADAAAABAAAAAMAAAAEAAAAAgAAAAMAAAADAAAAAgAAAAIAAAAEAAAABAAAAAIAAAACAAAAAgAAAAIAAAAEAAAAAQAAAAIAAAABAAAABAAAAAMAAAACAAAAAgAAAAIAAAAEAAAAAQAAAAIAAAACAAAAAwAAAAIAAAADAAAABAAAAAIAAAACAAAAAgAAAAIAAAABAAAAAgAAAAUAAAACAAAAAgAAAAIAAAACAAAAAgAAAAIAAAABAAAAAgAAAAIAAAAEAAAABAAAAAIAAAACAAAABAAAAAIAAAACAAAAAwAAAAQAAAACAAAAAgAAAAIAAAADAAAAAgAAAAIAAAABAAAABAAAAAQAAAACAAAAAQAAAAIAAAADAAAAAwAAAAEAAAACAAAAAwAAAAMAAAADAAAAAwAAAAMAAAADAAAAAgAAAAEAAAAEAAAAAgAAAAMAAAACAAAAAwAAAAIAAAAFAAAAAgAAAAMAAAACAAAAAgAAAAIAAAAEAAAAAgAAAAQAAAACAAAAAgAAAAIAAAACAAAAAQAAAAMAAAACAAAAAgAAAAEAAAACAAAAAgAAAAIAAAACAAAAAQAAAAIAAAADAAAAAwAAAAIAAAABAAAABAAAAAIAAAAEAAAABAAAAAIAAAABAAAAAgAAAAMAAAADAAAAAwAAAAIAAAADAAAABAAAAAIAAAAEAAAAAQAAAAIAAAACAAAAAgAAAAIAAAABAAAAAQAAAAMAAAAEAAAAAgAAAAIAAAACAAAAAgAAAAMAAAACAAAAAgAAAAMAAAAEAAAABAAAAAIAAAAEAAAAAgAAAAMAAAACAAAAAwAAAAQAAAACAAAAAgAAAAIAAAABAAAABAAAAAIAAAAEAAAAAQAAAAMAAAAEAAAABQAAAAIAAAABAAAABAAAAAMAAAADAAAABAAAAAEAAAACAAAAAgAAAAMAAAACAAAAAgAAAAIAAAACAAAAAgAAAAIAAAACAAAAAQAAAAIAAAACAAAABAAAAAIAAAABAAAABAAAAAIAAAADAAAABAAAAAQAAAACAAAAAgAAAAIAAAACAAAAAgAAAAQAAAAEAAAAAQAAAAQAAAACAAAAAgAAAAEAAAACAAAAAQAAAAMAAAADAAAABAAAAAIAAAAEAAAAAwAAAAIAAAACAAAAAgAAAAIAAAACAAAAAwAAAAQAAAACAAAAAgAAAAMAAAACAAAAAQAAAAEAAAAEAAAAAgAAAAQAAAACAAAAAwAAAAMAAAACAAAAAgAAAAIAAAABAAAAAgAAAAMAAAACAAAAAwAAAAMAAAACAAAAAQAAAAMAAAACAAAAAgAAAAIAAAACAAAAAgAAAAIAAAAEAAAABAAAAAQAAAACAAAABAAAAAQAAAAEAAAAAgAAAAIAAAACAAAAAQAAAAIAAAADAAAAAwAAAAIAAAAFAAAABAAAAAMAAAACAAAAAQAAAAIAAAABAAAAAgAAAAIAAAADAAAAAgAAAAIAAAACAAAABAAAAAMAAAACAAAABAAAAAQAAAAFAAAAAQAAAAQAAAACAAAAAwAAAAIAAAACAAAAAgAAAAIAAAACAAAAAQAAAAIAAAAEAAAAAgAAAAQAAAACAAAABAAAAAIAAAACAAAAAgAAAAEAAAACAAAAAgAAAAIAAAAEAAAAAgAAAAIAAAACAAAABAAAAAMAAAADAAAAAQAAAAEAAAACAAAAAgAAAAMAAAAEAAAAAgAAAAIAAAAEAAAAAQAAAAIAAAACAAAABAAAAAIAAAACAAAAAgAAAAIAAAACAAAAAgAAAAMAAAACAAAAAwAAAAIAAAAEAAAAAgAAAAIAAAADAAAAAgAAAAIAAAAEAAAAAgAAAAIAAAAEAAAAAgAAAAIAAAACAAAAAQAAAAIAAAABAAAAAgAAAAIAAAAEAAAAAgAAAAMAAAADAAAABAAAAAEAAAACAAAAAgAAAAIAAAACAAAAAgAAAAMAAAACAAAAAQAAAAIAAAACAAAAAQAAAAIAAAAEAAAAAgAAAAIAAAAEAAAAAwAAAAIAAAABAAAAAwAAAAIAAAADAAAAAgAAAAMAAAACAAAAAgAAAAIAAAADAAAAAgAAAAIAAAAEAAAAAgAAAAIAAAACAAAAAgAAAAIAAAACAAAAAgAAAAIAAAAEAAAAAgAAAAQAAAACAAAABAAAAAQAAAAEAAAAAgAAAAQAAAACAAAAAgAAAAMAAAACAAAAAgAAAAQAAAACAAAABAAAAAEAAAAEAAAAAgAAAAIAAAABAAAAAwAAAAIAAAADAAAAAgAAAAIAAAACAAAAAgAAAAMAAAACAAAABAAAAAIAAAACAAAABAAAAAIAAAACAAAAAgAAAAQAAAADAAAABAAAAAEAAAADAAAAAgAAAAMAAAACAAAABAAAAAIAAAADAAAABAAAAAEAAAACAAAAAgAAAAMAAAADAAAAAgAAAAIAAAADAAAAAgAAAAEAAAACAAAAAgAAAAIAAAABAAAAAQAAAAIAAAACAAAAAgAAAAMAAAACAAAAAgAAAAIAAAAEAAAAAgAAAAIAAAAEAAAABAAAAAMAAAAEAAAAAgAAAAQAAAACAAAAAQAAAAEAAAACAAAAAQAAAAQAAAACAAAABAAAAAIAAAACAAAAAgAAAAQAAAADAAAAAQAAAAIAAAACAAAAAgAAAAMAAAADAAAAAwAAAAMAAAACAAAABAAAAAMAAAABAAAAAgAAAAQAAAADAAAAAgAAAAQAAAAEAAAAAwAAAAEAAAADAAAAAgAAAAIAAAACAAAABQAAAAIAAAACAAAAAgAAAAIAAAACAAAAAgAAAAEAAAACAAAAAgAAAAEAAAACAAAAAwAAAAMAAAACAAAAAgAAAAMAAAACAAAAAgAAAAQAAAACAAAAAQAAAAIAAAACAAAAAQAAAAQAAAACAAAAAgAAAAIAAAACAAAAAgAAAAIAAAADAAAAAgAAAAQAAAACAAAABAAAAAIAAAAEAAAAAgAAAAEAAAACAAAAAgAAAAQAAAACAAAABAAAAAMAAAADAAAAAgAAAAIAAAADAAAAAgAAAAIAAAACAAAAAgAAAAIAAAADAAAABAAAAAIAAAACAAAAAgAAAAQAAAADAAAABQAAAAMAAAACAAAAAwAAAAIAAAACAAAAAQAAAAQAAAAEAAAABAAAAAEAAAAEAAAAAwAAAAQAAAACAAAAAgAAAAMAAAACAAAAAgAAAAIAAAACAAAAAgAAAAIAAAAEAAAAAgAAAAMAAAAEAAAAAgAAAAQAAAACAAAAAwAAAAMAAAACAAAABAAAAAIAAAACAAAABAAAAAIAAAAEAAAAAgAAAAIAAAABAAAAAQAAAAIAAAACAAAAAQAAAAMAAAACAAAABAAAAAIAAAACAAAAAgAAAAEAAAAEAAAAAgAAAAQAAAACAAAAAgAAAAMAAAACAAAAAQAAAAIAAAADAAAAAgAAAAQAAAACAAAAAgAAAAMAAAAEAAAAAgAAAAIAAAABAAAAAwAAAAIAAAACAAAAAgAAAAIAAAACAAAAAwAAAAIAAAACAAAAAgAAAAMAAAADAAAAAgAAAAQAAAACAAAABAAAAAUAAAABAAAAAgAAAAIAAAADAAAAAgAAAAQAAAACAAAAAgAAAAQAAAABAAAAAQAAAAIAAAACAAAAAgAAAAIAAAABAAAAAgAAAAEAAAACAAAAAgAAAAQAAAADAAAAAgAAAAIAAAACAAAAAwAAAAIAAAADAAAAAgAAAAIAAAAFAAAAAgAAAAQAAAACAAAAAgAAAAIAAAABAAAABAAAAAIAAAACAAAAAgAAAAQAAAABAAAAAgAAAAIAAAADAAAAAQAAAAQAAAADAAAABAAAAAIAAAABAAAAAgAAAAMAAAACAAAABAAAAAQAAAACAAAAAgAAAAEAAAADAAAABAAAAAIAAAADAAAAAQAAAAIAAAAEAAAAAwAAAAIAAAACAAAABAAAAAIAAAABAAAAAgAAAAQAAAACAAAAAgAAAAIAAAABAAAABAAAAAIAAAACAAAAAwAAAAQAAAADAAAABAAAAAIAAAABAAAAAgAAAAIAAAACAAAABAAAAAQAAAAFAAAAAwAAAAIAAAACAAAAAgAAAAEAAAADAAAAAwAAAAIAAAACAAAABAAAAAIAAAACAAAAAgAAAAMAAAADAAAABAAAAAQAAAACAAAABAAAAAMAAAACAAAAAgAAAAMAAAACAAAAAwAAAAQAAAAFAAAAAwAAAAIAAAACAAAABAAAAAIAAAABAAAAAQAAAAIAAAADAAAAAgAAAAIAAAACAAAAAgAAAAEAAAACAAAAAgAAAAEAAAAEAAAAAgAAAAIAAAABAAAABAAAAAIAAAAEAAAAAgAAAAIAAAACAAAAAgAAAAEAAAAEAAAAAQAAAAQAAAACAAAAAwAAAAIAAAACAAAAAQAAAAEAAAADAAAAAgAAAAIAAAACAAAAAwAAAAMAAAAEAAAABAAAAAEAAAADAAAAAgAAAAIAAAADAAAAAwAAAAIAAAACAAAAAwAAAAIAAAACAAAAAgAAAAIAAAACAAAABAAAAAEAAAAEAAAAAgAAAAIAAAACAAAAAwAAAAQAAAACAAAAAgAAAAEAAAADAAAABAAAAAIAAAACAAAAAgAAAAIAAAACAAAABAAAAAQAAAADAAAABAAAAAEAAAACAAAAAwAAAAQAAAACAAAAAwAAAAMAAAACAAAABAAAAAQAAAAFAAAAAgAAAAQAAAADAAAABAAAAAEAAAADAAAAAgAAAAIAAAAEAAAABAAAAAMAAAAEAAAAAgAAAAEAAAACAAAAAgAAAAIAAAACAAAAAgAAAAMAAAAEAAAAAgAAAAQAAAACAAAABQAAAAIAAAACAAAAAgAAAAQAAAACAAAAAgAAAAQAAAABAAAAAQAAAAIAAAAEAAAABAAAAAMAAAAEAAAAAgAAAAMAAAACAAAAAgAAAAIAAAAEAAAAAgAAAAEAAAAEAAAAAgAAAAMAAAAEAAAAAgAAAAIAAAADAAAABAAAAAQAAAABAAAAAgAAAAIAAAACAAAABAAAAAIAAAACAAAABAAAAAQAAAACAAAAAgAAAAMAAAACAAAAAwAAAAQAAAAEAAAAAgAAAAIAAAACAAAAAgAAAAIAAAADAAAAAgAAAAIAAAAEAAAAAgAAAAIAAAAEAAAABAAAAAIAAAACAAAAAgAAAAIAAAACAAAAAwAAAAQAAAACAAAAAgAAAAQAAAADAAAAAgAAAAQAAAACAAAAAgAAAAIAAAACAAAAAwAAAAMAAAACAAAAAgAAAAQAAAACAAAABAAAAAIAAAADAAAABAAAAAIAAAACAAAAAgAAAAIAAAACAAAAAgAAAAQAAAADAAAAAwAAAAQAAAADAAAABAAAAAIAAAACAAAAAgAAAAMAAAABAAAAAgAAAAMAAAACAAAAAgAAAAIAAAAEAAAAAwAAAAIAAAACAAAAAgAAAAIAAAAEAAAAAgAAAAIAAAACAAAABAAAAAIAAAACAAAAAgAAAAQAAAACAAAAAgAAAAIAAAACAAAAAgAAAAIAAAADAAAAAwAAAAQAAAACAAAAAgAAAAIAAAAEAAAAAwAAAAEAAAADAAAAAQAAAAMAAAAFAAAAAgAAAAMAAAACAAAAAwAAAAIAAAAEAAAAAgAAAAYAAAACAAAAAgAAAAMAAAADAAAABAAAAAMAAAACAAAAAgAAAAMAAAACAAAAAgAAAAIAAAADAAAABAAAAAIAAAAEAAAAAgAAAAIAAAACAAAABAAAAAMAAAAEAAAAAQAAAAIAAAAEAAAAAQAAAAQAAAABAAAAAgAAAAIAAAAEAAAAAgAAAAQAAAADAAAAAQAAAAQAAAACAAAAAgAAAAIAAAADAAAABAAAAAQAAAADAAAABAAAAAQAAAACAAAAAwAAAAIAAAADAAAAAgAAAAQAAAADAAAAAwAAAAIAAAADAAAAAwAAAAIAAAACAAAAAgAAAAIAAAACAAAAAwAAAAIAAAACAAAAAwAAAAQAAAACAAAAAgAAAAIAAAACAAAAAgAAAAQAAAAEAAAAAwAAAAIAAAACAAAABAAAAAIAAAADAAAABAAAAAEAAAACAAAAAwAAAAMAAAACAAAAAgAAAAQAAAACAAAAAQAAAAMAAAAEAAAABAAAAAIAAAAEAAAAAwAAAAIAAAACAAAABAAAAAIAAAADAAAAAgAAAAIAAAADAAAAAgAAAAQAAAABAAAAAgAAAAIAAAACAAAABAAAAAIAAAABAAAAAgAAAAIAAAABAAAAAgAAAAQAAAACAAAAAgAAAAIAAAACAAAABAAAAAIAAAAEAAAAAwAAAAMAAAAEAAAAAgAAAAMAAAABAAAAAwAAAAIAAAABAAAAAQAAAAIAAAACAAAAAgAAAAIAAAAFAAAAAgAAAAIAAAACAAAAAgAAAAIAAAAEAAAABAAAAAIAAAADAAAAAgAAAAIAAAADAAAAAQAAAAUAAAAEAAAAAwAAAAIAAAABAAAAAgAAAAIAAAACAAAAAgAAAAMAAAADAAAAAQAAAAMAAAAEAAAAAgAAAAIAAAABAAAAAwAAAAIAAAACAAAAAQAAAAQAAAACAAAAAgAAAAMAAAADAAAAAgAAAAIAAAAEAAAAAgAAAAIAAAABAAAAAwAAAAIAAAACAAAABAAAAAIAAAADAAAAAwAAAAIAAAADAAAAAgAAAAIAAAACAAAAAgAAAAMAAAACAAAAAgAAAAEAAAACAAAAAgAAAAMAAAABAAAAAgAAAAIAAAABAAAAAwAAAAIAAAAEAAAAAgAAAAMAAAACAAAAAgAAAAMAAAACAAAAAgAAAAIAAAACAAAAAwAAAAIAAAACAAAAAQAAAAIAAAAEAAAAAgAAAAIAAAACAAAABAAAAAQAAAAEAAAAAgAAAAQAAAADAAAAAwAAAAMAAAADAAAAAgAAAAMAAAADAAAABAAAAAIAAAAEAAAAAgAAAAIAAAADAAAAAgAAAAIAAAADAAAAAwAAAAMAAAAEAAAAAgAAAAIAAAAEAAAABAAAAAMAAAACAAAABAAAAAMAAAACAAAAAgAAAAEAAAADAAAAAgAAAAIAAAACAAAABAAAAAIAAAACAAAAAQAAAAIAAAACAAAABAAAAAMAAAACAAAAAgAAAAIAAAACAAAAAgAAAAIAAAAEAAAABAAAAAIAAAAEAAAAAgAAAAQAAAADAAAAAgAAAAEAAAADAAAAAgAAAAQAAAAEAAAABAAAAAMAAAAEAAAAAgAAAAIAAAACAAAAAgAAAAMAAAAEAAAAAwAAAAIAAAADAAAABAAAAAIAAAADAAAAAgAAAAIAAAACAAAAAgAAAAEAAAADAAAAAwAAAAQAAAACAAAAAQAAAAIAAAAEAAAAAwAAAAQAAAACAAAAAQAAAAIAAAACAAAAAgAAAAIAAAADAAAAAgAAAAIAAAAEAAAAAgAAAAEAAAADAAAAAgAAAAIAAAABAAAAAgAAAAIAAAAEAAAAAgAAAAQAAAAEAAAAAgAAAAIAAAAEAAAABAAAAAIAAAAEAAAAAgAAAAIAAAACAAAABAAAAAQAAAADAAAAAwAAAAUAAAACAAAABAAAAAQAAAAEAAAABAAAAAIAAAABAAAABAAAAAIAAAACAAAAAwAAAAMAAAADAAAAAgAAAAEAAAAEAAAAAgAAAAIAAAACAAAAAgAAAAIAAAAEAAAABgAAAAEAAAACAAAAAgAAAAQAAAACAAAABAAAAAIAAAACAAAABAAAAAQAAAACAAAABAAAAAMAAAABAAAAAwAAAAIAAAACAAAAAwAAAAEAAAACAAAABAAAAAIAAAACAAAAAgAAAAMAAAACAAAABAAAAAIAAAACAAAAAwAAAAQAAAACAAAAAwAAAAEAAAABAAAAAwAAAAIAAAADAAAABAAAAAMAAAAEAAAAAgAAAAQAAAACAAAAAgAAAAMAAAACAAAAAgAAAAQAAAADAAAAAgAAAAMAAAACAAAAAgAAAAIAAAADAAAAAgAAAAMAAAADAAAAAgAAAAQAAAAEAAAAAgAAAAIAAAADAAAABAAAAAQAAAAFAAAAAQAAAAIAAAADAAAAAgAAAAEAAAABAAAAAgAAAAQAAAACAAAAAgAAAAMAAAABAAAAAwAAAAIAAAABAAAAAwAAAAEAAAACAAAAAgAAAAIAAAADAAAAAgAAAAEAAAACAAAAAwAAAAIAAAAEAAAAAwAAAAIAAAAEAAAAAwAAAAQAAAAEAAAAAwAAAAMAAAADAAAABgAAAAIAAAACAAAABAAAAAEAAAACAAAAAwAAAAMAAAADAAAAAgAAAAEAAAADAAAAAgAAAAMAAAAEAAAAAgAAAAIAAAACAAAABAAAAAQAAAADAAAAAgAAAAQAAAACAAAAAgAAAAIAAAACAAAAAQAAAAIAAAAEAAAAAwAAAAMAAAAEAAAAAQAAAAQAAAADAAAAAgAAAAIAAAADAAAAAgAAAAQAAAADAAAAAwAAAAQAAAABAAAAAgAAAAMAAAAEAAAAAgAAAAQAAAADAAAAAQAAAAIAAAAEAAAABAAAAAQAAAACAAAAAgAAAAQAAAACAAAAAwAAAAMAAAABAAAAAQAAAAMAAAACAAAAAgAAAAIAAAACAAAAAgAAAAEAAAABAAAAAwAAAAIAAAAEAAAABAAAAAMAAAABAAAAAQAAAAIAAAAEAAAAAgAAAAMAAAACAAAAAgAAAAIAAAACAAAAAQAAAAQAAAACAAAAAgAAAAIAAAACAAAAAgAAAAIAAAABAAAABAAAAAMAAAAEAAAABAAAAAEAAAABAAAAAgAAAAQAAAACAAAAAwAAAAQAAAACAAAAAgAAAAQAAAACAAAAAwAAAAQAAAADAAAAAgAAAAIAAAACAAAAAwAAAAIAAAAEAAAAAwAAAAMAAAACAAAABAAAAAIAAAAEAAAAAgAAAAMAAAACAAAAAgAAAAIAAAACAAAAAQAAAAIAAAAEAAAAAgAAAAMAAAACAAAABAAAAAQAAAABAAAAAgAAAAIAAAACAAAAAgAAAAIAAAADAAAABAAAAAMAAAABAAAAAgAAAAYAAAAEAAAAAwAAAAMAAAAEAAAABAAAAAMAAAACAAAAAgAAAAEAAAACAAAAAQAAAAMAAAAEAAAAAwAAAAIAAAACAAAAAQAAAAIAAAACAAAAAgAAAAIAAAAEAAAAAgAAAAIAAAACAAAAAQAAAAIAAAACAAAAAQAAAAQAAAACAAAAAQAAAAIAAAACAAAAAQAAAAMAAAACAAAABAAAAAEAAAADAAAAAgAAAAIAAAACAAAAAwAAAAIAAAABAAAAAgAAAAMAAAADAAAAAQAAAAEAAAACAAAAAgAAAAIAAAABAAAAAgAAAAIAAAACAAAAAgAAAAUAAAABAAAAAwAAAAMAAAABAAAAAgAAAAIAAAACAAAAAgAAAAIAAAACAAAAAgAAAAMAAAABAAAABAAAAAIAAAADAAAAAgAAAAIAAAACAAAAAQAAAAIAAAACAAAAAwAAAAEAAAABAAAAAgAAAAIAAAADAAAAAwAAAAIAAAADAAAAAgAAAAQAAAADAAAAAQAAAAIAAAABAAAAAgAAAAEAAAADAAAAAwAAAAIAAAACAAAAAQAAAAQAAAABAAAAAgAAAAIAAAACAAAABAAAAAMAAAAEAAAAAgAAAAIAAAACAAAAAgAAAAIAAAADAAAAAgAAAAIAAAACAAAAAwAAAAIAAAACAAAAAwAAAAIAAAACAAAAAgAAAAMAAAACAAAABAAAAAEAAAACAAAAAgAAAAIAAAAEAAAAAwAAAAIAAAACAAAAAgAAAAQAAAAEAAAAAgAAAAIAAAAEAAAAAgAAAAIAAAAEAAAAAgAAAAIAAAABAAAAAQAAAAIAAAAEAAAAAgAAAAQAAAACAAAAAgAAAAIAAAADAAAAAgAAAAQAAAACAAAAAQAAAAEAAAADAAAABAAAAAMAAAAEAAAAAgAAAAMAAAACAAAABAAAAAIAAAACAAAAAgAAAAQAAAADAAAAAgAAAAMAAAACAAAAAQAAAAEAAAAEAAAAAgAAAA==",
           "dtype": "i4"
          },
          "coloraxis": "coloraxis",
          "symbol": "circle"
         },
         "mode": "markers",
         "name": "",
         "scene": "scene",
         "showlegend": false,
         "type": "scatter3d",
         "x": {
          "bdata": "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",
          "dtype": "i2"
         },
         "y": {
          "bdata": "DAAHAAUABAABAAEACgACAAEAAgAGAAMABAAKAAgABAAKAAIABAACAAEAAQADAAcABQADAAMABAACAAIABAACAAQACwAEAAUAAgABAAIAAQAIAAMAAQAGAAEABgACAA8AAQACAAEABwABAAEABgACAAEAAQAFAAUACAAHAAMAAQAGAAQABgAbAAEAEwAEAAIAAQAGABEACQADAAIAAgADAAkACAABABsABQAIAAMABgABACYAAgACAAIAAQABAAUAAgABAAEAAQAGAAUACAACAAEABQAKAAMACAAEAAEAAQACAAIABAAIAAIAAQABAAUAAgABAE0AEwAFAB8AAgAXAAkAAQAHAA8AGwATAAwAAQABAAEAAwABABQAAQADAAIACQABAAIAAwADAAEAEwABAAUAAQAEAAEAAQAEAAIAAQAJAAEAAgABAAIAAQAEAAUABAACAAUAAQACABcAEQADAAIABQAGAAEACQACAAEAAgABAAIAAwABAAIABwAhAAMAAgABAAEAAgACAAMAAQAGAAEAAQACAAwAAQABAAIACAABAAIAAgABAAkAAQABAAEAAQAPAAEAGwABAAIAAgAFAAEAAgAJAAgABAABAAIAAQAEABoACAACAAQAAQAEAAgAAgADAAUAAwAPAAEAAgAEAAsADQAVAAYAAQABAAIABAABAAEAAQAJAAUAAQABAAoAAQAHAAMAAQABAAoAAwAiAAEABwACAAQACQAHAAIAAgACAAcAAgAHAAIABAABAA0AAgADAAMAAQADAAwABAAJAAEAIwAEAAgABAACAAMABQABAAgABAABAAEAAQABABMAAgALAAMAAQABAAsAAwAHAAEAAgACAAQAAgALAAIAFQAEAAMALQAzABMABwAGAAEAAgABAAIAAQAHAAEABwADAAcAAgADAAEAAQAEAAYAAQAEAAgADgABABIAIQADAAIAFQAMAAEAAQADAAEAAQAdAAgABAAEAAYABAALAAoABQABAAEAEQABAAQAAwACAAEAAgABAAQAAQACAAEAAgALAAMAAQAZAE0BCAABAAEAAQAGAAQACwABAA0ABwAIAAEAAgACAAIAAQAGAAgAAQABAAEAAgABAAEAAQABAAcAAQABAAkADgABAAIACgAFAAMAAwABAAQABAADAAIABgACAAMAAgABAAEAAgAEAAEAAwABAAcAAQACAAQABAABAAUAAwACAAUAAQADAAEAAgACAAMAAQABAAoAAgACABIAAQACAAsAAwAFAAMABgADAAIAAQABACoAEAACAAoAGQAHACYABAAeAAQABAABAAIAAQAGAAEAAgABAAsABwAEAAYABgABAAEAAQABAAIABgACAAQAAwANAAgAAQADAAMADAADAAIABQAEABMAAgADAAIAAQACAAQAAQADAAIAAQACAAQAAwALAAEAAQABAAIABAACAAEAAQAcAAEAAQACAAIABAACAAUACAANAAEABAAMAAEABAAHAAYAAQAGAAMASQABAAMADAACAAQAAQAMAAEAAgA4AAgACAABAA0ABAAJAAEAEwACAAEAAwACAAIAAgABAAYACQAVAAIADwAEAAIAAQAKAAQADQACAAEABAABAAIADAABAAEAAQADAAEAAQAKAG8ABAABAAIABgAIAAQABQABABUAAgAIAAEAAQABAAoABQABAB8ABwADAAEACAACAAEAAQAIAAMAAwAEACAAAwADACQABAABAAEAAwABAAIAAQALAB0ACwALAAMAAQAhAAYAAgAQAAEABAACAAEACAATAAIABQACAAUACQACAAMAAwABAAwAAwAEAAIABAADAAEACwADAAMAFwAJAAQAIwACAAcAAQAEAAEAAwADAAoAAQABAAEAAQAGAAUAAgADAAIAJQAEAAEAAQACAAQAAQABAAoAOAAFAAQAHAAVAAIAAQAIAAEAAQABAMQAGAADAAwANwANAAEAAQAcABkAAQAEACQAAwAIAAEAAgAJAAIAAwAMAAEAAQAkAAEACgABABIACQABAAEAAQACAAIABAABAAwAAQABAAIAAQAHAAEAAwAGAAIADQAQAAcACAAFABEAAQABAAIABwABAAQAGgAEAAMAAwAHAAEAAwAGAAMACQAFAAQAAQACABAAAQACAAMAAgAFAAUAAwABAAMAAQAKAAwAAgABAAIAFQABAAEAAQABAA8ACgABAAMABAABAAIAAwABAAYAAQACAAEABwABAAgAQAAEAAQACAAKAAEAAQANAAQACQANAAEACgADAAsABwABAAEABAABAAEABQACAAEABgACAA8AAgABAAEAAQAfAAcABAACAAEAAgABAAYABQAIAAEABwAFAAEAAgALAAQAAgAJAAIAAQACAAQAAQADAAEAAQAFAAkAAQACAAMAJgABAAUAEwAhAAsAGwABAAEAAgABAAEAAgAFAAcABAABAAcAAQAEAAQAAQAGAAEAAwAFAAEAAQALAAUABgADAAQABgAHAAMAAwAEAAIAAQAEAA8AAQADAAQABgAFAAEAAQAMAAIAAQAKABEAAgA4AAYAAgABAAQAEgABAAEAFAABAAgABgABAAEAAwAFAAEAAQAEAAEADAABAAEAAwABAAYAAQABAAEAAgABAAEAAQABAAEABQABAAIABAACAAcAAwABAAIAAQABAAQAAQABAAIAAQAGAAIAAgADAAIAAwABAAwABQABAAsAAQACAAEAAgADAAEAAQABAAQAEgADAAIACgACAAMAAQAEAAMAAQAGAAIAAwBkAAkAAQABAAYABgAEAAMABQAfAAEAAgAIAAEAAQABAAUAFQAGAAMABAACAAgAAgAEAAUACAAHAAEAAwAFAAIAAwAGAAIAAQALAAMADQABAA0ACwADAAMAAQAGAAYAAgAQAAIAAgAGAAUABgACAAUAAgBHAAEAAgADAAIACAADAAQABQALAAUABQACAAoAAgABAAMACwADAAUAFwAEAAEAGwADAAIAAQAKAAIABgABAAUABAADAAUABgABAAQABQADAAIACAAKAAEABAADAAQABgAEAAMAAQACAAsAAQABAAYABQACAAIADAACAAEABgABAAMAHwABAAYAAgAMAAcAAwACABEAAgAGAAIABQABAAMACAABAAIAFgABAAcADQACAA0ABAACAAEACwAIAAIAJQADAAUABAABAAQAAQAaAAEABgABAAUAHAALAAEABQABAAIAAgACAAMAAwABAAQACQAGABIABwAEAA4AAgADAAIAAgAFAB4AAgAEAAQAAQABAAIAAwACAAEAAQAOAAoAAQAFAAYACAACAAgAAQACAAEAAQABAAoAAQABAAIABwABABMABgALAAgAEAAEAAUAAwABAAIAAQAFAAQACgAEAAEAAgAIAAgABgAJAAMABQABAAsABgAEAAIACQAMAAEAAQALAAUAAwAFAAEAIgADAAEAAQADAAIAAQACAAIAAwABAAMACwAEAAEAAQAEAAMAAwABAAEAAgABAAEABQAJAIwAEAADAAEAAgACAA0AAQABAAIACAAHAAIABQABABAAAwAJAAIAAwABABEAAQAIAAIACwAEAAIACgAGAAEACAACAAgAEAADAAIAAgABAAIABAANAAYAAQABAAIABQADAAwABgACAAIAAQACAAgACwABAAcABAADAAgAFQABAA8AAgAFAAYABQADAAYAAQABAEcAAgATAAQACQAIAAIAAQABAAIAOgAEAAEAAwADAA0ABAAOAAQABgAGAAEAAQACAAMAAQABAAQAAQADAGsACQADAAEAEwADAAkAAgABAAMABQADAAMAAwADAAgAAwAIAAIAAgABAAYAAwAGAAIABwAMAAIAAQADAAEAAQABABIAAgACAAIABwACAAIACgABAAEAAQASAAEAAQABAAQAAQAIAAUAAQAIAAEAAQAnAAQACwAGAAEAAgADAAIACQAEAAEABAABAAMAAgAKAA4AEAADAAgABwAOAAEAAwAEAAEAEQAqAAQADwAKAAIAAQABAAYABgAMAAMABgABAAMABgABAAMAAgACAAYADwAFAAEAAgABAAEAAQAEAAIAFAABAAEAAgABAAQAAgACAAQABAAEAAMAAQAFAAMAAQACAAQACwACAAsAAQACAAEAAwADAAIAAQAHAAQADwABAAEAAQACAAYAAQAEAAUABAADAA4ADAABAAMABAADAAgABgACAAEAAwARAAIAAwABAAIAAQAjAAIADgACAAEAAgAMAAQAAQACAAcABQABAAkAFQAMABUAAQACAAgABQABAAYAAwATAAUADgACAAMAAwAdAAUACQACAAEACwAFAAcAAQABAAMAAgACAAEABQADAAEACwABAAEAAwAEAAcAAgACAAMACAACAAEAAwACABQALAAPAAEAAwAJAAEABgAFAAIAIwABAAEAAgAKABAAAQAOAAMADQACACQAAgAEAAEAAwAWABYAAgABAB0AAwAYAAkADwADAAEAAgAEAAIAAQAGAAEAAQABAAUAAQAGAAkAAgAGAAoAAgAKAAEAIAABAAIAEAABAAEAAgAYAAEAAQABABAAAgABABQAAQANAAQAAQAFAAUAAQALAAQAAQAfAAQADQAPAAcAAgAFAAEAAQACAAMAAwABAAEAAwAEAAYAAwAHAAQAAQAKAAQADwAXAAUAAQABAAQAAQADAAIAAQABAAcADAAIAAIAAQACAAIABwABAAgAAQCbAAUAAQAUAAcABwACAAUAAgABAAIACAACAAIAAwACAAMABgABAAgABQANAAcAAgAhAAIABAACAAEAAQAFAAEABgAPAAEADgABAAMAIgAGAAEAAQAJAAQAAQAKAAMAAQADAAkAAwABAAIADwAQABIAAgABAAUACQAEABYAAQACAAQAEQABAAMACQAEAAYADQADAAgAAwAEAAUABwAEAAkABQACAAMAFQADAAIAAgARAAEAAgADAAUAAwAMAAMABAABAAIAAQABAAUACQAZAAEAAwACAAgAAQAGAAQAAQADAAEAAQABAAIABAAEAAEABgAHAAkAAQACAAEAAQAYAAQAAwAIAAcAAwABAAYACAAUABAACAABAAUAAgAEAFIAGwABAAQAAwACAAMAAwAGAAoAAgALAAEAAgALAAIACAAFAAEAAQABAAUABwAEAAIAAgABAAMABgABAA8AAQACAAUAAQAMAAIABAADAAIAAQARAAYABAAUAAEABQABAAEAAQADAAEABAADAAIAAwACAAEAAgADAAQAAQABAAIACAACAAEAEAABAAIABgABAAIAAQABAAMAAQACAAEABAABAAIAAgADAAEAAwABAAMAEAAFAA0AAQABAAEAAQATAAcAEgACAAgAAwAVAAEABgANAAEAAQAGAAsACQALAAEAAwAEAAgAFgACAAEAAgAHAAQABgASAAMAAQADABEABAAFAAEAAwAEAAYAAQAGAAEAAgAFAAEABQANAAoABwAFAAEAAQAEAAYAAgAIAAcADAAEAAEABQAEAAgAAQABAAIACQANAAwABAACAAsADQAMAAEABAADAAIACQACAAIABAABAAcABAAEAAQABQAMAAIABAABAAIABwABAAQAAgACAAcACgADAAMABwACAAoABwADAAIACwAFAAQAEwAHAAsABQABAAMABQAHAAYACgAMAAEAAgABAAIAAQABAAgAAQANABEAAQB6AAEAAwAQAAEACwALABkACQABAAIABQACAAsADgABACcAAwABAAsABgAJAAQABAAHAAMACQAEAAYAAwABAAMAAQAqAAMAGAACAAIABQAEAAIAAQADAAMAAQAKAA0AAQABAAEABwABAAEAAgABAAgACAAFAAEACQABAAEAFAAEAAMADAACAAgAAQAGAAIAAgACAAEAAQABAAEABADAABYACgAKAAIAAgABAAEAAQAFAAUAAgAHAAIAAgAIAAEACgAGAAsACwABAAUAAQABAAYAAQABAAQAAQACAAEAAQAJAAoAAQABAAUABwADAJUAAgAPAAgAAQAJAAEADAABAAcABQAGAAEACQACAAEABwACAAIABwABADYAAQAHAAMAAgAEAAYAAQACAAwAAQABAAMAOgAGAAYAAQAGAAgABQADAB0AAQAEAAUADAAHAAEAAwAHAAIABAAEAAUADwAcAAEACwABAAEAAgAEABkADQALAAQAFQAEAAgAAwABAAEABAADAAEAAwALAAEABAABAAMAAQADAAYAAwATAA8ABAA1AAIAAwAJABgACwAHAAEAAQAOAAwABAABAAoAAQABAAIAAQACAAYAGQADAAEABwACAAEAAwACAAEAAwALAAEAAgARAAgAAgABAAEAAQADAA8AAQACAAMAAgABAAEAAwACAAEAAQADAAEACgABAAEAAgAJAAEAGgABAAgAAgARAAEAAgADAAEABwACAAIACAACAA0AAQABAAQAAQACAAEABwAGAAQACQAHAAEAAwAKABcAAgABAA0ABwABAAMAAQABAAcAAgADAAkAAgADAAIADgAEAAEACgABAAEAAwABACgABwADABIABQALAAcAAwAHAAEABQABAAoAAgABAAQAEwAQAAsABgAGAAgAAwACAAEABAACAAIAGQABAAMAAQAOAAUAAQADAAEAAQABAAEAAwAEAAEAAwADACYACAAIAA4AAQABAAwAAwAFAAMACAABAA8AAgADAAMAhwEGAAgACwAIAAIACQABAAMAAgACAAEAAwACAAEAAQACAAYABAACAAQABQACAAwAAwACAAIAAQAEAAEAEgABAAEABgAGAAQAAQABACAABAACAAEAAQACAAYABAACABYABAAMAAEAAgAGAAYAAgABAA0AAwACAAMAAQACAAcAAQAKAAEAAQACAAEAAQAGAAIAAgAIAAcAAQACAAEAAQABAAUAAgADAAQABAABAAEAAgAJAAYAAQA5AAIAAQACAAMAAQACAAMACgACAA0ABQABAAMAAQABAAwABQATABAAAgAFAAoABgABAAgADQAIAAkADgABAAMAAgAJAF0AAQACAAIABgAjAAIAGQABAAQAAQAFAAkAAQACAAIAAwABAAUAEAATAAQAewAIAAEABAAFAAEABQAEAAEAAwAEAAEACAADAAEAAwACADMACwACAAwAAQABAAIAAQACAAEAAgAGAAEAAwADABcAAgAKAAEAAgADAAEABwAGAAIAAgACAAkABQAJAAQAAwAGAAUAAQADAAwAAgAEAAgAAQABAAEAAgALAAUABAAYAAIAAgAFABYAAQABAAUABQAKAAIAAgACAAEAAgAIAAcABgACAB0AAwACAAEAAQAFAA0AAgAOAAEAAwABAAEABAACAB8ABAABAAEAAgAJAAEAAQAFAAEAAgABAAEABQAHAAIAAQABAAEAAQANAAMABQAKAAMABAABAAUADwABACwAAQACAAUAAQAbAAIABgAFAAoAAQAHAAMADwABAAIABAADAAUAAQADAAIAAgACAAcABwACAAEAFgACAAYABAALAAUABQABAAEACQAGAAEAAgABAAIAAQABAA4AAQADAAMAAgAMAAsAAQACAAMACAADAAMAAwASAAEAFQAFAAcAAwAJAAIAAgACAAQAGAAEAAMAAQACAAQABQAFAAMABAAVABgABgABAAEAAQAEAAIABAAFAAMAEAABAAMAAQABAAEABQAKAAUAGAAoAAEAAQABAAEADAADABYACgABABEAAQADAAkAAQAJAAEAAQAEAAEAzgAMAAEAAwACAAEAAQABAAEADAACAAMAAQAIAAUAAQABAAsAAgACAAYAAQADAAEAAQABAAEABwABAAIAAQABAAIAAQADAAQAAQACAAIACgABAAcAAwACAA0AJgAIAAEABAACAAIAAgANAAcACwACAAsACAABAAgAEQACAAEAAwAEAAIACAALAAUADAAEAAMAAQABAAEABQACAAEABgAFAAsAAQACAAEAAgACAAgAAgAGAAIAAQACAAUABAABAAEACwAEAAEABQADAAEABwABAAIAAQAGAAoABwADAAMABAAJAAMABAACAAIAAQACAAIACwABAAMAAgABAAQAAwADAAEADQACAAIAAwAFAAIAAwABAAIABgAGAAIAAQAKAAEAAgACAAEAAgAEAAEAAQAgAAQAAwADAAMAAQACAAEACAABAAEABAABAAMAAQAFAAEAEwAKAAUABwABAAEABQAIAAEABgACAAkABQABAAEACQArAAEABAACAA0AAgAEAAUABgABAAYAAQABAAUABAAjABEAAQADAAEADwACAA8AAgAQAAIAAwACABcAAQAMAAUAAgAKAAMAAQAGAAEAAQAGAAEAAgABAAMAAgAUAAIAAgAZAAEACAALAAcAAgABAAEAJAABAAEAAQABAAIACAADAAcAAgACAAIAAQACAAoAGQAOAAkABQAGAAEAAQAFAAEABQAIACYAAwABAAYAAQADAAcAAQADAAUAAwABAAEABQABAAkAAgACAAMABAAeABAAAgABAAkAEQAJAAUAAQABABoAAgABAAQALwABAAMABAABAAQAAgAQAAgABAAJAAMAAgAQAAQAAwABAAgADQACAAEABAAFAAYAAwAcAAwAAQADAAQAAwAFAAEAAgAEAAIABQAFAAIAAgABAAQAAQAIAAMADwAIAAIAAQAEAAUAAgABAAEABAACAAcAAQAJAA0ABAADAAMAAwAEAAoADgACAAIAAwABAAEACQABAAMAAQAEAAEAAQAXAAQADQABAAEAAQACAAMAAgABAAYAAQAEAAQACQACAAEAAgAMAAQABQAFAAsABQABAB8AAgABAAsABAADAAEAAQAPAAIAAwAFAAEACgABAAQAAQACAAgAKQABAAEAAgABAAQAAQAEAAEACQADAAMAEQALAAkAAQAJABEABAAGAAEABwACAAEAAgACAAgAAQADACIALQABAAMAAQACAAYAAgABAAcAAQACAAMAAwAEAAEAAgAQAAUAAwABAAYAAQAFAAIACAACAAgAEAAGAAMABAAHAAMAAQAEAAwAHgADAAUAFQAHAAgABwAMAAIABgAFAAIAAwABAAsAAQACAAUAAwACAAEABAAbAAEAAgABAAMAAQABAAcABAABAAIAIgADAAIACQACAAEAAQALAAEABQABAAYAAQADAAEAEgAGADEAAgANAAEAEQANAA0ABQAHAAUAAQAeAAEAAwAEAAEABAAEABUAAQACAAEAAgAEAAEABQAIAAEAAgAPAAQAAwADAAgABQABAAEAAQACAAEAAgAYAAEABAAHAAEADAABAAEACgACAAIAAQAOAAgACQABAAIAAQANAAUAAwACAAkABAABAAEAAQABAAEAAQABAAEAAQABAAcAAwACAAIAAgABAAkAEAABAAEAAQACAAQABAADAAEAAwACAAoAAwAEABIAAQAVAAIAAwAEAAMABAABAAEAAgABAA0AAQAMAAEABAACABIABQADAAcAAQAGAAIAAwABAAcAFQABAAgAHAAHAAIACAADAAIABwABAAIABwADAAEABwAQAAEAAQABAAoABQAKAAIABwAPAAQACwAdAAUAUAAFAAIACgAFAAQAHAACAAIAAQADAAMAAQABAA8AAQBnAAEAAgAGABsABgABAAQABQADAAIABwADAAgACAABAAgAAQABAAQABgADAAEAAQAGAAQAAQABAAkAAQAMAAMAAQAIAAIAAQAIAAUAAwABAAEAAgAEAAQAAQABAAIACQABAAIAAwAEAAgAAQAFAAEADAAKAAUAAgACAAEAAgAGAAEACgABAAQAAQAPAAcAAQAEAAMAFgAJAAUAAQAHAAQAAwAEAAEABAABAAEADAABAAMAAQAIAAYABQAGAAEABAAOAA8AAgALAAMABAALAAIANwAFAAIABAABAAMABQADAAIAAQALAAEAEwAEAAUAAgACAAsAAQALAAUAFAADAAkABAACACoAAQAGAAMAAQACAAUAQAAEABQAAQAHAAYABwAHAAQACAACAAEADQABAAkABAAGAAMAGgAPAAUAAgAIABcAAQACAAEAAQABAAkAAgAHAAsABAAJAAYAAwAHAA0AAQAKAAkAIgADAAQAAQAEAAEAAQACAA0AAQAJAAIAAgAFAA8ABQADAAMABgACAAQABwAJAAMACQABAAEAAQAGAAIAEAAOAAIAAgADAAIAAQABAAUAAwABAAEABwADAA8AAwABAA8AAwABAAYAAQABAAIADAAOAAEAAQABAAEACgACAAIAAQAEAAMAAQADAAkAAQADAAMACAADAAEAAgAFAAEAAQAEAAEABQANAAEABAAEAAEABwABAAMAAQABAAcAAQABAAcAAwAHAAIAAgACAAEAAQADAAIADQAFAAEAAQAGAAcAAQACAAMADAAYABAAAQAEAAcABgALABUAAQAIAAQAAQABAAEAAwAHAAQAAwAEAAIAAQALAAgAAQAJAA0AAgAkAAUAAQAGAAQABAAQAAUABAAGAAEAAgAPAAQAAwACAAcABAABAAUAAgAFAAIAAgACAAMAAwABAAIAAgAHAAQABQADAAUAAQAEAAMABAADABYABQAOAAEAAQACAAMACQAWAAIAAQABAAIAAwANAAEADAABAAQABQACAAUAAwAJAAEABQAIAAEAAwBsAAEAAgABAAkAAgADAAEABwADAAEAAgAMAAMAAwACAAUAAQAGAAUABAABABEABAABAAMAAgACAAMAAwACAAIABAALAA0AAQAdAAEAAwADAAMABAADAAIADwAHAAMABQALAAQAAgAEAAcABAABAAsAAwACAAEAAQABAAEAAgAFAAEAAgADAAIAAQACAAEABwABAAIABgAXAAIACAAIAAEAAgALAAEAAQACAAEAAQABAAYABgADAAoAAQABAAQABAAGAAMAAgAaAAIALwACAAIABAABAAsABQADAAEAAgABAAEAAwAJAAEAAQACAAEABAACAAUAAQABACMAEgAHAAIAIQAIAAYAEQACACUAAQAIAAIAAQAGAAEABAAFAAIAAgAEABQACgADAAIAAwACAAEAAQABAAEAAQACAAUAAgADAAEABAAEAAIAAQAbAAgAAQAFAAQAAQABAAwAAwACAAIAAgABAAIAGQACAAcAAQAGAAkAAQADAAEAAgABAAUABAAFAAQAAQAEAAIABQAQAAEABwACAAEABgACAAYABgABAAUABAAPAAQAAQACAAIAAgACAAEAAQAEAAMAAQAHAAEAEAACAAgADQAeAAQABgABAAcABAABAAEAAQABAAIAAgANAAMAFAADABMAAQACAAIABgACAAsAAwADAAcABAABADUAAgAQAAEAAwACAAQAAgAEAAUAAQACAAQAAQACAAcAGQAaAAQAAgApAAMABAABAA4AFgAIAAwAIAAEAAIAAwAOAAUADwADAAEAFgAEAAEADgAHAAQABQAVAAMAAQAEAAEAAwAOAAUAAgABAAIAAQABAA4ADgAHABEAKQACAA4AAgAFAAEAAQABAB0ABwAHAAIAAQADAAEAAQADAAIADAACAAIADwAJAAQACQAKAAMAAwAIABAAAgAFAAIAMwADAAIAJgABAAUAAQABAAQABQABAAUADwAFAAEADgADAAEABQADAAIAAQAEAAIAAQADAAUABAAGAAIACQACAAEABAAKACQAAgAEAAwACwACAAEAAQABAAcAAwAFAAEABQACAAIABAABAAUABQACAAYABAALAAQALAACAAwAAwAjAAIAAQADAAIABAABAAEAAgACAAIAAgADAAEACgAHAAMABQAEAAMAAgABAAMAAQADAAQAAQAGAAYACwABAAsAAQAGAAEACAABAAMAEwAEAAQAAQADAAMABgADAAoABQACAAMABQABAAIABQAIAAMAAQABAAMAFAAQAAcACQABAAEABwACAA0AAwABAAsABAACABAAGAABAAMAAQAgAAMAAQAFAAMAHQAGAAMAFwADAAgABgADAAIAAQAJAAMACAABAAkABQABACAABQAEAAcABQAKAAMABQABABMABgABAAIAAQABAAgAAwABAAEAAgABAAcAAQABAAMAAQABAAIAAQACAAMAAQAEAAMACAADAAEACwAJABcACwAKAAEABgACAAEADQACAAkAAwAFAAIAAgASAAcABAAEAAIABwAHAAEAAQABAAMAAQADAAMAAQAbAAYACwACAAYAAgADAAMABQADAAkAAwAHAAEABgAIAAQABQAEAAEAAQACAAEAAgAGAAQACAALAAUABQAGAAcAEgALAAQAAQABAAUAAQABAAEAAwAJAAEACwAGAA0AAwACAAEAAwAvAA4AAgANAAEABAABAAoABgABAAIAAQAHAAYABgAJAAMAHAAGAAEABAABAAwAEQALAAEAAgAHAAsACAADAAEAAQAHAAEAAQABAAIAAQAKAAEACAADAAIAAQAGAAgABwABAAEAAQABAAEAAQAEAAMAAQABAAkABQABAAEABQACAAwAAwAKAAEABgAHABkAAQAEAAQAAgABAAQADQAJAAEAAQAGAAEABAABAAEABwABABMABQAFABEAAQAJAAQABwAGAAIAAwABAAMAAgACAAMABwABAAQAAwABAAEABgALAAMAAgAGAAIAAwACAAIADQAFAAcADwABAAkAAwABAAEAAQADAAEABAAEAAEACgAJAAMAAQABAAEAAwABAA4AAwANAAYAAQABAAIAEQACABUABQAGAAMAAQABAAMADAANAAIAEgAZAAEAAwABAAgADAAEAB8ABAABAAwABQBEAAUAAgACAAEAAgABAAEAAwACAAEAAgAEAAUAAgACAAYAAQABAAsAAQABAAIAAwACAAsAAQACAAEABAABAAIAAQABAAIAAgABAAEABgAFAAEACAACAAMAFQALAAkABwABAAIAEQACAAMAAQABAAUABgACAAIABQABAAEAAQAUAAsAAgADAAIABgADAAEAEQAqAAEAAwABAAEABgAGAAUADAAMAAMAAgACAAEABQAEAAEABQABAAMAAgABAAQAEQADABAABQAEAAYAAgALABkAAQAJAAUABwAMAAEABAAEAAEABQACAAUAAgAGAAUABwADABoADwACAAEADgABAAQABgAcAAcAAwAEAAQATgABAAEAAwAmAAgAAQADAAEABwACAAsAOgABAAIAAwACAAEAAQAMAAMAAwAIAAEAFgACABYAAgAMAAEAAwAKAAUABQAPAAIABgABABUAAQADABIABQADAAsAAwACAA0AAQAqAAUABAABAAkAAgAGAAEABAABAAUAAQAEAAEADwABAAMAAgACAC0ADAAzAAUAAgAKAAEAAgAPAAIAAgAQAAMAAgAHAAMABwACAAEAAwARAAsAAQAEAAIAAQABAAIAAgACAAEAAgADAAIABAACAAEAAQABAAIABgAQAAMAAQABAAMABAACAAEAAgADAAIABAABABIABQABAAIACAAIAAIAOwASAAMAAgAJAAYAAQACAA8AAQAFAAQABAADAAMACwAEAAcAAgAMAAMAAQABAAUAAQADAAIAAQAEAAYAAQADAAEAAwAGAAIABAACAAkAAQAMAAQABAAFAAIABAABAAEACQAEAAcAAgADAAEAAgAJAAEAAQABAAUACgADAAEAAQApAAIABwADAAUAJgAFAAEABgAHAAEAAQAHABIAAgAIAAEACgAEAAIADQAFAAEAAQABAAIADgAEAAYAAQABAAEABAALAAUAHAASAA4AAQAGAAQAAQALAAEAAQAGAAIABwAEAAgAAQABAAEACgACAAYABwAJAAMAAQACAAIABgAGAAUAAgATAAwAAwAFAAMAAQAQAAwABAABAAkABQABAAIADgACAAIAEQAEAAEABAAJAAEACgABAAUABwAMAAIARQAJADQAAgAHAAMABQALAAMAAQAMAAkAAQABAAIAFAAEAAwAAQADAAUAGwABAAEAAgAOAAEABgAEAAIACgAcAAgABAAFAAEAAgABAAQABQACABgAAQACAA8ACgABAAUABwADAAsABwABAAQAAQATAAYACAACAAYAGQADAAIADQASAAYAAgALAAEABgACAAQAAQABAAMACAABAAEABAAMAAMANgANAAUABgABAAEABAAFAAQAAgACAAcAEQAFAAQAAwACAAkAAQACAAMAAQADAAMAAgACAAMAAQADAAIABAACAAIAFAABAAIAAQACAAIABwAIAAEAFQAJAAMACgABAAMAAgABAAMABAAUAAIALgAHAAUAAgABAAYABQABAAwAAQABAAUAAgABAAQAAQAFAAQABQACAAEAAQABAAIAAgABAAgADQABAAEA0QABAAIAAQAEAAEAAgAeAAgAlwAGAAUAAwAGAAEAAwAWAB4AAQAEABEABAAMAAUALgADAA8AAQAHAAwABQABABIABgABAAMAAQADAAEAAwABAAIABgAUAAEABgABABkABwACAAEAAwABABIAAQABAAkABAABAAIAAwABAAEAAQANAAEAAQAFAAEAAQABAAYADgABAAIAAwADAAIANQAKAAEAAwAIAAEABQABAAMACwANAA4AAwABAAMABwAHAAEAAQAQAAQAAQABAAMAAgABAAEAcgAHAAQABAABABIABgABAAEAAgABAAMAZAAEAAQAAgAdAAoAAgAEABQAAQABAAEAAQAGABgAAQACAAQABAAEAAEAAQACAAUAAQABAAUADgABAAYAAwABAAEACwADAAMACAADAAMAAQAGAAQAAQABAAEABAABABcACAABAAIAAQACAAEABwAEAAQAAQABAAIABQACAAYAAgABAAEAAQABAAEAAQABAAMABQALAA8AAQAEAAIAJgACAAMAEQABAAEAAgADAAIAAgAHAAEAAwABAA4AAgADAAMAAwACABwABgACAAsAGgADAAEAAQALAAEABgABAAwAAgAUAAEAEgAEAAUAAgADAAEAAQADAAQAAQARAAEAAQABAAEAEQAIAA0ABQAGAAsAAQABAAEABQCGAAEAAQABAAYAAQADACUAAgABAAQAAQABAAEADQABAB0AAQABAAIABgADAAEABAABAAQAAQABAAMAAQABAAEAAgAKAAUAAgABAAYAAQACAAIAAgATAAsAAgACAAEABwADAAYAAQABAAQAAwACAAEAAgABAAMABgABAAEAAQABAAEAAwAQAAEACQAJAC8ABQACAAEAAQAJAAsACAAFAAUAAQACAAEAAQABAAEABgADAAUAAgABAAMABgABAAQAAQAQAAEAAQABAAMABAADAAIAAQABAAEAAQAGAAUAAgABAAQABQABAAQABAAQAAYABgABABkAAQAZABoAAgACABwACQAcAAQAAQABAAMADAAEAAEABgABABUACAABAAIAEgADAAMAAgABAAEACQAHAAEAAQACAAEADAAGAAcAFwACAAMAAwABAAIAAQABAAYAAQADAAIACAADAAEAAgAGAAUAAgABAAIAAgACABUAAQABAAIABwA=",
          "dtype": "i2"
         },
         "z": {
          "bdata": "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",
          "dtype": "f8"
         }
        }
       ],
       "layout": {
        "coloraxis": {
         "colorbar": {
          "title": {
           "text": "cluster_no"
          }
         },
         "colorscale": [
          [
           0,
           "#0d0887"
          ],
          [
           0.1111111111111111,
           "#46039f"
          ],
          [
           0.2222222222222222,
           "#7201a8"
          ],
          [
           0.3333333333333333,
           "#9c179e"
          ],
          [
           0.4444444444444444,
           "#bd3786"
          ],
          [
           0.5555555555555556,
           "#d8576b"
          ],
          [
           0.6666666666666666,
           "#ed7953"
          ],
          [
           0.7777777777777778,
           "#fb9f3a"
          ],
          [
           0.8888888888888888,
           "#fdca26"
          ],
          [
           1,
           "#f0f921"
          ]
         ]
        },
        "legend": {
         "tracegroupgap": 0
        },
        "margin": {
         "t": 60
        },
        "scene": {
         "domain": {
          "x": [
           0,
           1
          ],
          "y": [
           0,
           1
          ]
         },
         "xaxis": {
          "title": {
           "text": "Recency"
          }
         },
         "yaxis": {
          "title": {
           "text": "Frequency"
          }
         },
         "zaxis": {
          "title": {
           "text": "Monetary"
          }
         }
        },
        "template": {
         "data": {
          "bar": [
           {
            "error_x": {
             "color": "#2a3f5f"
            },
            "error_y": {
             "color": "#2a3f5f"
            },
            "marker": {
             "line": {
              "color": "#E5ECF6",
              "width": 0.5
             },
             "pattern": {
              "fillmode": "overlay",
              "size": 10,
              "solidity": 0.2
             }
            },
            "type": "bar"
           }
          ],
          "barpolar": [
           {
            "marker": {
             "line": {
              "color": "#E5ECF6",
              "width": 0.5
             },
             "pattern": {
              "fillmode": "overlay",
              "size": 10,
              "solidity": 0.2
             }
            },
            "type": "barpolar"
           }
          ],
          "carpet": [
           {
            "aaxis": {
             "endlinecolor": "#2a3f5f",
             "gridcolor": "white",
             "linecolor": "white",
             "minorgridcolor": "white",
             "startlinecolor": "#2a3f5f"
            },
            "baxis": {
             "endlinecolor": "#2a3f5f",
             "gridcolor": "white",
             "linecolor": "white",
             "minorgridcolor": "white",
             "startlinecolor": "#2a3f5f"
            },
            "type": "carpet"
           }
          ],
          "choropleth": [
           {
            "colorbar": {
             "outlinewidth": 0,
             "ticks": ""
            },
            "type": "choropleth"
           }
          ],
          "contour": [
           {
            "colorbar": {
             "outlinewidth": 0,
             "ticks": ""
            },
            "colorscale": [
             [
              0,
              "#0d0887"
             ],
             [
              0.1111111111111111,
              "#46039f"
             ],
             [
              0.2222222222222222,
              "#7201a8"
             ],
             [
              0.3333333333333333,
              "#9c179e"
             ],
             [
              0.4444444444444444,
              "#bd3786"
             ],
             [
              0.5555555555555556,
              "#d8576b"
             ],
             [
              0.6666666666666666,
              "#ed7953"
             ],
             [
              0.7777777777777778,
              "#fb9f3a"
             ],
             [
              0.8888888888888888,
              "#fdca26"
             ],
             [
              1,
              "#f0f921"
             ]
            ],
            "type": "contour"
           }
          ],
          "contourcarpet": [
           {
            "colorbar": {
             "outlinewidth": 0,
             "ticks": ""
            },
            "type": "contourcarpet"
           }
          ],
          "heatmap": [
           {
            "colorbar": {
             "outlinewidth": 0,
             "ticks": ""
            },
            "colorscale": [
             [
              0,
              "#0d0887"
             ],
             [
              0.1111111111111111,
              "#46039f"
             ],
             [
              0.2222222222222222,
              "#7201a8"
             ],
             [
              0.3333333333333333,
              "#9c179e"
             ],
             [
              0.4444444444444444,
              "#bd3786"
             ],
             [
              0.5555555555555556,
              "#d8576b"
             ],
             [
              0.6666666666666666,
              "#ed7953"
             ],
             [
              0.7777777777777778,
              "#fb9f3a"
             ],
             [
              0.8888888888888888,
              "#fdca26"
             ],
             [
              1,
              "#f0f921"
             ]
            ],
            "type": "heatmap"
           }
          ],
          "histogram": [
           {
            "marker": {
             "pattern": {
              "fillmode": "overlay",
              "size": 10,
              "solidity": 0.2
             }
            },
            "type": "histogram"
           }
          ],
          "histogram2d": [
           {
            "colorbar": {
             "outlinewidth": 0,
             "ticks": ""
            },
            "colorscale": [
             [
              0,
              "#0d0887"
             ],
             [
              0.1111111111111111,
              "#46039f"
             ],
             [
              0.2222222222222222,
              "#7201a8"
             ],
             [
              0.3333333333333333,
              "#9c179e"
             ],
             [
              0.4444444444444444,
              "#bd3786"
             ],
             [
              0.5555555555555556,
              "#d8576b"
             ],
             [
              0.6666666666666666,
              "#ed7953"
             ],
             [
              0.7777777777777778,
              "#fb9f3a"
             ],
             [
              0.8888888888888888,
              "#fdca26"
             ],
             [
              1,
              "#f0f921"
             ]
            ],
            "type": "histogram2d"
           }
          ],
          "histogram2dcontour": [
           {
            "colorbar": {
             "outlinewidth": 0,
             "ticks": ""
            },
            "colorscale": [
             [
              0,
              "#0d0887"
             ],
             [
              0.1111111111111111,
              "#46039f"
             ],
             [
              0.2222222222222222,
              "#7201a8"
             ],
             [
              0.3333333333333333,
              "#9c179e"
             ],
             [
              0.4444444444444444,
              "#bd3786"
             ],
             [
              0.5555555555555556,
              "#d8576b"
             ],
             [
              0.6666666666666666,
              "#ed7953"
             ],
             [
              0.7777777777777778,
              "#fb9f3a"
             ],
             [
              0.8888888888888888,
              "#fdca26"
             ],
             [
              1,
              "#f0f921"
             ]
            ],
            "type": "histogram2dcontour"
           }
          ],
          "mesh3d": [
           {
            "colorbar": {
             "outlinewidth": 0,
             "ticks": ""
            },
            "type": "mesh3d"
           }
          ],
          "parcoords": [
           {
            "line": {
             "colorbar": {
              "outlinewidth": 0,
              "ticks": ""
             }
            },
            "type": "parcoords"
           }
          ],
          "pie": [
           {
            "automargin": true,
            "type": "pie"
           }
          ],
          "scatter": [
           {
            "fillpattern": {
             "fillmode": "overlay",
             "size": 10,
             "solidity": 0.2
            },
            "type": "scatter"
           }
          ],
          "scatter3d": [
           {
            "line": {
             "colorbar": {
              "outlinewidth": 0,
              "ticks": ""
             }
            },
            "marker": {
             "colorbar": {
              "outlinewidth": 0,
              "ticks": ""
             }
            },
            "type": "scatter3d"
           }
          ],
          "scattercarpet": [
           {
            "marker": {
             "colorbar": {
              "outlinewidth": 0,
              "ticks": ""
             }
            },
            "type": "scattercarpet"
           }
          ],
          "scattergeo": [
           {
            "marker": {
             "colorbar": {
              "outlinewidth": 0,
              "ticks": ""
             }
            },
            "type": "scattergeo"
           }
          ],
          "scattergl": [
           {
            "marker": {
             "colorbar": {
              "outlinewidth": 0,
              "ticks": ""
             }
            },
            "type": "scattergl"
           }
          ],
          "scattermap": [
           {
            "marker": {
             "colorbar": {
              "outlinewidth": 0,
              "ticks": ""
             }
            },
            "type": "scattermap"
           }
          ],
          "scattermapbox": [
           {
            "marker": {
             "colorbar": {
              "outlinewidth": 0,
              "ticks": ""
             }
            },
            "type": "scattermapbox"
           }
          ],
          "scatterpolar": [
           {
            "marker": {
             "colorbar": {
              "outlinewidth": 0,
              "ticks": ""
             }
            },
            "type": "scatterpolar"
           }
          ],
          "scatterpolargl": [
           {
            "marker": {
             "colorbar": {
              "outlinewidth": 0,
              "ticks": ""
             }
            },
            "type": "scatterpolargl"
           }
          ],
          "scatterternary": [
           {
            "marker": {
             "colorbar": {
              "outlinewidth": 0,
              "ticks": ""
             }
            },
            "type": "scatterternary"
           }
          ],
          "surface": [
           {
            "colorbar": {
             "outlinewidth": 0,
             "ticks": ""
            },
            "colorscale": [
             [
              0,
              "#0d0887"
             ],
             [
              0.1111111111111111,
              "#46039f"
             ],
             [
              0.2222222222222222,
              "#7201a8"
             ],
             [
              0.3333333333333333,
              "#9c179e"
             ],
             [
              0.4444444444444444,
              "#bd3786"
             ],
             [
              0.5555555555555556,
              "#d8576b"
             ],
             [
              0.6666666666666666,
              "#ed7953"
             ],
             [
              0.7777777777777778,
              "#fb9f3a"
             ],
             [
              0.8888888888888888,
              "#fdca26"
             ],
             [
              1,
              "#f0f921"
             ]
            ],
            "type": "surface"
           }
          ],
          "table": [
           {
            "cells": {
             "fill": {
              "color": "#EBF0F8"
             },
             "line": {
              "color": "white"
             }
            },
            "header": {
             "fill": {
              "color": "#C8D4E3"
             },
             "line": {
              "color": "white"
             }
            },
            "type": "table"
           }
          ]
         },
         "layout": {
          "annotationdefaults": {
           "arrowcolor": "#2a3f5f",
           "arrowhead": 0,
           "arrowwidth": 1
          },
          "autotypenumbers": "strict",
          "coloraxis": {
           "colorbar": {
            "outlinewidth": 0,
            "ticks": ""
           }
          },
          "colorscale": {
           "diverging": [
            [
             0,
             "#8e0152"
            ],
            [
             0.1,
             "#c51b7d"
            ],
            [
             0.2,
             "#de77ae"
            ],
            [
             0.3,
             "#f1b6da"
            ],
            [
             0.4,
             "#fde0ef"
            ],
            [
             0.5,
             "#f7f7f7"
            ],
            [
             0.6,
             "#e6f5d0"
            ],
            [
             0.7,
             "#b8e186"
            ],
            [
             0.8,
             "#7fbc41"
            ],
            [
             0.9,
             "#4d9221"
            ],
            [
             1,
             "#276419"
            ]
           ],
           "sequential": [
            [
             0,
             "#0d0887"
            ],
            [
             0.1111111111111111,
             "#46039f"
            ],
            [
             0.2222222222222222,
             "#7201a8"
            ],
            [
             0.3333333333333333,
             "#9c179e"
            ],
            [
             0.4444444444444444,
             "#bd3786"
            ],
            [
             0.5555555555555556,
             "#d8576b"
            ],
            [
             0.6666666666666666,
             "#ed7953"
            ],
            [
             0.7777777777777778,
             "#fb9f3a"
            ],
            [
             0.8888888888888888,
             "#fdca26"
            ],
            [
             1,
             "#f0f921"
            ]
           ],
           "sequentialminus": [
            [
             0,
             "#0d0887"
            ],
            [
             0.1111111111111111,
             "#46039f"
            ],
            [
             0.2222222222222222,
             "#7201a8"
            ],
            [
             0.3333333333333333,
             "#9c179e"
            ],
            [
             0.4444444444444444,
             "#bd3786"
            ],
            [
             0.5555555555555556,
             "#d8576b"
            ],
            [
             0.6666666666666666,
             "#ed7953"
            ],
            [
             0.7777777777777778,
             "#fb9f3a"
            ],
            [
             0.8888888888888888,
             "#fdca26"
            ],
            [
             1,
             "#f0f921"
            ]
           ]
          },
          "colorway": [
           "#636efa",
           "#EF553B",
           "#00cc96",
           "#ab63fa",
           "#FFA15A",
           "#19d3f3",
           "#FF6692",
           "#B6E880",
           "#FF97FF",
           "#FECB52"
          ],
          "font": {
           "color": "#2a3f5f"
          },
          "geo": {
           "bgcolor": "white",
           "lakecolor": "white",
           "landcolor": "#E5ECF6",
           "showlakes": true,
           "showland": true,
           "subunitcolor": "white"
          },
          "hoverlabel": {
           "align": "left"
          },
          "hovermode": "closest",
          "mapbox": {
           "style": "light"
          },
          "paper_bgcolor": "white",
          "plot_bgcolor": "#E5ECF6",
          "polar": {
           "angularaxis": {
            "gridcolor": "white",
            "linecolor": "white",
            "ticks": ""
           },
           "bgcolor": "#E5ECF6",
           "radialaxis": {
            "gridcolor": "white",
            "linecolor": "white",
            "ticks": ""
           }
          },
          "scene": {
           "xaxis": {
            "backgroundcolor": "#E5ECF6",
            "gridcolor": "white",
            "gridwidth": 2,
            "linecolor": "white",
            "showbackground": true,
            "ticks": "",
            "zerolinecolor": "white"
           },
           "yaxis": {
            "backgroundcolor": "#E5ECF6",
            "gridcolor": "white",
            "gridwidth": 2,
            "linecolor": "white",
            "showbackground": true,
            "ticks": "",
            "zerolinecolor": "white"
           },
           "zaxis": {
            "backgroundcolor": "#E5ECF6",
            "gridcolor": "white",
            "gridwidth": 2,
            "linecolor": "white",
            "showbackground": true,
            "ticks": "",
            "zerolinecolor": "white"
           }
          },
          "shapedefaults": {
           "line": {
            "color": "#2a3f5f"
           }
          },
          "ternary": {
           "aaxis": {
            "gridcolor": "white",
            "linecolor": "white",
            "ticks": ""
           },
           "baxis": {
            "gridcolor": "white",
            "linecolor": "white",
            "ticks": ""
           },
           "bgcolor": "#E5ECF6",
           "caxis": {
            "gridcolor": "white",
            "linecolor": "white",
            "ticks": ""
           }
          },
          "title": {
           "x": 0.05
          },
          "xaxis": {
           "automargin": true,
           "gridcolor": "white",
           "linecolor": "white",
           "ticks": "",
           "title": {
            "standoff": 15
           },
           "zerolinecolor": "white",
           "zerolinewidth": 2
          },
          "yaxis": {
           "automargin": true,
           "gridcolor": "white",
           "linecolor": "white",
           "ticks": "",
           "title": {
            "standoff": 15
           },
           "zerolinecolor": "white",
           "zerolinewidth": 2
          }
         }
        }
       }
      }
     },
     "metadata": {},
     "output_type": "display_data"
    }
   ],
   "source": [
    "import plotly.express as px\n",
    "fig = px.scatter_3d(rfm_kmeans, x=rfm_kmeans[\"Recency\"], y=rfm_kmeans[\"Frequency\"], z=rfm_kmeans[\"Monetary\"], color=rfm_kmeans[\"cluster_no\"])\n",
    "fig.show()"
   ]
  },
  {
   "cell_type": "code",
   "execution_count": null,
   "metadata": {},
   "outputs": [],
   "source": []
  }
 ],
 "metadata": {
  "kaggle": {
   "accelerator": "none",
   "dataSources": [
    {
     "datasetId": 1607581,
     "sourceId": 2643768,
     "sourceType": "datasetVersion"
    }
   ],
   "dockerImageVersionId": 30129,
   "isGpuEnabled": false,
   "isInternetEnabled": false,
   "language": "python",
   "sourceType": "notebook"
  },
  "kernelspec": {
   "display_name": "Python 3",
   "language": "python",
   "name": "python3"
  },
  "language_info": {
   "codemirror_mode": {
    "name": "ipython",
    "version": 3
   },
   "file_extension": ".py",
   "mimetype": "text/x-python",
   "name": "python",
   "nbconvert_exporter": "python",
   "pygments_lexer": "ipython3",
   "version": "3.11.3"
  }
 },
 "nbformat": 4,
 "nbformat_minor": 4
}
