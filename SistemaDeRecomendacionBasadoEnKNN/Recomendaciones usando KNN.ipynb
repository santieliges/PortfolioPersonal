{
 "cells": [
  {
   "cell_type": "markdown",
   "metadata": {},
   "source": [
    "\n",
    "<center> <h1 style=\"background-color:orange; color:white\"><br>Detalles del dataset<br></h1></center>\n",
    "\n",
    "En el comercio electrónico, recomendar productos relevantes a los clientes es clave para mejorar la experiencia de compra y aumentar las ventas. Uno de los enfoques más utilizados para este propósito es la **recomendación basada en vecinos cercanos**, también conocida como **Collaborative Filtering (Filtrado Colaborativo)**.  \n",
    "\n",
    "##  ¿Cómo Funciona?  \n",
    "El método de recomendación por vecinos cercanos se basa en el análisis de patrones de compra de distintos clientes. La idea principal es que los usuarios con comportamientos de compra similares probablemente estén interesados en productos similares.  \n",
    "\n",
    "### Enfoques Principales  \n",
    "Existen dos enfoques clave dentro de este método:  \n",
    "\n",
    "1. **Filtrado basado en usuarios:**  \n",
    "   - Se identifican clientes con hábitos de compra similares.  \n",
    "   - Se recomiendan productos que compraron clientes con perfiles similares.  \n",
    "\n",
    "2. **Filtrado basado en ítems:**  \n",
    "   - Se analizan productos que suelen comprarse juntos.  \n",
    "   - Se recomiendan productos que frecuentemente aparecen en el historial de compra de otros clientes con intereses similares.  \n",
    "\n",
    "## Beneficios de Este Método  \n",
    "✔️ **Personalización:** Ofrece recomendaciones adaptadas a cada cliente.  \n",
    "✔️ **Eficiencia:** No requiere información detallada sobre los productos, solo el historial de compras.  \n",
    "✔️ **Escalabilidad:** Funciona bien con grandes volúmenes de datos en plataformas de e-commerce.  \n",
    "✔️ **Explicabilidad:** Aporta información facil de entender respecto al funcionamiento de las recomendaciones, por ejemplo, permite comprender cuales son los usuarios cercanos y cuales son los items más influyentes en la recomendación.  \n",
    "\n",
    "Este método es ampliamente utilizado por empresas como Amazon, Netflix y Spotify para mejorar la relevancia de sus recomendaciones y potenciar la fidelización de clientes.  \n",
    "\n"
   ]
  },
  {
   "cell_type": "markdown",
   "metadata": {},
   "source": [
    "\n",
    "<center> <h1 style=\"background-color:orange; color:white\"><br>Detalles del dataset<br></h1></center>\n",
    "\n",
    "<br>\n",
    "Un e-commerce busca segmentar a sus clientes y definir estrategias de marketing basadas en estos segmentos. Para ello, analizaremos el comportamiento de los clientes y crearemos grupos utilizando knn como tecnica de cluster. En otras palabras, agruparemos a los clientes con patrones de comportamiento similares y diseñaremos estrategias de ventas y marketing personalizadas para cada grupo.\n",
    "<br><br>\n",
    "\n",
    "<p>\n",
    "- <b>InvoiceNo:</b> Número de factura. Nominal. Es un número entero de 6 dígitos asignado de manera única a cada transacción. Si el código comienza con la letra 'C', indica una cancelación.<br />\n",
    "- <b>StockCode:</b> Código de producto (item). Nominal. Es un número entero de 5 dígitos asignado de manera única a cada producto.<br />\n",
    "- <b>Description:</b> Nombre del producto (item). Nominal.<br />\n",
    "- <b>Quantity:</b> Cantidad de unidades de cada producto por transacción. Numérico.<br />\n",
    "- <b>InvoiceDate:</b> Fecha y hora de la factura. Numérico. Indica el día y la hora en que se generó una transacción.<br />\n",
    "- <b>UnitPrice:</b> Precio unitario. Numérico. Representa el precio de cada producto en libras esterlinas (£).<br />\n",
    "- <b>CustomerID:</b> Número de cliente. Nominal. Es un número entero de 5 dígitos asignado de manera única a cada cliente.<br />\n",
    "- <b>Country:</b> País. Nominal. Indica el país de residencia del cliente.<br />"
   ]
  },
  {
   "cell_type": "markdown",
   "metadata": {},
   "source": [
    "<a id='1'></a><center> <h1 style=\"background-color:orange; color:white\" ><br>Analisis exploratorio y limpieza de datos<br></h1>"
   ]
  },
  {
   "cell_type": "code",
   "execution_count": 1,
   "metadata": {
    "trusted": true
   },
   "outputs": [],
   "source": [
    "import pandas as pd\n",
    "import numpy as np\n",
    "import seaborn as sns\n",
    "import datetime as dt\n",
    "import matplotlib.pyplot as plt\n",
    "from sklearn.cluster import KMeans\n",
    "from sklearn.preprocessing import MinMaxScaler\n",
    "import numpy as np\n",
    "from sklearn.cluster import KMeans\n",
    "from scipy.spatial.distance import cosine\n",
    "\n",
    "import warnings\n",
    "\n",
    "pd.set_option('display.float_format', lambda x: '%.2f' % x)"
   ]
  },
  {
   "cell_type": "code",
   "execution_count": 2,
   "metadata": {
    "execution": {
     "iopub.execute_input": "2021-09-25T21:36:27.00886Z",
     "iopub.status.busy": "2021-09-25T21:36:27.008619Z",
     "iopub.status.idle": "2021-09-25T21:36:29.246318Z",
     "shell.execute_reply": "2021-09-25T21:36:29.245246Z",
     "shell.execute_reply.started": "2021-09-25T21:36:27.008838Z"
    },
    "trusted": true
   },
   "outputs": [],
   "source": [
    "df = pd.read_csv(\"online_retail_listing.csv\",delimiter=';',encoding=\"latin-1\")"
   ]
  },
  {
   "cell_type": "code",
   "execution_count": 3,
   "metadata": {
    "execution": {
     "iopub.execute_input": "2021-09-25T21:36:30.745864Z",
     "iopub.status.busy": "2021-09-25T21:36:30.745563Z",
     "iopub.status.idle": "2021-09-25T21:36:30.769782Z",
     "shell.execute_reply": "2021-09-25T21:36:30.768559Z",
     "shell.execute_reply.started": "2021-09-25T21:36:30.745839Z"
    },
    "trusted": true
   },
   "outputs": [
    {
     "data": {
      "text/html": [
       "<div>\n",
       "<style scoped>\n",
       "    .dataframe tbody tr th:only-of-type {\n",
       "        vertical-align: middle;\n",
       "    }\n",
       "\n",
       "    .dataframe tbody tr th {\n",
       "        vertical-align: top;\n",
       "    }\n",
       "\n",
       "    .dataframe thead th {\n",
       "        text-align: right;\n",
       "    }\n",
       "</style>\n",
       "<table border=\"1\" class=\"dataframe\">\n",
       "  <thead>\n",
       "    <tr style=\"text-align: right;\">\n",
       "      <th></th>\n",
       "      <th>Invoice</th>\n",
       "      <th>StockCode</th>\n",
       "      <th>Description</th>\n",
       "      <th>Quantity</th>\n",
       "      <th>InvoiceDate</th>\n",
       "      <th>Price</th>\n",
       "      <th>Customer ID</th>\n",
       "      <th>Country</th>\n",
       "    </tr>\n",
       "  </thead>\n",
       "  <tbody>\n",
       "    <tr>\n",
       "      <th>0</th>\n",
       "      <td>489434</td>\n",
       "      <td>85048</td>\n",
       "      <td>15CM CHRISTMAS GLASS BALL 20 LIGHTS</td>\n",
       "      <td>12</td>\n",
       "      <td>1.12.2009 07:45</td>\n",
       "      <td>6,95</td>\n",
       "      <td>13085.00</td>\n",
       "      <td>United Kingdom</td>\n",
       "    </tr>\n",
       "    <tr>\n",
       "      <th>1</th>\n",
       "      <td>489434</td>\n",
       "      <td>79323P</td>\n",
       "      <td>PINK CHERRY LIGHTS</td>\n",
       "      <td>12</td>\n",
       "      <td>1.12.2009 07:45</td>\n",
       "      <td>6,75</td>\n",
       "      <td>13085.00</td>\n",
       "      <td>United Kingdom</td>\n",
       "    </tr>\n",
       "    <tr>\n",
       "      <th>2</th>\n",
       "      <td>489434</td>\n",
       "      <td>79323W</td>\n",
       "      <td>WHITE CHERRY LIGHTS</td>\n",
       "      <td>12</td>\n",
       "      <td>1.12.2009 07:45</td>\n",
       "      <td>6,75</td>\n",
       "      <td>13085.00</td>\n",
       "      <td>United Kingdom</td>\n",
       "    </tr>\n",
       "    <tr>\n",
       "      <th>3</th>\n",
       "      <td>489434</td>\n",
       "      <td>22041</td>\n",
       "      <td>RECORD FRAME 7\" SINGLE SIZE</td>\n",
       "      <td>48</td>\n",
       "      <td>1.12.2009 07:45</td>\n",
       "      <td>2,1</td>\n",
       "      <td>13085.00</td>\n",
       "      <td>United Kingdom</td>\n",
       "    </tr>\n",
       "    <tr>\n",
       "      <th>4</th>\n",
       "      <td>489434</td>\n",
       "      <td>21232</td>\n",
       "      <td>STRAWBERRY CERAMIC TRINKET BOX</td>\n",
       "      <td>24</td>\n",
       "      <td>1.12.2009 07:45</td>\n",
       "      <td>1,25</td>\n",
       "      <td>13085.00</td>\n",
       "      <td>United Kingdom</td>\n",
       "    </tr>\n",
       "  </tbody>\n",
       "</table>\n",
       "</div>"
      ],
      "text/plain": [
       "  Invoice StockCode                          Description  Quantity  \\\n",
       "0  489434     85048  15CM CHRISTMAS GLASS BALL 20 LIGHTS        12   \n",
       "1  489434    79323P                   PINK CHERRY LIGHTS        12   \n",
       "2  489434    79323W                  WHITE CHERRY LIGHTS        12   \n",
       "3  489434     22041         RECORD FRAME 7\" SINGLE SIZE         48   \n",
       "4  489434     21232       STRAWBERRY CERAMIC TRINKET BOX        24   \n",
       "\n",
       "       InvoiceDate Price  Customer ID         Country  \n",
       "0  1.12.2009 07:45  6,95     13085.00  United Kingdom  \n",
       "1  1.12.2009 07:45  6,75     13085.00  United Kingdom  \n",
       "2  1.12.2009 07:45  6,75     13085.00  United Kingdom  \n",
       "3  1.12.2009 07:45   2,1     13085.00  United Kingdom  \n",
       "4  1.12.2009 07:45  1,25     13085.00  United Kingdom  "
      ]
     },
     "execution_count": 3,
     "metadata": {},
     "output_type": "execute_result"
    }
   ],
   "source": [
    "df.head()"
   ]
  },
  {
   "cell_type": "code",
   "execution_count": 4,
   "metadata": {
    "execution": {
     "iopub.execute_input": "2021-09-25T21:36:34.498782Z",
     "iopub.status.busy": "2021-09-25T21:36:34.498528Z",
     "iopub.status.idle": "2021-09-25T21:36:34.50695Z",
     "shell.execute_reply": "2021-09-25T21:36:34.504871Z",
     "shell.execute_reply.started": "2021-09-25T21:36:34.49876Z"
    },
    "trusted": true
   },
   "outputs": [
    {
     "data": {
      "text/plain": [
       "(1048575, 8)"
      ]
     },
     "execution_count": 4,
     "metadata": {},
     "output_type": "execute_result"
    }
   ],
   "source": [
    "df.shape"
   ]
  },
  {
   "cell_type": "code",
   "execution_count": 5,
   "metadata": {
    "execution": {
     "iopub.execute_input": "2021-09-25T21:36:38.221107Z",
     "iopub.status.busy": "2021-09-25T21:36:38.220831Z",
     "iopub.status.idle": "2021-09-25T21:36:38.481569Z",
     "shell.execute_reply": "2021-09-25T21:36:38.48052Z",
     "shell.execute_reply.started": "2021-09-25T21:36:38.221083Z"
    },
    "trusted": true
   },
   "outputs": [
    {
     "name": "stdout",
     "output_type": "stream",
     "text": [
      "<class 'pandas.core.frame.DataFrame'>\n",
      "RangeIndex: 1048575 entries, 0 to 1048574\n",
      "Data columns (total 8 columns):\n",
      " #   Column       Non-Null Count    Dtype  \n",
      "---  ------       --------------    -----  \n",
      " 0   Invoice      1048575 non-null  object \n",
      " 1   StockCode    1048575 non-null  object \n",
      " 2   Description  1044203 non-null  object \n",
      " 3   Quantity     1048575 non-null  int64  \n",
      " 4   InvoiceDate  1048575 non-null  object \n",
      " 5   Price        1048575 non-null  object \n",
      " 6   Customer ID  811893 non-null   float64\n",
      " 7   Country      1048575 non-null  object \n",
      "dtypes: float64(1), int64(1), object(6)\n",
      "memory usage: 64.0+ MB\n"
     ]
    }
   ],
   "source": [
    "df.info()"
   ]
  },
  {
   "cell_type": "code",
   "execution_count": null,
   "metadata": {},
   "outputs": [
    {
     "data": {
      "text/html": [
       "<div>\n",
       "<style scoped>\n",
       "    .dataframe tbody tr th:only-of-type {\n",
       "        vertical-align: middle;\n",
       "    }\n",
       "\n",
       "    .dataframe tbody tr th {\n",
       "        vertical-align: top;\n",
       "    }\n",
       "\n",
       "    .dataframe thead th {\n",
       "        text-align: right;\n",
       "    }\n",
       "</style>\n",
       "<table border=\"1\" class=\"dataframe\">\n",
       "  <thead>\n",
       "    <tr style=\"text-align: right;\">\n",
       "      <th></th>\n",
       "      <th>Invoice</th>\n",
       "      <th>StockCode</th>\n",
       "      <th>Description</th>\n",
       "      <th>Quantity</th>\n",
       "      <th>InvoiceDate</th>\n",
       "      <th>Price</th>\n",
       "      <th>Customer ID</th>\n",
       "      <th>Country</th>\n",
       "      <th>InvoiceDays</th>\n",
       "    </tr>\n",
       "  </thead>\n",
       "  <tbody>\n",
       "    <tr>\n",
       "      <th>0</th>\n",
       "      <td>489434</td>\n",
       "      <td>85048</td>\n",
       "      <td>15CM CHRISTMAS GLASS BALL 20 LIGHTS</td>\n",
       "      <td>12</td>\n",
       "      <td>2009-12-01 07:45:00</td>\n",
       "      <td>6,95</td>\n",
       "      <td>13085.00</td>\n",
       "      <td>United Kingdom</td>\n",
       "      <td>14579</td>\n",
       "    </tr>\n",
       "    <tr>\n",
       "      <th>1</th>\n",
       "      <td>489434</td>\n",
       "      <td>79323P</td>\n",
       "      <td>PINK CHERRY LIGHTS</td>\n",
       "      <td>12</td>\n",
       "      <td>2009-12-01 07:45:00</td>\n",
       "      <td>6,75</td>\n",
       "      <td>13085.00</td>\n",
       "      <td>United Kingdom</td>\n",
       "      <td>14579</td>\n",
       "    </tr>\n",
       "    <tr>\n",
       "      <th>2</th>\n",
       "      <td>489434</td>\n",
       "      <td>79323W</td>\n",
       "      <td>WHITE CHERRY LIGHTS</td>\n",
       "      <td>12</td>\n",
       "      <td>2009-12-01 07:45:00</td>\n",
       "      <td>6,75</td>\n",
       "      <td>13085.00</td>\n",
       "      <td>United Kingdom</td>\n",
       "      <td>14579</td>\n",
       "    </tr>\n",
       "    <tr>\n",
       "      <th>3</th>\n",
       "      <td>489434</td>\n",
       "      <td>22041</td>\n",
       "      <td>RECORD FRAME 7\" SINGLE SIZE</td>\n",
       "      <td>48</td>\n",
       "      <td>2009-12-01 07:45:00</td>\n",
       "      <td>2,1</td>\n",
       "      <td>13085.00</td>\n",
       "      <td>United Kingdom</td>\n",
       "      <td>14579</td>\n",
       "    </tr>\n",
       "    <tr>\n",
       "      <th>4</th>\n",
       "      <td>489434</td>\n",
       "      <td>21232</td>\n",
       "      <td>STRAWBERRY CERAMIC TRINKET BOX</td>\n",
       "      <td>24</td>\n",
       "      <td>2009-12-01 07:45:00</td>\n",
       "      <td>1,25</td>\n",
       "      <td>13085.00</td>\n",
       "      <td>United Kingdom</td>\n",
       "      <td>14579</td>\n",
       "    </tr>\n",
       "  </tbody>\n",
       "</table>\n",
       "</div>"
      ],
      "text/plain": [
       "  Invoice StockCode                          Description  Quantity  \\\n",
       "0  489434     85048  15CM CHRISTMAS GLASS BALL 20 LIGHTS        12   \n",
       "1  489434    79323P                   PINK CHERRY LIGHTS        12   \n",
       "2  489434    79323W                  WHITE CHERRY LIGHTS        12   \n",
       "3  489434     22041         RECORD FRAME 7\" SINGLE SIZE         48   \n",
       "4  489434     21232       STRAWBERRY CERAMIC TRINKET BOX        24   \n",
       "\n",
       "          InvoiceDate Price  Customer ID         Country  InvoiceDays  \n",
       "0 2009-12-01 07:45:00  6,95     13085.00  United Kingdom        14579  \n",
       "1 2009-12-01 07:45:00  6,75     13085.00  United Kingdom        14579  \n",
       "2 2009-12-01 07:45:00  6,75     13085.00  United Kingdom        14579  \n",
       "3 2009-12-01 07:45:00   2,1     13085.00  United Kingdom        14579  \n",
       "4 2009-12-01 07:45:00  1,25     13085.00  United Kingdom        14579  "
      ]
     },
     "execution_count": 6,
     "metadata": {},
     "output_type": "execute_result"
    }
   ],
   "source": [
    "#Transformamos la columna 'InvoiceDate' a datetime y luego, transformamos esta fecha a la cantidad de dias de diferencia respecto a 1970, de manera que en un futuro pueda usarse la fecha con algoritmos de knn\n",
    "df['InvoiceDate'] = pd.to_datetime(df['InvoiceDate'],format=\"%d.%m.%Y %H:%M\")\n",
    "df['InvoiceDays'] = df['InvoiceDate'].astype('int64') // int(pd.Timedelta(days=1) / pd.Timedelta('1ns'))\n",
    "df.head()"
   ]
  },
  {
   "cell_type": "code",
   "execution_count": 7,
   "metadata": {
    "execution": {
     "iopub.execute_input": "2021-09-25T21:36:42.270721Z",
     "iopub.status.busy": "2021-09-25T21:36:42.270034Z",
     "iopub.status.idle": "2021-09-25T21:36:42.369643Z",
     "shell.execute_reply": "2021-09-25T21:36:42.368572Z",
     "shell.execute_reply.started": "2021-09-25T21:36:42.270696Z"
    },
    "trusted": true
   },
   "outputs": [
    {
     "data": {
      "text/plain": [
       "5697"
      ]
     },
     "execution_count": 7,
     "metadata": {},
     "output_type": "execute_result"
    }
   ],
   "source": [
    "# ¿Cuantos productos distintos se venden?\n",
    "df[\"Description\"].nunique()"
   ]
  },
  {
   "cell_type": "code",
   "execution_count": null,
   "metadata": {
    "execution": {
     "iopub.execute_input": "2021-09-25T21:36:59.6555Z",
     "iopub.status.busy": "2021-09-25T21:36:59.655261Z",
     "iopub.status.idle": "2021-09-25T21:37:00.275143Z",
     "shell.execute_reply": "2021-09-25T21:37:00.273719Z",
     "shell.execute_reply.started": "2021-09-25T21:36:59.655478Z"
    },
    "trusted": true
   },
   "outputs": [
    {
     "data": {
      "text/html": [
       "<div>\n",
       "<style scoped>\n",
       "    .dataframe tbody tr th:only-of-type {\n",
       "        vertical-align: middle;\n",
       "    }\n",
       "\n",
       "    .dataframe tbody tr th {\n",
       "        vertical-align: top;\n",
       "    }\n",
       "\n",
       "    .dataframe thead th {\n",
       "        text-align: right;\n",
       "    }\n",
       "</style>\n",
       "<table border=\"1\" class=\"dataframe\">\n",
       "  <thead>\n",
       "    <tr style=\"text-align: right;\">\n",
       "      <th></th>\n",
       "      <th>Invoice</th>\n",
       "      <th>StockCode</th>\n",
       "      <th>Description</th>\n",
       "      <th>Quantity</th>\n",
       "      <th>InvoiceDate</th>\n",
       "      <th>Price</th>\n",
       "      <th>Customer ID</th>\n",
       "      <th>Country</th>\n",
       "      <th>InvoiceDays</th>\n",
       "      <th>TotalPrice</th>\n",
       "    </tr>\n",
       "  </thead>\n",
       "  <tbody>\n",
       "    <tr>\n",
       "      <th>0</th>\n",
       "      <td>489434</td>\n",
       "      <td>85048</td>\n",
       "      <td>15CM CHRISTMAS GLASS BALL 20 LIGHTS</td>\n",
       "      <td>12</td>\n",
       "      <td>2009-12-01 07:45:00</td>\n",
       "      <td>6.95</td>\n",
       "      <td>13085.00</td>\n",
       "      <td>United Kingdom</td>\n",
       "      <td>14579</td>\n",
       "      <td>83.40</td>\n",
       "    </tr>\n",
       "    <tr>\n",
       "      <th>1</th>\n",
       "      <td>489434</td>\n",
       "      <td>79323P</td>\n",
       "      <td>PINK CHERRY LIGHTS</td>\n",
       "      <td>12</td>\n",
       "      <td>2009-12-01 07:45:00</td>\n",
       "      <td>6.75</td>\n",
       "      <td>13085.00</td>\n",
       "      <td>United Kingdom</td>\n",
       "      <td>14579</td>\n",
       "      <td>81.00</td>\n",
       "    </tr>\n",
       "    <tr>\n",
       "      <th>2</th>\n",
       "      <td>489434</td>\n",
       "      <td>79323W</td>\n",
       "      <td>WHITE CHERRY LIGHTS</td>\n",
       "      <td>12</td>\n",
       "      <td>2009-12-01 07:45:00</td>\n",
       "      <td>6.75</td>\n",
       "      <td>13085.00</td>\n",
       "      <td>United Kingdom</td>\n",
       "      <td>14579</td>\n",
       "      <td>81.00</td>\n",
       "    </tr>\n",
       "    <tr>\n",
       "      <th>3</th>\n",
       "      <td>489434</td>\n",
       "      <td>22041</td>\n",
       "      <td>RECORD FRAME 7\" SINGLE SIZE</td>\n",
       "      <td>48</td>\n",
       "      <td>2009-12-01 07:45:00</td>\n",
       "      <td>2.10</td>\n",
       "      <td>13085.00</td>\n",
       "      <td>United Kingdom</td>\n",
       "      <td>14579</td>\n",
       "      <td>100.80</td>\n",
       "    </tr>\n",
       "    <tr>\n",
       "      <th>4</th>\n",
       "      <td>489434</td>\n",
       "      <td>21232</td>\n",
       "      <td>STRAWBERRY CERAMIC TRINKET BOX</td>\n",
       "      <td>24</td>\n",
       "      <td>2009-12-01 07:45:00</td>\n",
       "      <td>1.25</td>\n",
       "      <td>13085.00</td>\n",
       "      <td>United Kingdom</td>\n",
       "      <td>14579</td>\n",
       "      <td>30.00</td>\n",
       "    </tr>\n",
       "  </tbody>\n",
       "</table>\n",
       "</div>"
      ],
      "text/plain": [
       "  Invoice StockCode                          Description  Quantity  \\\n",
       "0  489434     85048  15CM CHRISTMAS GLASS BALL 20 LIGHTS        12   \n",
       "1  489434    79323P                   PINK CHERRY LIGHTS        12   \n",
       "2  489434    79323W                  WHITE CHERRY LIGHTS        12   \n",
       "3  489434     22041         RECORD FRAME 7\" SINGLE SIZE         48   \n",
       "4  489434     21232       STRAWBERRY CERAMIC TRINKET BOX        24   \n",
       "\n",
       "          InvoiceDate  Price  Customer ID         Country  InvoiceDays  \\\n",
       "0 2009-12-01 07:45:00   6.95     13085.00  United Kingdom        14579   \n",
       "1 2009-12-01 07:45:00   6.75     13085.00  United Kingdom        14579   \n",
       "2 2009-12-01 07:45:00   6.75     13085.00  United Kingdom        14579   \n",
       "3 2009-12-01 07:45:00   2.10     13085.00  United Kingdom        14579   \n",
       "4 2009-12-01 07:45:00   1.25     13085.00  United Kingdom        14579   \n",
       "\n",
       "   TotalPrice  \n",
       "0       83.40  \n",
       "1       81.00  \n",
       "2       81.00  \n",
       "3      100.80  \n",
       "4       30.00  "
      ]
     },
     "execution_count": 8,
     "metadata": {},
     "output_type": "execute_result"
    }
   ],
   "source": [
    "#¿Cuanto se paga por Invoce?\n",
    "# Transformo el precio a Float\n",
    "df[\"Price\"] = df[\"Price\"].apply(lambda x: float(str(x.replace(',','.'))))\n",
    "df[\"TotalPrice\"] = df[\"Quantity\"]*df[\"Price\"]\n",
    "df.head()"
   ]
  },
  {
   "cell_type": "code",
   "execution_count": 9,
   "metadata": {
    "execution": {
     "iopub.execute_input": "2021-09-25T21:37:04.875484Z",
     "iopub.status.busy": "2021-09-25T21:37:04.87522Z",
     "iopub.status.idle": "2021-09-25T21:37:05.005049Z",
     "shell.execute_reply": "2021-09-25T21:37:05.004349Z",
     "shell.execute_reply.started": "2021-09-25T21:37:04.87546Z"
    },
    "trusted": true
   },
   "outputs": [
    {
     "data": {
      "text/html": [
       "<div>\n",
       "<style scoped>\n",
       "    .dataframe tbody tr th:only-of-type {\n",
       "        vertical-align: middle;\n",
       "    }\n",
       "\n",
       "    .dataframe tbody tr th {\n",
       "        vertical-align: top;\n",
       "    }\n",
       "\n",
       "    .dataframe thead th {\n",
       "        text-align: right;\n",
       "    }\n",
       "</style>\n",
       "<table border=\"1\" class=\"dataframe\">\n",
       "  <thead>\n",
       "    <tr style=\"text-align: right;\">\n",
       "      <th></th>\n",
       "      <th>TotalPrice</th>\n",
       "    </tr>\n",
       "    <tr>\n",
       "      <th>Invoice</th>\n",
       "      <th></th>\n",
       "    </tr>\n",
       "  </thead>\n",
       "  <tbody>\n",
       "    <tr>\n",
       "      <th>489434</th>\n",
       "      <td>505.30</td>\n",
       "    </tr>\n",
       "    <tr>\n",
       "      <th>489435</th>\n",
       "      <td>145.80</td>\n",
       "    </tr>\n",
       "    <tr>\n",
       "      <th>489436</th>\n",
       "      <td>630.33</td>\n",
       "    </tr>\n",
       "    <tr>\n",
       "      <th>489437</th>\n",
       "      <td>310.75</td>\n",
       "    </tr>\n",
       "    <tr>\n",
       "      <th>489438</th>\n",
       "      <td>2286.24</td>\n",
       "    </tr>\n",
       "  </tbody>\n",
       "</table>\n",
       "</div>"
      ],
      "text/plain": [
       "         TotalPrice\n",
       "Invoice            \n",
       "489434       505.30\n",
       "489435       145.80\n",
       "489436       630.33\n",
       "489437       310.75\n",
       "489438      2286.24"
      ]
     },
     "execution_count": 9,
     "metadata": {},
     "output_type": "execute_result"
    }
   ],
   "source": [
    "df.groupby(\"Invoice\").agg({\"TotalPrice\":\"sum\"}).head()"
   ]
  },
  {
   "cell_type": "code",
   "execution_count": null,
   "metadata": {
    "execution": {
     "iopub.execute_input": "2021-09-25T21:37:30.039761Z",
     "iopub.status.busy": "2021-09-25T21:37:30.039499Z",
     "iopub.status.idle": "2021-09-25T21:37:30.276223Z",
     "shell.execute_reply": "2021-09-25T21:37:30.27526Z",
     "shell.execute_reply.started": "2021-09-25T21:37:30.039738Z"
    },
    "trusted": true
   },
   "outputs": [
    {
     "data": {
      "text/plain": [
       "Invoice             0\n",
       "StockCode           0\n",
       "Description      4372\n",
       "Quantity            0\n",
       "InvoiceDate         0\n",
       "Price               0\n",
       "Customer ID    236682\n",
       "Country             0\n",
       "InvoiceDays         0\n",
       "TotalPrice          0\n",
       "dtype: int64"
      ]
     },
     "execution_count": 10,
     "metadata": {},
     "output_type": "execute_result"
    }
   ],
   "source": [
    "#Chequeo si hay valores nulos\n",
    "df.isnull().sum()"
   ]
  },
  {
   "cell_type": "code",
   "execution_count": null,
   "metadata": {
    "execution": {
     "iopub.execute_input": "2021-09-25T21:37:35.714208Z",
     "iopub.status.busy": "2021-09-25T21:37:35.712733Z",
     "iopub.status.idle": "2021-09-25T21:37:36.177633Z",
     "shell.execute_reply": "2021-09-25T21:37:36.176825Z",
     "shell.execute_reply.started": "2021-09-25T21:37:35.714141Z"
    },
    "trusted": true
   },
   "outputs": [
    {
     "data": {
      "text/plain": [
       "Invoice        0\n",
       "StockCode      0\n",
       "Description    0\n",
       "Quantity       0\n",
       "InvoiceDate    0\n",
       "Price          0\n",
       "Customer ID    0\n",
       "Country        0\n",
       "InvoiceDays    0\n",
       "TotalPrice     0\n",
       "dtype: int64"
      ]
     },
     "execution_count": 11,
     "metadata": {},
     "output_type": "execute_result"
    }
   ],
   "source": [
    "# Borro valores nulos\n",
    "df.dropna(inplace = True)\n",
    "df.isnull().sum()"
   ]
  },
  {
   "cell_type": "code",
   "execution_count": null,
   "metadata": {
    "execution": {
     "iopub.execute_input": "2021-09-25T21:37:48.635861Z",
     "iopub.status.busy": "2021-09-25T21:37:48.63556Z",
     "iopub.status.idle": "2021-09-25T21:37:48.718651Z",
     "shell.execute_reply": "2021-09-25T21:37:48.717215Z",
     "shell.execute_reply.started": "2021-09-25T21:37:48.635837Z"
    },
    "trusted": true
   },
   "outputs": [
    {
     "name": "stdout",
     "output_type": "stream",
     "text": [
      "Quantity yes\n",
      "2142\n",
      "Price yes\n",
      "1789\n",
      "TotalPrice yes\n",
      "2113\n"
     ]
    }
   ],
   "source": [
    "#Busco los outliers por cantidad, precio y precio total. \n",
    "for feature in [\"Quantity\",\"Price\",\"TotalPrice\"]:\n",
    "\n",
    "    Q1 = df[feature].quantile(0.01)\n",
    "    Q3 = df[feature].quantile(0.99)\n",
    "    IQR = Q3-Q1\n",
    "    upper = Q3 + 1.5*IQR\n",
    "    lower = Q1 - 1.5*IQR\n",
    "\n",
    "    if df[(df[feature] > upper) | (df[feature] < lower)].any(axis=None):\n",
    "        print(feature,\"yes\")\n",
    "        print(df[(df[feature] > upper) | (df[feature] < lower)].shape[0])\n",
    "    else:\n",
    "        print(feature, \"no\")"
   ]
  },
  {
   "cell_type": "markdown",
   "metadata": {},
   "source": [
    "<a id='8'></a><center> <h1 style=\"background-color:orange; color:white\" ><br>Constucción del modelo KNN<br></h1>"
   ]
  },
  {
   "cell_type": "markdown",
   "metadata": {},
   "source": [
    "**Lógica de KNN:**\n",
    " KNN (K-Nearest Neighbors) es un algoritmo basado en la similitud entre elementos. En el caso de recomendaciones de productos, se calcula la distancia entre vectores de productos (por ejemplo, en función de sus características como precio, cantidad vendida, categoría, etc.).\n",
    "\n",
    "**Métrica de distancia:** \n",
    "Se pueden usar diferentes métricas como la distancia euclidiana o el coseno de similitud. En general:\n",
    "\n",
    "<u>Distancia Euclidiana:</u> Ideal cuando los datos están en un espacio continuo y tienen unidades similares.\n",
    "\n",
    "<u>Similitud del Coseno:</u> Útil para comparar vectores de características cuando importa más la dirección que la magnitud.\n",
    "\n",
    "Si un cliente objetivo compra ciertos productos que son recurrentes en otros clientes, es probabable que el cliente objetivo quiera comprar otros productos de los clientes con compras similares.\n",
    "\n",
    "De esta forma, KNN encuentra a los usuarios(vecinos) más cercanos - en el sentido de consumos similares - dentro del espacio vectorial conformado por la cantidad comprada de cada producto.\n",
    "\n",
    "\n",
    "Proceso:\n",
    "\n",
    "1. Se selecciona un producto de referencia.\n",
    "\n",
    "2. Se calculan las distancias entre este producto y todos los demás en la base de datos.\n",
    "\n",
    "3. Se ordenan los productos según la menor distancia.\n",
    "\n",
    "4. Se eligen los k productos más cercanos como recomendaciones.\n",
    "\n",
    "Si un cliente objetivo compra ciertos productos que son recurrentes en otros clientes, es probabable que el cliente objetivo quiera compr\n",
    "De esta forma, si un cliente objetivo compra ciertos productos que son recurrentes en otros clientes, es probabable que el cliente objetivo quiera compr"
   ]
  },
  {
   "cell_type": "code",
   "execution_count": 46,
   "metadata": {},
   "outputs": [
    {
     "name": "stderr",
     "output_type": "stream",
     "text": [
      "C:\\Users\\santi\\AppData\\Local\\Temp\\ipykernel_2892\\3676109827.py:2: FutureWarning: Indexing with multiple keys (implicitly converted to a tuple of keys) will be deprecated, use a list instead.\n",
      "  df_agrupado = df.groupby(['Customer ID', 'Description'], as_index=False)['Quantity','TotalPrice'].sum()\n"
     ]
    }
   ],
   "source": [
    "#Hacemos un analisis independiente del tiempo, por lo tanto vamos a sumar la cantidad total comprada de cada producto por cada cliente\n",
    "df_agrupado = df.groupby(['Customer ID', 'Description'], as_index=False)['Quantity','TotalPrice'].sum()\n",
    "\n",
    "#Acortamos el dataframe para probar el algoritmo\n",
    "df_prueba= df_agrupado.head(10000)\n",
    "\n",
    "\n",
    "#Diccionario de usuarios, relacionamos cada Customer ID a un indice\n",
    "users = df_prueba['Customer ID'].drop_duplicates().tolist()\n",
    "\n",
    "user_ids_dict = {index: user for user, index in enumerate(users)}\n",
    "\n",
    "#Distintos Items\n",
    "items = df_prueba['Description'].drop_duplicates()\n",
    "items = items.tolist()\n",
    "\n",
    "u, i =  len(users), len(items) \n",
    "\n",
    "# Crear una matriz de ceros de dimension usuarios x productos\n",
    "matriz = np.zeros((u, i+1))\n"
   ]
  },
  {
   "cell_type": "code",
   "execution_count": 47,
   "metadata": {},
   "outputs": [
    {
     "name": "stdout",
     "output_type": "stream",
     "text": [
      "        Customer ID                          Description  Quantity  TotalPrice\n",
      "0          12346.00  Adjustment by john on 26/01/2010 17        -1     -103.50\n",
      "1          12346.00                DOORMAT 3 SMILEY CATS         1        7.49\n",
      "2          12346.00                     DOORMAT AIRMAIL          1        7.49\n",
      "3          12346.00                 DOORMAT BLACK FLOCK          1        7.49\n",
      "4          12346.00            DOORMAT CHRISTMAS VILLAGE         1        7.49\n",
      "...             ...                                  ...       ...         ...\n",
      "490108     18287.00                  TOADSTOOL MONEY BOX         6       17.70\n",
      "490109     18287.00    TREE T-LIGHT HOLDER WILLIE WINKIE        12       19.80\n",
      "490110     18287.00               WATERMELON BATH SPONGE        20       25.00\n",
      "490111     18287.00      WHITE CHRISTMAS STAR DECORATION        36       15.12\n",
      "490112     18287.00          WOODEN BOX ADVENT CALENDAR          4       35.80\n",
      "\n",
      "[490113 rows x 4 columns]\n"
     ]
    }
   ],
   "source": [
    "print(df_agrupado)"
   ]
  },
  {
   "cell_type": "code",
   "execution_count": 51,
   "metadata": {},
   "outputs": [],
   "source": [
    "#llenamos la matriz con la cantidad de cada producto consumida por cada cliente\n",
    "for user in users:\n",
    "    for i in range(len(items)+1):\n",
    "        user_index = user_ids_dict[user]\n",
    "        if i == len(items):\n",
    "            matriz[user_index][i] = df_prueba[(df_prueba['Customer ID'] == user) & (df_prueba['Description'] == item)]['TotalPrice'].sum()\n",
    "        else:\n",
    "            item = items[i]\n",
    "            matriz[user_index][i] = df_prueba[(df_prueba['Customer ID'] == user) & (df_prueba['Description'] == item)]['Quantity'].sum()\n",
    "        "
   ]
  },
  {
   "cell_type": "code",
   "execution_count": 52,
   "metadata": {},
   "outputs": [],
   "source": [
    "#Normalizamos\n",
    "mean_matriz = np.mean(matriz, axis=1).reshape(-1, 1)\n",
    "matriz_normalized = matriz - mean_matriz"
   ]
  },
  {
   "cell_type": "code",
   "execution_count": 53,
   "metadata": {},
   "outputs": [
    {
     "data": {
      "text/html": [
       "<style>#sk-container-id-2 {color: black;background-color: white;}#sk-container-id-2 pre{padding: 0;}#sk-container-id-2 div.sk-toggleable {background-color: white;}#sk-container-id-2 label.sk-toggleable__label {cursor: pointer;display: block;width: 100%;margin-bottom: 0;padding: 0.3em;box-sizing: border-box;text-align: center;}#sk-container-id-2 label.sk-toggleable__label-arrow:before {content: \"▸\";float: left;margin-right: 0.25em;color: #696969;}#sk-container-id-2 label.sk-toggleable__label-arrow:hover:before {color: black;}#sk-container-id-2 div.sk-estimator:hover label.sk-toggleable__label-arrow:before {color: black;}#sk-container-id-2 div.sk-toggleable__content {max-height: 0;max-width: 0;overflow: hidden;text-align: left;background-color: #f0f8ff;}#sk-container-id-2 div.sk-toggleable__content pre {margin: 0.2em;color: black;border-radius: 0.25em;background-color: #f0f8ff;}#sk-container-id-2 input.sk-toggleable__control:checked~div.sk-toggleable__content {max-height: 200px;max-width: 100%;overflow: auto;}#sk-container-id-2 input.sk-toggleable__control:checked~label.sk-toggleable__label-arrow:before {content: \"▾\";}#sk-container-id-2 div.sk-estimator input.sk-toggleable__control:checked~label.sk-toggleable__label {background-color: #d4ebff;}#sk-container-id-2 div.sk-label input.sk-toggleable__control:checked~label.sk-toggleable__label {background-color: #d4ebff;}#sk-container-id-2 input.sk-hidden--visually {border: 0;clip: rect(1px 1px 1px 1px);clip: rect(1px, 1px, 1px, 1px);height: 1px;margin: -1px;overflow: hidden;padding: 0;position: absolute;width: 1px;}#sk-container-id-2 div.sk-estimator {font-family: monospace;background-color: #f0f8ff;border: 1px dotted black;border-radius: 0.25em;box-sizing: border-box;margin-bottom: 0.5em;}#sk-container-id-2 div.sk-estimator:hover {background-color: #d4ebff;}#sk-container-id-2 div.sk-parallel-item::after {content: \"\";width: 100%;border-bottom: 1px solid gray;flex-grow: 1;}#sk-container-id-2 div.sk-label:hover label.sk-toggleable__label {background-color: #d4ebff;}#sk-container-id-2 div.sk-serial::before {content: \"\";position: absolute;border-left: 1px solid gray;box-sizing: border-box;top: 0;bottom: 0;left: 50%;z-index: 0;}#sk-container-id-2 div.sk-serial {display: flex;flex-direction: column;align-items: center;background-color: white;padding-right: 0.2em;padding-left: 0.2em;position: relative;}#sk-container-id-2 div.sk-item {position: relative;z-index: 1;}#sk-container-id-2 div.sk-parallel {display: flex;align-items: stretch;justify-content: center;background-color: white;position: relative;}#sk-container-id-2 div.sk-item::before, #sk-container-id-2 div.sk-parallel-item::before {content: \"\";position: absolute;border-left: 1px solid gray;box-sizing: border-box;top: 0;bottom: 0;left: 50%;z-index: -1;}#sk-container-id-2 div.sk-parallel-item {display: flex;flex-direction: column;z-index: 1;position: relative;background-color: white;}#sk-container-id-2 div.sk-parallel-item:first-child::after {align-self: flex-end;width: 50%;}#sk-container-id-2 div.sk-parallel-item:last-child::after {align-self: flex-start;width: 50%;}#sk-container-id-2 div.sk-parallel-item:only-child::after {width: 0;}#sk-container-id-2 div.sk-dashed-wrapped {border: 1px dashed gray;margin: 0 0.4em 0.5em 0.4em;box-sizing: border-box;padding-bottom: 0.4em;background-color: white;}#sk-container-id-2 div.sk-label label {font-family: monospace;font-weight: bold;display: inline-block;line-height: 1.2em;}#sk-container-id-2 div.sk-label-container {text-align: center;}#sk-container-id-2 div.sk-container {/* jupyter's `normalize.less` sets `[hidden] { display: none; }` but bootstrap.min.css set `[hidden] { display: none !important; }` so we also need the `!important` here to be able to override the default hidden behavior on the sphinx rendered scikit-learn.org. See: https://github.com/scikit-learn/scikit-learn/issues/21755 */display: inline-block !important;position: relative;}#sk-container-id-2 div.sk-text-repr-fallback {display: none;}</style><div id=\"sk-container-id-2\" class=\"sk-top-container\"><div class=\"sk-text-repr-fallback\"><pre>NearestNeighbors(algorithm=&#x27;brute&#x27;, metric=&#x27;cosine&#x27;)</pre><b>In a Jupyter environment, please rerun this cell to show the HTML representation or trust the notebook. <br />On GitHub, the HTML representation is unable to render, please try loading this page with nbviewer.org.</b></div><div class=\"sk-container\" hidden><div class=\"sk-item\"><div class=\"sk-estimator sk-toggleable\"><input class=\"sk-toggleable__control sk-hidden--visually\" id=\"sk-estimator-id-2\" type=\"checkbox\" checked><label for=\"sk-estimator-id-2\" class=\"sk-toggleable__label sk-toggleable__label-arrow\">NearestNeighbors</label><div class=\"sk-toggleable__content\"><pre>NearestNeighbors(algorithm=&#x27;brute&#x27;, metric=&#x27;cosine&#x27;)</pre></div></div></div></div></div>"
      ],
      "text/plain": [
       "NearestNeighbors(algorithm='brute', metric='cosine')"
      ]
     },
     "execution_count": 53,
     "metadata": {},
     "output_type": "execute_result"
    }
   ],
   "source": [
    "# Aplicamos KNN\n",
    "from sklearn.neighbors import NearestNeighbors\n",
    "\n",
    "knn = NearestNeighbors(metric='cosine', algorithm='brute')\n",
    "knn.fit(matriz_normalized)"
   ]
  },
  {
   "cell_type": "code",
   "execution_count": 54,
   "metadata": {},
   "outputs": [],
   "source": [
    "#Buscamos los k vecinos cercanos a un usuario particular\n",
    "def kneighborsForUser(k,user):\n",
    "\n",
    "    target_user_index = int(user_ids_dict[user])\n",
    "    distances, indices = knn.kneighbors(matriz_normalized[target_user_index].reshape(1, -1), n_neighbors=k)\n",
    "\n",
    "    return distances, indices \n"
   ]
  },
  {
   "cell_type": "code",
   "execution_count": 55,
   "metadata": {},
   "outputs": [],
   "source": [
    "#ranking de los vecinos más cercanos\n",
    "def ratingsFromNeighbors(distances, indices):\n",
    "    # Aggregate ratings from the nearest neighbors\n",
    "    neighbors_ratings = matriz[indices.flatten()]\n",
    "    predicted_ratings = neighbors_ratings.mean(axis=0)\n",
    "    return predicted_ratings"
   ]
  },
  {
   "cell_type": "code",
   "execution_count": 78,
   "metadata": {},
   "outputs": [],
   "source": [
    "def encontrar_id_por_indice(diccionario, indice_buscado):\n",
    "    for id, indice in diccionario.items():\n",
    "        if indice == indice_buscado:\n",
    "            return id\n",
    "    return None"
   ]
  },
  {
   "cell_type": "code",
   "execution_count": 81,
   "metadata": {},
   "outputs": [
    {
     "name": "stdout",
     "output_type": "stream",
     "text": [
      "12347.0\n"
     ]
    }
   ],
   "source": [
    "#Usuarios más parecidos dada las distnacias e indices respecto a un usuario\n",
    "def similar_users(distances, indices):\n",
    "    list_similarities = []\n",
    "    for i in range(0,len(distances.flatten())):\n",
    "        nearest_user = encontrar_id_por_indice(user_ids_dict,indices.flatten()[i])\n",
    "        \n",
    "        list_similarities.append((df_prueba[df_prueba['Customer ID'] == nearest_user],distances.flatten()[i]))\n",
    "\n",
    "    return list_similarities\n"
   ]
  },
  {
   "cell_type": "markdown",
   "metadata": {},
   "source": [
    "<a id='8'></a><center> <h1 style=\"background-color:orange; color:white\" ><br>Modelo predictivo de recomendaciones basado en KNN<br></h1>"
   ]
  },
  {
   "cell_type": "markdown",
   "metadata": {},
   "source": [
    "## Recomendación Basada en Vecinos Más Cercanos  \n",
    "\n",
    "Para un usuario aleatorio, identificamos los **tres vecinos más cercanos** en función de su historial de compras. Esta proximidad se determina utilizando métricas de similitud en el consumo.  \n",
    "\n",
    "### Proceso de Recomendación  \n",
    "1. **Identificación de Vecinos Cercanos**  \n",
    "   - Se seleccionan los tres usuarios más similares en términos de consumo de productos.  \n",
    "\n",
    "2. **Generación de Recomendaciones**  \n",
    "   - Se recomiendan al usuario los artículos comprados por sus vecinos que él aún no ha adquirido.  \n",
    "\n",
    "### Información Adicional  \n",
    "Este enfoque no solo permite generar recomendaciones personalizadas, sino que también aporta **insights valiosos sobre la segmentación de clientes**. De hecho, este mismo principio es utilizado en el algoritmo **K-Nearest Neighbors (KNN)** cuando se emplea para **clustering**, facilitando la agrupación de clientes según patrones de compra similares.  \n"
   ]
  },
  {
   "cell_type": "code",
   "execution_count": 115,
   "metadata": {},
   "outputs": [
    {
     "name": "stdout",
     "output_type": "stream",
     "text": [
      "Usuarios más cercanos:  [12413.0, 12437.0, 12373.0]\n",
      "Items recomendados: ['SET 6 FOOTBALL CELEBRATION CANDLES', 'SET OF 20 KIDS COOKIE CUTTERS', 'SET OF 3 BUTTERFLY COOKIE CUTTERS', 'SET OF 3 HEART COOKIE CUTTERS', 'SET OF 36 DINOSAUR PAPER DOILIES', 'DOORMAT FANCY FONT HOME SWEET HOME', 'SET OF 36 PAISLEY FLOWER DOILIES', 'SET OF 9 HEART SHAPED BALLOONS', 'SET/10 BLUE POLKADOT PARTY CANDLES', 'JUMBO STORAGE BAG SUKI', 'GIRLS VINTAGE TIN SEASIDE BUCKET', 'SKULL LUNCH BOX WITH CUTLERY ', 'SPACEBOY BIRTHDAY CARD', 'STRAWBERRY LUNCH BOX WITH CUTLERY', 'PAPER BUNTING RETRO SPOTS', 'RED GINGHAM ROSE JEWELLERY BOX', 'WHITE HEART CONFETTI IN TUBE', '3 PIECE SPACEBOY COOKIE CUTTER SET', 'BAG 125g SWIRLY MARBLES', 'Manual', 'PARTY TIME PENCIL ERASERS', 'MINI JIGSAW CIRCUS PARADE ', 'PARTY CONE CHRISTMAS DECORATION ', 'MINI JIGSAW DINOSAUR ', 'POPCORN HOLDER', 'RED METAL BEACH SPADE ', 'MINI JIGSAW DOLLY GIRL', 'CHERRY BLOSSOM  DECORATIVE FLASK', 'SET/4 BADGES BEETLES', 'MINI JIGSAW SPACEBOY', 'BOX OF 6 CHRISTMAS CAKE DECORATIONS', 'VINTAGE SEASIDE JIGSAW PUZZLES', 'CARD BIRTHDAY COWBOY', 'CARD CIRCUS PARADE', 'SET OF 36 MUSHROOM PAPER DOILIES', 'SET OF 72 RETROSPOT PAPER  DOILIES', 'CHARLOTTE BAG , SUKI DESIGN', 'BLUE HAPPY BIRTHDAY BUNTING', 'PARTY INVITES DINOSAURS', 'PARTY INVITES SPACEMAN', 'PINK  HONEYCOMB PAPER BALL ', 'GREEN SPOTTY CUP', 'SET OF 6 GIRLS CELEBRATION CANDLES', 'SKULL AND CROSSBONES  GARLAND ', 'SET/10 IVORY SPOTTY PARTY CANDLES', 'COWBOYS AND INDIANS BIRTHDAY CARD ', 'ICE CREAM SUNDAE LIP GLOSS', 'JUMBO BAG WOODLAND ANIMALS', 'RED  SPOTTY COFFEE  MUG', 'LOLITA  DESIGN  COTTON TOTE BAG', 'ELEPHANT, BIRTHDAY CARD, ', 'SET/10 PINK SPOTTY PARTY CANDLES', 'BEADED CRYSTAL HEART PINK ON STICK', 'FAWN BLUE HOT WATER BOTTLE', 'MINI LIGHTS WOODLAND MUSHROOMS', 'MINI PAINT SET VINTAGE ', 'PACK OF 6 BIRDY GIFT TAGS', 'PINK CREAM FELT CRAFT TRINKET BOX ', 'RED SPOTTY BEAKER ', 'PICTURE DOMINOES', 'PACK OF 60 DINOSAUR CAKE CASES', 'PACK OF 60 MUSHROOM CAKE CASES', 'PACK OF 60 SPACEBOY CAKE CASES', 'GROW YOUR OWN PLANT IN A CAN ', 'RED SPOTTY CHARLOTTE BAG', 'RED SPOTTY CHILDS APRON', '12 PENCIL SMALL TUBE WOODLAND', 'RED SPOTTY CUP', 'HOMEMADE JAM SCENTED CANDLES', 'RABBIT NIGHT LIGHT', 'RED SPOTTY PUDDING BOWL', 'EASTER TIN BUCKET', 'RED SPOTTY SHOPPER BAG', 'RED TOADSTOOL LED NIGHT LIGHT', 'RED SPOTTY TABLECLOTH ', 'PACK OF 72 RETRO SPOT CAKE CASES', 'JAPANESE CROCHETED ANIMAL', 'RABBIT  DESIGN  COTTON TOTE BAG', 'RED/WHITE SPOT PICNIC BAG', 'RED SPOTTY PURSE ', 'RED/WHITE DOT MINI CASES', 'SET OF 60 VINTAGE LEAF CAKE CASES ', 'RETRO SPOT MUG', 'SET OF 3 CASES WOODLAND DESIGN', 'SET/10 BLUE SPOTTY PARTY CANDLES', 'SET/10 RED SPOTTY PARTY CANDLES', 'SET/20 WOODLAND PAPER NAPKINS ', 'PARTY INVITES FOOTBALL', 'WHITE DOVE HONEYCOMB PAPER GARLAND', 'WHITE/BLUE PULL BACK RACING CAR', 'POLYESTER FILLER PAD 30CMx30CM', 'VINTAGE HEADS AND TAILS CARD GAME ', 'AGED GLASS SILVER T-LIGHT HOLDER', 'RETRO SPORT PARTY BAG + STICKER SET', 'WOODEN SCHOOL COLOURING SET', 'WOODLAND CHARLOTTE BAG', 'WOODLAND DESIGN  COTTON TOTE BAG', 'WOODLAND PARTY BAG + STICKER SET', 'DOUGHNUT LIP GLOSS ', 'ROUND CONTAINER SET OF 5 RETROSPOT', 'ROUND SNACK BOXES SET OF 4 FRUITS ', 'ROUND SNACK BOXES SET OF 4 SKULLS', 'SMALL YELLOW BABUSHKA NOTEBOOK ', 'EASTER CRAFT 4 CHICKS ', 'PACK OF 60 PINK PAISLEY CAKE CASES', 'PACK OF 72 SKULL CAKE CASES', 'SET OF 72 PINK HEART PAPER DOILIES', 'SET OF 72 SKULL PAPER  DOILIES', 'SET OF 9 BLACK SKULL BALLOONS', 'TEA PARTY BIRTHDAY CARD', 'TOADSTOOL MONEY BOX', 'BIG DOUGHNUT FRIDGE MAGNETS', '12 PENCILS TALL TUBE SKULLS', 'VINTAGE KID DOLLY CARD ', 'ASSORTED TUTTI FRUTTI HEART BOX', 'SET/6 FRUIT SALAD  PAPER PLATES', 'SET/6 FRUIT SALAD PAPER CUPS', 'SET/6 POSIES PAPER CUPS', 'SET/6 POSIES PAPER PLATES', 'JIGSAW TREE WITH WATERING CAN', 'MAKE YOUR OWN MONSOON CARD KIT', 'WOOD STAMP SET FLOWERS', 'PACK OF 6 SWEETIE GIFT BOXES', 'PAPER BUNTING COLOURED LACE', 'PAPER CHAIN KIT RETRO SPOT', 'PARTY CONES CARNIVAL ASSORTED', 'MUSHROOM BLUE HOT WATER BOTTLE', 'PAPER CHAIN KIT SKULLS ', 'SET/4 BADGES WOODLAND ANIMAL', 'SET/4 SKULL BADGES', 'SET/6 WOODLAND PAPER CUPS', 'SET/6 WOODLAND PAPER PLATES', 'DOORMAT VINTAGE LEAF', \"POPPY'S PLAYHOUSE BEDROOM \", \"POPPY'S PLAYHOUSE LIVINGROOM \", ' RED/WHITE DOT MINI CASES', 'GROW YOUR OWN FLOWERS SET OF 3', 'JAM MAKING SET WITH JARS', 'CAKE PLATE LOVEBIRD WHITE', 'CAKE STAND LACE WHITE', 'LUNCH BOX WITH CUTLERY FAIRY CAKES ', 'CHILDS BREAKFAST SET CIRCUS PARADE', 'PARISIENNE CURIO CABINET', 'MULTICOLOUR HONEYCOMB FAN', 'BALLOON WATER BOMB PACK OF 35', 'PINK  HEART SHAPE LOVE BUCKET ', 'PLASTERS IN TIN CIRCUS PARADE ', 'PLASTERS IN TIN SKULLS', 'PLASTERS IN TIN WOODLAND ANIMALS', 'DINOSAURS WATER TRANSFER TATTOOS ', 'TOY TIDY DOLLY GIRL DESIGN', 'WOODLAND WATER TRANSFER TATTOOS ', 'FOOT STOOL HOME SWEET HOME ', 'RED HEART SHAPE LOVE BUCKET ', 'RETRO SPOT LARGE MILK JUG', 'RETROSPOT PARTY BAG + STICKER SET', 'WORLD WAR 2 GLIDERS ASSTD DESIGNS', 'SAVE THE PLANET COTTON TOTE BAG', 'CAKE STAND LOVEBIRD 2 TIER PINK', 'SET OF 12 FAIRY CAKE BAKING CASES', 'FAIRY CAKES NOTEBOOK A7 SIZE', 'SET OF 3 NOTEBOOKS IN PARCEL', 'GLASS CLOCHE SMALL', 'SET OF 6 3D KIT CARDS FOR KIDS', 'CHINESE DRAGON PAPER LANTERNS', 'SET/4 BADGES BALLOON GIRL', '12 PENCILS SMALL TUBE POSY', '6 ROCKET BALLOONS ', 'BEADED PEARL HEART WHITE ON STICK', 'BLUE ROCKING SINGING CANARY', 'BUTTERFLIES  HONEYCOMB GARLAND', 'CANDY SPOT BUNNY', 'CAROUSEL PONIES BABY BIB', 'CLASSIC WHITE FRAME', 'CROCHET BEAR WITH BLUE STRIPES', 'DOGGY RUBBER', 'EIGHT PIECE DINOSAUR SET', 'ENGLISH ROSE NOTEBOOK A6 SIZE', 'FLORAL SOFT CAR TOY', '4 TRADITIONAL SPINNING TOPS', 'FOOD/DRINK SPUNGE STICKERS', 'HANGING METAL HEART LANTERN', 'PAPERWEIGHT SAVE THE PLANET', 'PATCHWORK PENCIL CASE BUTTERFLY ', 'PINK BABY GIRLS PHOTO ALBUM', 'PINK FELT EASTER EGG BASKET', 'RED DAISY PAPER LAMPSHADE', 'PLASTERS IN TIN SPACEBOY', 'SET OF 36 DOLLY GIRL PAPER DOILIES', 'SET OF 36 SPACEBOY PAPER DOILIES', 'MINATURE COLOURED GARDENING SET', 'SCOTTIES DESIGN BABY BIB', 'SET/20 FRUIT SALAD PAPER NAPKINS ', 'SET/4 BADGES CUTE CREATURES', 'CAMOUFLAGE LED TORCH', 'SET/6 3D KIT CARDS FOR KIDS', 'SET/6 STRAWBERRY PAPER CUPS', 'SET/6 STRAWBERRY PAPER PLATES', 'SLEEPING CAT ERASERS', 'SMALL GREEN PEONY FOLDING STOOL', 'SMALL ORIENTAL BLUE FOLDING STOOL', 'SMALL ORIENTAL RED FOLDING STOOL', 'SMALL PINK PEONY FOLDING STOOL', 'TEA TIME PAPER LANTERNS', 'WOOD ANIMALS HEIGHT CHART STICKERS ', 'ZINC METAL HEART DECORATION', 'BLUE SPOTTY BOWL', 'PINK SPOTTY BOWL', 'HOUSE SHAPE PENCIL SHARPENER', 'RED SPOTTY BOWL', 'SET OF 3 BABUSHKA STACKING TINS', '12 PENCILS TALL TUBE POSY', 'RETRO SPOT TRADITIONAL TEAPOT ', 'DOLLY GIRL LUNCH BOX', 'HOME BUILDING BLOCK WORD', 'BLUE FELT EASTER EGG BASKET', 'CHARLIE + LOLA BISCUITS TINS', 'LOVE BUILDING BLOCK WORD', 'SET/20 RED SPOTTY PAPER NAPKINS ', 'FOOD/DRINK SPONGE STICKERS', 'PINK BABY BUNTING', 'SUKI  SHOULDER BAG', 'PINK LOVE HEART SHAPE CUP', 'SET/10 PINK POLKADOT PARTY CANDLES', 'SET/10 RED POLKADOT PARTY CANDLES', 'TOAST ITS - HAPPY BIRTHDAY', 'SMALL POPCORN HOLDER', 'STRAWBERRY HONEYCOMB  GARLAND ', 'VINTAGE CREAM 3 BASKET CAKE STAND', 'WOODEN HAPPY BIRTHDAY GARLAND', 'CHERRY DESIGN PAPERLANTERNS', 'RIBBON REEL HEARTS DESIGN ', 'RIBBON REEL LACE DESIGN ', 'RED LOVE HEART SHAPE CUP', 'WOODEN BOX OF DOMINOES', 'BLUE POLKADOT BOWL', 'BLUE POLKADOT PLATE ', 'BOX OF VINTAGE JIGSAW BLOCKS ', 'CAKE STAND WHITE TWO TIER LACE', 'CARD BILLBOARD FONT', '36 PENCILS TUBE RED SPOTTY', '36 PENCILS TUBE WOODLAND', 'SET/6 COLLAGE PAPER CUPS', 'SET/6 COLLAGE PAPER PLATES', 'CIRCUS PARADE LUNCH BOX ', 'LUNCH BAG RED RETROSPOT', 'DINOSAUR LUNCH BOX WITH CUTLERY', 'DINOSAUR PARTY BAG + STICKER SET', 'PACK OF 12 TRADITIONAL CRAYONS', 'PINK  POLKADOT PLATE ', 'PINK POLKADOT BOWL', 'PACK OF 6 HANDBAG GIFT BOXES', 'PACK OF 6 PANNETONE GIFT BOXES', 'PAPERWEIGHT CHILDHOOD MEMORIES', 'RED RETROSPOT BOWL', 'PASTEL COLOUR HONEYCOMB FAN', 'S/6 WOODEN SKITTLES IN COTTON BAG', 'SPACEBOY LUNCH BOX ', 'JUMBO BAG OWLS', 'CAKE STAND 3 TIER MAGIC GARDEN', 'GROW A FLYTRAP OR SUNFLOWER IN TIN', 'MAKE YOUR OWN PLAYTIME CARD KIT', 'MINI CAKE STAND T-LIGHT HOLDER', 'SET/20 STRAWBERRY PAPER NAPKINS ', 'SKULLS  WATER TRANSFER TATTOOS ', 'VINTAGE DONKEY TAIL GAME ', 'PACK OF 6 SKULL PAPER CUPS', 'PACK OF 6 SKULL PAPER PLATES', 'PARTY INVITES WOODLAND', 'ADVENT CALENDAR GINGHAM SACK', '12 PENCILS TALL TUBE RED SPOTTY', '36 FOIL STAR CAKE CASES ', 'BAKING MOULD CHOCOLATE CUPCAKES', 'ASSORTED TUTTI FRUTTI SMALL PURSE', 'CHARLOTTE BAG , PINK/WHITE SPOTS', 'SKULLS PARTY BAG + STICKER SET', 'CHARLOTTE BAG PINK WITH WHITE SPOTS', 'LARGE RED SPOT WINDMILL', 'DINOSAUR LUNCHBOX WITH CUTLERY', 'LUNCH BAG CARS BLUE', 'SET OF 3 CONEY ISLAND OVAL BOXES', 'LUNCH BAG RED SPOTTY', 'SET/20 COLLAGE PAPER NAPKIN ', 'GREEN GINGHAM FLOWER JEWELLERY BOX', 'LUNCH BOX WITH CUTLERY RETROSPOT ', 'LUNCH BAG WOODLAND', 'LUNCHBOX WITH CUTLERY FAIRY CAKES ', 'LUNCHBOX WITH CUTLERY RETROSPOT ', 'PACK OF 20 SKULL PAPER NAPKINS', 'JUMBO BAG RED WHITE SPOTTY ', 'PACK OF 72 RETROSPOT CAKE CASES', 'STRAWBERRY LUNCHBOX WITH CUTLERY', 'PINK BLUE FELT CRAFT TRINKET BOX', '12 PENCILS TALL TUBE WOODLAND', 'BOYS VINTAGE TIN SEASIDE BUCKET', 'BAKING MOULD HEART MILK CHOCOLATE', 'SET OF 72 RETRO SPOT PAPER  DOILIES']\n"
     ]
    }
   ],
   "source": [
    "#Tomamos al usuario al azar, su indice en la matriz y la lista de compras del mismo\n",
    "user = np.random.choice(users, size=1)[0]\n",
    "target_user_index = user_ids_dict[user]\n",
    "user_purchases = df_prueba[df_prueba['Customer ID'] == user]\n",
    "\n",
    "#Buscamos vecinos más cercanos al usuario dado\n",
    "distances, indices = kneighborsForUser(3,user)\n",
    "print('Usuarios más cercanos: ', list(pd.Series(indices[0]).apply(lambda x: encontrar_id_por_indice(user_ids_dict,x))))\n",
    "# Items que el usuario objetivo no ha comprado\n",
    "items_usuario_objetivo = set(np.where(matriz[target_user_index] > 0)[0])  # Items comprados\n",
    "items_no_comprados = set(range(matriz_normalized.shape[1])) - items_usuario_objetivo  # Items no comprados\n",
    "\n",
    "# Items comprados por los vecinos\n",
    "items_vecinos = set()\n",
    "for vecino_index in indices[0]:\n",
    "    items_vecinos.update(np.where(matriz[vecino_index] > 0)[0])\n",
    "\n",
    "# Recomendar items no comprados por el usuario pero sí por los vecinos\n",
    "recomendaciones = [items[i] for i in items_no_comprados.intersection(items_vecinos)]\n",
    "print(\"Items recomendados:\", recomendaciones)"
   ]
  },
  {
   "cell_type": "markdown",
   "metadata": {},
   "source": [
    "# Filtrado y Priorización de Recomendaciones\n",
    "\n",
    "En esta sección, se abordará el filtrado y ranking de recomendaciones para un usuario específico. Para ello, se asignará una puntuación a los ítems recomendados con el objetivo de evaluar su relevancia.  \n",
    "\n",
    "## Criterios de Priorización  \n",
    "\n",
    "Para determinar la importancia de cada recomendación, se consideran los siguientes factores:  \n",
    "\n",
    "### Frecuencia en los Vecinos Cercanos  \n",
    "\n",
    "Una forma de priorizar ciertas recomendaciones es analizar la frecuencia con la que los vecinos más cercanos han comprado los ítems recomendados. Aquellos productos que aparecen con mayor frecuencia en los vecinos serán considerados más relevantes para el usuario.  \n",
    "\n",
    "### Popularidad Global  \n",
    "\n",
    "Otro criterio relevante es la popularidad de los ítems en la población total. Si un ítem es adquirido con frecuencia por los vecinos del usuario pero no es popular en la población general, es más probable que dicho ítem se ajuste a su patrón de consumo específico en lugar de ser una coincidencia estadística.  \n",
    "\n",
    "Para potenciar este efecto, se empleará la siguiente métrica de relevancia:  \n",
    "\n",
    "\\[\n",
    "S(i) = \\frac{F_{\\text{vecinos}}(i)}{F_{\\text{global}}(i)}\n",
    "\\]\n",
    "\n",
    "donde \\( F_{\\text{vecinos}}(i) \\) representa la frecuencia de compra del ítem \\( i \\) entre los vecinos cercanos, y \\( F_{\\text{global}}(i) \\) es su frecuencia en la población total.  \n",
    "\n",
    "### Distancia a los Vecinos  \n",
    "\n",
    "Finalmente, se considera la distancia de los vecinos en la ponderación de los ítems recomendados. Se otorga mayor peso a los vecinos más cercanos, ya que estos comparten patrones de consumo más similares al usuario objetivo.  \n",
    "\n",
    "En este proyecto, se optó por un modelo que combina estos tres factores: frecuencia en los vecinos, popularidad global y proximidad de los vecinos, permitiendo generar recomendaciones más precisas y personalizadas.  \n"
   ]
  },
  {
   "cell_type": "code",
   "execution_count": 144,
   "metadata": {},
   "outputs": [
    {
     "name": "stdout",
     "output_type": "stream",
     "text": [
      "['WHEELBARROW FOR CHILDREN ', 'PINK  POLKADOT PLATE ', 'RED KITCHEN SCALES', 'GREEN METAL BOX ARMY SUPPLIES', 'WOODEN CROQUET GARDEN SET', 'PORCELAIN ROSE SMALL', 'JUMBO BAG VINTAGE DOILY ', 'RED RETROSPOT SHOPPER BAG', 'ASSORTED BOTTLE TOP  MAGNETS ', 'PINK  POLKADOT CUP', 'DOLLY GIRL BABY GIFT SET', 'CIRCUS PARADE LUNCH BOX ', 'PINK POLKADOT BOWL', '20 DOLLY PEGS RETROSPOT', 'CHILDRENS TOY COOKING UTENSIL SET', 'SET OF 2 TRAYS HOME SWEET HOME', 'RED RETROSPOT ROUND CAKE TINS', 'DOORSTOP RETROSPOT HEART', 'BIRTHDAY PARTY CORDON BARRIER TAPE', 'RETROSPOT LAMP', 'BOX OF VINTAGE JIGSAW BLOCKS ', 'NATURAL SLATE CHALKBOARD LARGE ', 'VICTORIAN GLASS HANGING T-LIGHT', 'SET OF 4 KNICK KNACK TINS DOILY ', 'CIRCUS PARADE BABY GIFT SET', 'PINK BABY BUNTING', 'FIVE CATS HANGING DECORATION', 'SET OF 72 PINK HEART PAPER DOILIES', 'PICNIC BOXES SET OF 3 RETROSPOT ', 'RED RETROSPOT CUP', 'LUNCH BAG PINK POLKADOT', 'BLUE POLKADOT PLATE ', 'CHILDS BREAKFAST SET DOLLY GIRL ', 'SPACEBOY LUNCH BOX ', 'RECYCLED ACAPULCO MAT TURQUOISE', 'BIRDHOUSE GARDEN MARKER ', 'S/6 WOODEN SKITTLES IN COTTON BAG', 'SET OF 3 REGENCY CAKE TINS', 'SPOTTY BUNTING', 'PARTY PIZZA DISH RED RETROSPOT', 'DOORMAT UNION FLAG', 'PACK OF 6 BIRDY GIFT TAGS', 'CARD HOLDER LOVE BIRD SMALL', 'PINK FAIRY CAKE CHILDRENS APRON', 'CLASSIC METAL BIRDCAGE PLANT HOLDER', 'BLUE POLKADOT CUP', 'CHILDRENS CUTLERY POLKADOT PINK', 'TRADITIONAL WOODEN SKIPPING ROPE', 'SET OF 6 SOLDIER SKITTLES', 'TOY TIDY SPACEBOY  ', 'CHILDRENS CUTLERY CIRCUS PARADE', 'TOY TIDY PINK POLKADOT', 'WOODEN HAPPY BIRTHDAY GARLAND', 'CHILDRENS CUTLERY SPACEBOY ', 'BREAD BIN DINER STYLE PINK', 'UNION STRIPE WITH FRINGE  HAMMOCK', 'PHARMACIE FIRST AID TIN', 'BLUE POLKADOT BOWL', '3 TIER CAKE TIN GREEN AND CREAM', 'RED REFECTORY CLOCK ', 'LUNCH BAG RED RETROSPOT', 'PARTY PIZZA DISH PINK POLKADOT', 'CLASSIC GLASS COOKIE JAR', 'JAM MAKING SET WITH JARS', 'SET OF 20 KIDS COOKIE CUTTERS', '4 TRADITIONAL SPINNING TOPS', 'CAKE STAND WHITE TWO TIER LACE', 'CHARLOTTE BAG APPLES DESIGN', 'CARD BILLBOARD FONT', 'RECIPE BOX PANTRY YELLOW DESIGN', 'RETROSPOT CHILDRENS APRON', 'RED TOADSTOOL LED NIGHT LIGHT', 'RABBIT  DESIGN  COTTON TOTE BAG', 'ALARM CLOCK BAKELIKE RED ', 'SET OF 2 ROUND TINS CAMEMBERT ', 'BELLE JARDINIERE CUSHION COVER', 'CREAM SWEETHEART MINI CHEST', 'WOODEN BOX OF DOMINOES', 'PORCELAIN ROSE LARGE ', 'DOLLY GIRL LUNCH BOX', \"CHILDREN'S APRON DOLLY GIRL \", 'RECYCLED ACAPULCO MAT LAVENDER', 'SPACEBOY MINI BACKPACK', 'IVORY GIANT GARDEN THERMOMETER', 'CHARLOTTE BAG VINTAGE ALPHABET ', 'RETROSPOT LARGE MILK JUG', 'CHILDRENS CUTLERY DOLLY GIRL ', 'GUMBALL COAT RACK', 'JUMBO SHOPPER VINTAGE RED PAISLEY', 'PINK HAPPY BIRTHDAY BUNTING', 'SPACEBOY WALL ART', 'RED RETROSPOT BIG BOWL', 'RED RETROSPOT PLATE ', 'LUNCH BAG VINTAGE DOILY ', 'DOORMAT KEEP CALM AND COME IN', 'PLASTERS IN TIN VINTAGE PAISLEY ', 'RED RETROSPOT BOWL', 'IVORY KITCHEN SCALES', 'CHARLOTTE BAG DOLLY GIRL DESIGN', 'Manual']\n",
      "\n",
      "Recomendaciones:\n",
      "1: WHEELBARROW FOR CHILDREN \n",
      "2: PINK  POLKADOT PLATE \n",
      "3: RED KITCHEN SCALES\n",
      "4: GREEN METAL BOX ARMY SUPPLIES\n",
      "5: WOODEN CROQUET GARDEN SET\n",
      "6: PORCELAIN ROSE SMALL\n",
      "7: JUMBO BAG VINTAGE DOILY \n",
      "8: RED RETROSPOT SHOPPER BAG\n",
      "9: ASSORTED BOTTLE TOP  MAGNETS \n",
      "10: PINK  POLKADOT CUP\n",
      "11: DOLLY GIRL BABY GIFT SET\n",
      "12: CIRCUS PARADE LUNCH BOX \n",
      "13: PINK POLKADOT BOWL\n",
      "14: 20 DOLLY PEGS RETROSPOT\n",
      "15: CHILDRENS TOY COOKING UTENSIL SET\n",
      "16: SET OF 2 TRAYS HOME SWEET HOME\n",
      "17: RED RETROSPOT ROUND CAKE TINS\n",
      "18: DOORSTOP RETROSPOT HEART\n",
      "19: BIRTHDAY PARTY CORDON BARRIER TAPE\n",
      "20: RETROSPOT LAMP\n",
      "\n",
      "Compras del cliente:\n",
      "      Customer ID                          Description  Quantity  TotalPrice\n",
      "8480     12446.00          4 TRADITIONAL SPINNING TOPS        12       17.40\n",
      "8481     12446.00            ALARM CLOCK BAKELIKE RED          4       15.00\n",
      "8482     12446.00        ASSORTED BOTTLE TOP  MAGNETS         12        5.04\n",
      "8483     12446.00        BAKING SET 9 PIECE RETROSPOT          3       14.85\n",
      "8484     12446.00       BELLE JARDINIERE CUSHION COVER         4       15.00\n",
      "8485     12446.00             BIRDHOUSE GARDEN MARKER         10       12.50\n",
      "8486     12446.00          CARD HOLDER LOVE BIRD SMALL         6       24.90\n",
      "8487     12446.00      CHARLOTTE BAG VINTAGE ALPHABET         10        8.50\n",
      "8488     12446.00    CHILDRENS TOY COOKING UTENSIL SET         6       12.48\n",
      "8489     12446.00             CLASSIC GLASS COOKIE JAR         6       24.90\n",
      "8490     12446.00  CLASSIC METAL BIRDCAGE PLANT HOLDER         3       38.25\n",
      "8491     12446.00          CREAM SWEETHEART MINI CHEST         2       25.50\n",
      "8492     12446.00        DOORMAT KEEP CALM AND COME IN         2       16.50\n",
      "8493     12446.00                   DOORMAT UNION FLAG         2       16.50\n",
      "8494     12446.00             DOORSTOP RETROSPOT HEART         4       15.00\n",
      "8495     12446.00        GREEN METAL BOX ARMY SUPPLIES         2       16.50\n",
      "8496     12446.00                    GUMBALL COAT RACK         6       15.30\n",
      "8497     12446.00                 IVORY KITCHEN SCALES         2       17.00\n",
      "8498     12446.00             JAM MAKING SET WITH JARS         6       25.50\n",
      "8499     12446.00                   JUMBO BAG ALPHABET        10       20.80\n",
      "8500     12446.00              JUMBO BAG RED RETROSPOT        10       20.80\n",
      "8501     12446.00             JUMBO BAG VINTAGE DOILY         10       20.80\n",
      "8502     12446.00    JUMBO SHOPPER VINTAGE RED PAISLEY        10       20.80\n",
      "8503     12446.00              LUNCH BAG PINK POLKADOT        10       16.50\n",
      "8504     12446.00              LUNCH BAG RED RETROSPOT        10       16.50\n",
      "8505     12446.00             LUNCH BAG VINTAGE DOILY         10       16.50\n",
      "8506     12446.00                               Manual         1        0.00\n",
      "8507     12446.00            PACK OF 6 BIRDY GIFT TAGS        12       15.00\n",
      "8508     12446.00                        PARTY BUNTING         4       19.80\n",
      "8509     12446.00                PINK  POLKADOT PLATE          8       13.52\n",
      "8510     12446.00      PINK FAIRY CAKE CHILDRENS APRON         8       15.60\n",
      "8511     12446.00          PINK HAPPY BIRTHDAY BUNTING         3       16.35\n",
      "8512     12446.00                   PINK POLKADOT BOWL         8       10.00\n",
      "8513     12446.00      RABBIT  DESIGN  COTTON TOTE BAG         6       13.50\n",
      "8514     12446.00      RECIPE BOX PANTRY YELLOW DESIGN         6       17.70\n",
      "8515     12446.00                   RED KITCHEN SCALES         2       17.00\n",
      "8516     12446.00                 RED REFECTORY CLOCK          2       19.90\n",
      "8517     12446.00                   RED RETROSPOT BOWL         8       10.00\n",
      "8518     12446.00                    RED RETROSPOT CUP         8        6.80\n",
      "8519     12446.00             RED RETROSPOT PICNIC BAG         5       14.75\n",
      "8520     12446.00                 RED RETROSPOT PLATE          8       13.52\n",
      "8521     12446.00            RED RETROSPOT SHOPPER BAG        10       12.50\n",
      "8522     12446.00             REGENCY CAKESTAND 3 TIER         2       25.50\n",
      "8523     12446.00     RETROSPOT TEA SET CERAMIC 11 PC          3       14.85\n",
      "8524     12446.00       SET OF 2 TRAYS HOME SWEET HOME         2       19.90\n",
      "8525     12446.00        SET OF 20 KIDS COOKIE CUTTERS        12       25.20\n",
      "8526     12446.00           SET OF 3 REGENCY CAKE TINS         4       19.80\n",
      "8527     12446.00     SET OF 4 KNICK KNACK TINS DOILY          6       24.90\n",
      "8528     12446.00            SET OF 6 SOLDIER SKITTLES         4       15.00\n",
      "8529     12446.00               SPACEBOY MINI BACKPACK         4       16.60\n",
      "8530     12446.00                    SPACEBOY WALL ART         6       22.50\n",
      "8531     12446.00                       SPOTTY BUNTING         6       29.70\n",
      "8532     12446.00               TOY TIDY PINK POLKADOT         5       10.50\n",
      "8533     12446.00                  TOY TIDY SPACEBOY           5       10.50\n",
      "8534     12446.00      VICTORIAN GLASS HANGING T-LIGHT         6       11.70\n",
      "8535     12446.00            WHEELBARROW FOR CHILDREN          2       25.50\n",
      "8536     12446.00               WOODEN BOX OF DOMINOES        12       15.00\n",
      "8537     12446.00            WOODEN CROQUET GARDEN SET         2       29.90\n"
     ]
    }
   ],
   "source": [
    "from collections import defaultdict\n",
    "\n",
    "user = np.random.choice(users, size=1)[0]\n",
    "target_user_index = user_ids_dict[user]\n",
    "user_purchases = df_prueba[df_prueba['Customer ID'] == user]\n",
    "\n",
    "\n",
    "distancias, indices = kneighborsForUser(3,user)\n",
    "\n",
    "# Contar la frecuencia de compra de los items entre los vecinos\n",
    "frecuencia_items = np.zeros((len(distancias[0]),len(items)))\n",
    "count_vecino = 0\n",
    "for vecino_index in indices[0]:\n",
    "    for item_index in np.where(matriz[vecino_index] > 0)[0]:\n",
    "        frecuencia_items[count_vecino][item_index] += 1\n",
    "    count_vecino += 1\n",
    "\n",
    "# Calcular la popularidad global de cada item\n",
    "popularidad_global = np.sum(matriz > 0, axis=0)\n",
    "\n",
    "# Ponderar los items combinando frecuencia, similitud y popularidad global\n",
    "count_vecino = 0\n",
    "peso_items = defaultdict(float)\n",
    "for vecino_index, distancia in zip(indices[0], distancias[0]):\n",
    "    for item_index in np.where(matriz[vecino_index] > 0)[0]:\n",
    "        peso_items[item_index] += ((1 - distancia)*frecuencia_items[count_vecino][item_index]/popularidad_global[item_index]) #+ popularidad_global[item_index])/(frecuencia_items[count_vecino][item_index] + popularidad_global[item_index])\n",
    "    count_vecino += 1\n",
    "\n",
    "# Ordenar los items por peso (de mayor a menor)\n",
    "items_ordenados = sorted(peso_items.items(), key=lambda x: x[1], reverse=True)\n",
    "\n",
    "# Filtrar solo los items no comprados por el usuario objetivo\n",
    "recomendaciones_priorizadas = [items[item] for item, peso in items_ordenados if item in items_no_comprados]\n",
    "recomendaciones_priorizadas = list(set(recomendaciones_priorizadas) - set(user_purchases))\n",
    "\n",
    "print(recomendaciones_priorizadas)\n",
    "\n",
    "print(\"\\nRecomendaciones:\")\n",
    "for i, item  in enumerate(recomendaciones_priorizadas[0:20], start=1):\n",
    "    print(f\"{i}: {item}\")\n",
    "\n",
    "print(\"\\nCompras del cliente:\")\n",
    "print(user_purchases)"
   ]
  },
  {
   "cell_type": "markdown",
   "metadata": {},
   "source": [
    "<a id='8'></a><center> <h1 style=\"background-color:orange; color:white\" ><br>Analisis de las predicciones<br></h1>"
   ]
  },
  {
   "cell_type": "markdown",
   "metadata": {},
   "source": [
    "\n",
    "\n",
    "## Patrones en las Compras del Cliente  \n",
    "El cliente ha comprado en grandes cantidades productos relacionados con:  \n",
    "\n",
    "### Juguetes y artículos infantiles  \n",
    "- 4 Traditional Spinning Tops  \n",
    "- Set of 6 Soldier Skittles  \n",
    "- Wooden Box of Dominoes  \n",
    "- Spaceboy Mini Backpack  \n",
    "- Spaceboy Wall Art  \n",
    "- Children's Toy Cooking Utensil Set  \n",
    "- Rabbit Design Cotton Tote Bag  \n",
    "\n",
    "### Artículos de cocina y repostería  \n",
    "- Baking Set 9 Piece Retrospot  \n",
    "- Jam Making Set with Jars  \n",
    "- Set of 20 Kids Cookie Cutters  \n",
    "- Red Kitchen Scales  \n",
    "- Ivory Kitchen Scales  \n",
    "- Retrospot Tea Set Ceramic 11 PC  \n",
    "\n",
    "### Accesorios decorativos  \n",
    "- Cream Sweetheart Mini Chest  \n",
    "- Classic Glass Cookie Jar  \n",
    "- Classic Metal Birdcage Plant Holder  \n",
    "- Doorstop Retrospot Heart  \n",
    "- Regency Cakestand 3 Tier  \n",
    "- Set of 3 Regency Cake Tins  \n",
    "\n",
    "### Bolsas y almacenamiento  \n",
    "- Jumbo Bag Red Retrospot  \n",
    "- Jumbo Bag Vintage Doily  \n",
    "- Lunch Bag Pink Polkadot  \n",
    "- Lunch Bag Red Retrospot  \n",
    "- Lunch Bag Vintage Doily  \n",
    "\n",
    "## Recomendaciones  \n",
    "Tomando el **top 20** de ítems recomendados por el algoritmo, encontramos bastantes coincidencias con el patrón de compra del usuario:  \n",
    "\n",
    "- **Productos infantiles y juguetes:**  \n",
    "  - Wheelbarrow for Children  \n",
    "  - Wooden Croquet Garden Set  \n",
    "  - Dolly Girl Baby Gift Set  \n",
    "\n",
    "- **Productos de cocina y repostería:**  \n",
    "  - Red Kitchen Scales  \n",
    "  - Pink Polkadot Plate  \n",
    "  - Pink Polkadot Bowl  \n",
    "\n",
    "- **Accesorios decorativos:**  \n",
    "  - Doorstop Retrospot Heart  \n",
    "  - Set of 2 Trays Home Sweet Home  \n",
    "\n",
    "- **Bolsas y almacenamiento:**  \n",
    "  - Jumbo Bag Vintage Doily  \n",
    "  - Red Retrospot Shopper Bag  \n",
    "\n",
    "En general, las recomendaciones son bastante acertadas, alineándose bien con los hábitos de compra del cliente. Sin embargo, se podría mejorar afinando aún más la selección para priorizar artículos de cocina infantil y juguetes tradicionales.\n"
   ]
  }
 ],
 "metadata": {
  "kaggle": {
   "accelerator": "none",
   "dataSources": [
    {
     "datasetId": 1607581,
     "sourceId": 2643768,
     "sourceType": "datasetVersion"
    }
   ],
   "dockerImageVersionId": 30129,
   "isGpuEnabled": false,
   "isInternetEnabled": false,
   "language": "python",
   "sourceType": "notebook"
  },
  "kernelspec": {
   "display_name": "Python 3",
   "language": "python",
   "name": "python3"
  },
  "language_info": {
   "codemirror_mode": {
    "name": "ipython",
    "version": 3
   },
   "file_extension": ".py",
   "mimetype": "text/x-python",
   "name": "python",
   "nbconvert_exporter": "python",
   "pygments_lexer": "ipython3",
   "version": "3.11.3"
  }
 },
 "nbformat": 4,
 "nbformat_minor": 4
}
