{
  "cells": [
    {
      "cell_type": "markdown",
      "metadata": {},
      "source": [
        "<center> <h1 style=\"background-color:orange; color:white\"><br>Recomendaciones usando KNN<br></h1></center>\n",
        "\n",
        "Este proyecto presenta un enfoque práctico para implementar sistemas de recomendación utilizando el método K-Nearest Neighbors (KNN), comúnmente empleado en el comercio electrónico para personalizar las recomendaciones de productos.\n",
        "\n",
        "El **objetivo principal** es analizar patrones de compra de clientes y generar recomendaciones relevantes basadas en dos enfoques principales:\n",
        "\n",
        "**Filtrado basado en usuarios:** Identificar clientes con comportamientos similares y recomendarles productos comprados por perfiles similares.\n",
        "\n",
        "**Filtrado basado en ítems:** Analizar productos que suelen comprarse juntos y recomendarlos según el historial de compra."
      ]
    },
    {
      "cell_type": "markdown",
      "metadata": {},
      "source": [
        "\n",
        "<center> <h1 style=\"background-color:orange; color:white\"><br>Detalles del dataset<br></h1></center>\n",
        "\n",
        "En el comercio electrónico, recomendar productos relevantes a los clientes es clave para mejorar la experiencia de compra y aumentar las ventas. Uno de los enfoques más utilizados para este propósito es el filtrado colaborativo.\n",
        "##  ¿Cómo Funciona?  \n",
        "El método de recomendación por vecinos cercanos se basa en el análisis de patrones de compra de distintos clientes. La idea principal es que los usuarios con comportamientos de compra similares probablemente compren productos similares.\n",
        "### Enfoques Principales  \n",
        "Existen dos enfoques clave dentro de este método:  \n",
        "\n",
        "1. **Filtrado basado en usuarios:**  \n",
        "   - Se identifican clientes con hábitos de compra similares.  \n",
        "   - Se recomiendan productos que compraron clientes con perfiles similares.  \n",
        "\n",
        "2. **Filtrado basado en ítems:**  \n",
        "   - Se analizan productos que suelen comprarse juntos.  \n",
        "   - Se recomiendan productos que frecuentemente aparecen en el historial de compra de otros clientes con intereses similares.  \n",
        "\n",
        "## Beneficios de Este Método  \n",
        "✔️ **Personalización:** Ofrece recomendaciones adaptadas a cada cliente.  \n",
        "✔️ **Eficiencia:** No requiere información detallada sobre los productos, solo el historial de compras.  \n",
        "✔️ **Escalabilidad:** Funciona bien con grandes volúmenes de datos en plataformas de e-commerce.  \n",
        "✔️ **Explicabilidad:** Aporta información fácil de entender respecto al funcionamiento de las recomendaciones, por ejemplo, permite comprender cuales son los usuarios cercanos y cuales son los productos más recomendados.\n",
        "Este método es ampliamente utilizado por empresas como Amazon, Netflix y Spotify para mejorar la relevancia de sus recomendaciones y potenciar la fidelización de clientes.  \n",
        "\n"
      ]
    },
    {
      "cell_type": "markdown",
      "metadata": {},
      "source": [
        "\n",
        "<center> <h1 style=\"background-color:orange; color:white\"><br>Detalles del dataset<br></h1></center>\n",
        "\n",
        "<br>\n",
        "Un e-commerce busca segmentar a sus clientes y definir estrategias de marketing basadas en estos segmentos. Para ello, analizaremos el comportamiento de los clientes y crearemos grupos utilizando técnicas de clustering.\n",
        "<br><br>\n",
        "<p>\n",
        "- <b>InvoiceNo:</b> Número de factura. Nominal. Es un número entero de 6 dígitos asignado de manera única a cada transacción. Si el código comienza con la letra 'C', indica una cancelación.\n",
        "- <b>StockCode:</b> Código de producto (item). Nominal. Es un número entero de 5 dígitos asignado de manera única a cada producto.<br />\n",
        "- <b>Description:</b> Nombre del producto (item). Nominal.<br />\n",
        "- <b>Quantity:</b> Cantidad de unidades de cada producto por transacción. Numérico.<br />\n",
        "- <b>InvoiceDate:</b> Fecha y hora de la factura. Nomérico. Indica el día y la hora en que se generó una transacción.<br />\n",
        "- <b>UnitPrice:</b> Precio unitario. Numérico. Representa el precio de cada producto en libras esterlinas (£).<br />\n",
        "- <b>CustomerID:</b> Número de cliente. Nominal. Es un número entero de 5 dígitos asignado de manera única a cada cliente.<br />\n",
        "- <b>Country:</b> País. Nominal. Indica el país de residencia del cliente.<br />"
      ]
    },
    {
      "cell_type": "markdown",
      "metadata": {},
      "source": [
        "<a id='1'></a><center> <h1 style=\"background-color:orange; color:white\" ><br>Analisis exploratorio y limpieza de datos<br></h1>"
      ]
    },
    {
      "cell_type": "code",
      "execution_count": 1,
      "metadata": {
        "trusted": true
      },
      "outputs": [],
      "source": [
        "import pandas as pd\n",
        "import numpy as np\n",
        "import seaborn as sns\n",
        "import datetime as dt\n",
        "import matplotlib.pyplot as plt\n",
        "from sklearn.cluster import KMeans\n",
        "from sklearn.preprocessing import MinMaxScaler\n",
        "import numpy as np\n",
        "from sklearn.cluster import KMeans\n",
        "from scipy.spatial.distance import cosine\n",
        "\n",
        "import warnings\n",
        "\n",
        "pd.set_option('display.float_format', lambda x: '%.2f' % x)"
      ]
    },
    {
      "cell_type": "code",
      "execution_count": 2,
      "metadata": {
        "execution": {
          "iopub.execute_input": "2021-09-25T21:36:27.00886Z",
          "iopub.status.busy": "2021-09-25T21:36:27.008619Z",
          "iopub.status.idle": "2021-09-25T21:36:29.246318Z",
          "shell.execute_reply": "2021-09-25T21:36:29.245246Z",
          "shell.execute_reply.started": "2021-09-25T21:36:27.008838Z"
        },
        "trusted": true
      },
      "outputs": [],
      "source": [
        "df = pd.read_csv(\"online_retail_listing.csv\",delimiter=';',encoding=\"latin-1\")"
      ]
    },
    {
      "cell_type": "code",
      "execution_count": 3,
      "metadata": {
        "execution": {
          "iopub.execute_input": "2021-09-25T21:36:30.745864Z",
          "iopub.status.busy": "2021-09-25T21:36:30.745563Z",
          "iopub.status.idle": "2021-09-25T21:36:30.769782Z",
          "shell.execute_reply": "2021-09-25T21:36:30.768559Z",
          "shell.execute_reply.started": "2021-09-25T21:36:30.745839Z"
        },
        "trusted": true
      },
      "outputs": [
        {
          "data": {
            "text/html": [
              "<div>\n",
              "<style scoped>\n",
              "    .dataframe tbody tr th:only-of-type {\n",
              "        vertical-align: middle;\n",
              "    }\n",
              "\n",
              "    .dataframe tbody tr th {\n",
              "        vertical-align: top;\n",
              "    }\n",
              "\n",
              "    .dataframe thead th {\n",
              "        text-align: right;\n",
              "    }\n",
              "</style>\n",
              "<table border=\"1\" class=\"dataframe\">\n",
              "  <thead>\n",
              "    <tr style=\"text-align: right;\">\n",
              "      <th></th>\n",
              "      <th>Invoice</th>\n",
              "      <th>StockCode</th>\n",
              "      <th>Description</th>\n",
              "      <th>Quantity</th>\n",
              "      <th>InvoiceDate</th>\n",
              "      <th>Price</th>\n",
              "      <th>Customer ID</th>\n",
              "      <th>Country</th>\n",
              "    </tr>\n",
              "  </thead>\n",
              "  <tbody>\n",
              "    <tr>\n",
              "      <th>0</th>\n",
              "      <td>489434</td>\n",
              "      <td>85048</td>\n",
              "      <td>15CM CHRISTMAS GLASS BALL 20 LIGHTS</td>\n",
              "      <td>12</td>\n",
              "      <td>1.12.2009 07:45</td>\n",
              "      <td>6.95</td>\n",
              "      <td>13085.00</td>\n",
              "      <td>United Kingdom</td>\n",
              "    </tr>\n",
              "    <tr>\n",
              "      <th>1</th>\n",
              "      <td>489434</td>\n",
              "      <td>79323P</td>\n",
              "      <td>PINK CHERRY LIGHTS</td>\n",
              "      <td>12</td>\n",
              "      <td>1.12.2009 07:45</td>\n",
              "      <td>6.75</td>\n",
              "      <td>13085.00</td>\n",
              "      <td>United Kingdom</td>\n",
              "    </tr>\n",
              "    <tr>\n",
              "      <th>2</th>\n",
              "      <td>489434</td>\n",
              "      <td>79323W</td>\n",
              "      <td>WHITE CHERRY LIGHTS</td>\n",
              "      <td>12</td>\n",
              "      <td>1.12.2009 07:45</td>\n",
              "      <td>6.75</td>\n",
              "      <td>13085.00</td>\n",
              "      <td>United Kingdom</td>\n",
              "    </tr>\n",
              "    <tr>\n",
              "      <th>3</th>\n",
              "      <td>489434</td>\n",
              "      <td>22041</td>\n",
              "      <td>RECORD FRAME 7\" SINGLE SIZE</td>\n",
              "      <td>48</td>\n",
              "      <td>1.12.2009 07:45</td>\n",
              "      <td>2.10</td>\n",
              "      <td>13085.00</td>\n",
              "      <td>United Kingdom</td>\n",
              "    </tr>\n",
              "    <tr>\n",
              "      <th>4</th>\n",
              "      <td>489434</td>\n",
              "      <td>21232</td>\n",
              "      <td>STRAWBERRY CERAMIC TRINKET BOX</td>\n",
              "      <td>24</td>\n",
              "      <td>1.12.2009 07:45</td>\n",
              "      <td>1.25</td>\n",
              "      <td>13085.00</td>\n",
              "      <td>United Kingdom</td>\n",
              "    </tr>\n",
              "  </tbody>\n",
              "</table>\n",
              "</div>"
            ],
            "text/plain": [
              "  Invoice StockCode Description Quantity \\\n",
              "0 489434 85048 15CM CHRISTMAS GLASS BALL 20 LIGHTS 12 \n",
              "1 489434 79323P PINK CHERRY LIGHTS 12 \n",
              "2 489434 79323W WHITE CHERRY LIGHTS 12 \n",
              "3 489434 22041 RECORD FRAME 7\" SINGLE SIZE 48 \n",
              "4 489434 21232 STRAWBERRY CERAMIC TRINKET BOX 24 \n",
              "\n",
              " InvoiceDate Price Customer ID Country \n",
              "0 1.12.2009 07:45 6.95 13085.00 United Kingdom \n",
              "1 1.12.2009 07:45 6.75 13085.00 United Kingdom \n",
              "2 1.12.2009 07:45 6.75 13085.00 United Kingdom \n",
              "3 1.12.2009 07:45 2.10 13085.00 United Kingdom \n",
              "4 1.12.2009 07:45 1.25 13085.00 United Kingdom "
            ]
          },
          "execution_count": 3,
          "metadata": {},
          "output_type": "execute_result"
        }
      ],
      "source": [
        "df.head()"
      ]
    },
    {
      "cell_type": "code",
      "execution_count": 4,
      "metadata": {
        "execution": {
          "iopub.execute_input": "2021-09-25T21:36:34.498782Z",
          "iopub.status.busy": "2021-09-25T21:36:34.498528Z",
          "iopub.status.idle": "2021-09-25T21:36:34.50695Z",
          "shell.execute_reply": "2021-09-25T21:36:34.504871Z",
          "shell.execute_reply.started": "2021-09-25T21:36:34.49876Z"
        },
        "trusted": true
      },
      "outputs": [
        {
          "data": {
            "text/plain": [
              "(1048575, 8)"
            ]
          },
          "execution_count": 4,
          "metadata": {},
          "output_type": "execute_result"
        }
      ],
      "source": [
        "df.shape"
      ]
    },
    {
      "cell_type": "code",
      "execution_count": 5,
      "metadata": {
        "execution": {
          "iopub.execute_input": "2021-09-25T21:36:38.221107Z",
          "iopub.status.busy": "2021-09-25T21:36:38.220831Z",
          "iopub.status.idle": "2021-09-25T21:36:38.481569Z",
          "shell.execute_reply": "2021-09-25T21:36:38.48052Z",
          "shell.execute_reply.started": "2021-09-25T21:36:38.221083Z"
        },
        "trusted": true
      },
      "outputs": [
        {
          "name": "stdout",
          "output_type": "stream",
          "text": [
            "<class 'pandas.core.frame.DataFrame'>\n",
            "RangeIndex: 1048575 entries, 0 to 1048574\n",
            "Data columns (total 8 columns):\n",
            " # Column Non-Null Count Dtype \n",
            "--- ------ -------------- ----- \n",
            " 0 Invoice 1048575 non-null object \n",
            " 1 StockCode 1048575 non-null object \n",
            " 2 Description 1044203 non-null object \n",
            " 3 Quantity 1048575 non-null int64 \n",
            " 4 InvoiceDate 1048575 non-null object \n",
            " 5 Price 1048575 non-null object \n",
            " 6 Customer ID 811893 non-null float64\n",
            " 7 Country 1048575 non-null object \n",
            "dtypes: float64(1), int64(1), object(6)\n",
            "memory usage: 64.0+ MB\n"
          ]
        }
      ],
      "source": [
        "df.info()"
      ]
    },
    {
      "cell_type": "code",
      "execution_count": 6,
      "metadata": {},
      "outputs": [
        {
          "data": {
            "text/html": [
              "<div>\n",
              "<style scoped>\n",
              " .dataframe tbody tr th:only-of-type {\n",
              " vertical-align: middle;\n",
              " }\n",
              "\n",
              " .dataframe tbody tr th {\n",
              " vertical-align: top;\n",
              " }\n",
              "\n",
              " .dataframe thead th {\n",
              " text-align: right;\n",
              " }\n",
              "</style>\n",
              "<table border=\"1\" class=\"dataframe\">\n",
              " <thead>\n",
              " <tr style=\"text-align: right;\">\n",
              " <th></th>\n",
              " <th>Invoice</th>\n",
              " <th>StockCode</th>\n",
 "nbformat_minor": 4
}
